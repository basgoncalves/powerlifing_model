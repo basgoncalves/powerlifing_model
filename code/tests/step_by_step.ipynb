{
 "cells": [
  {
   "cell_type": "code",
   "execution_count": null,
   "id": "a7d2bf98",
   "metadata": {},
   "outputs": [],
   "source": [
    "import c3d\n",
    "import paths\n",
    "import opensim as osim\n",
    "import utils\n",
    "import numpy as np\n"
   ]
  },
  {
   "cell_type": "code",
   "execution_count": null,
   "id": "1c9401e9",
   "metadata": {},
   "outputs": [],
   "source": [
    "file = paths.USED_MODEL\n",
    "print(f\"Using model: {file}\")"
   ]
  },
  {
   "cell_type": "code",
   "execution_count": null,
   "id": "d83ec530",
   "metadata": {},
   "outputs": [],
   "source": [
    "model = osim.Model(file)"
   ]
  },
  {
   "cell_type": "code",
   "execution_count": null,
   "id": "862eff1f",
   "metadata": {},
   "outputs": [],
   "source": [
    "# Get the coordinate set from the model\n",
    "coordinate_set = model.getCoordinateSet()\n",
    "all_muscles = model.getMuscles()\n",
    "state = model.initSystem()  # Initialize the system to get a valid state\n",
    "\n",
    "# Iterate through each coordinate in the model\n",
    "for i in range(coordinate_set.getSize()):\n",
    "    coord = coordinate_set.get(i)\n",
    "    coord_name = coord.getName()\n",
    "    range_min = coord.getRangeMin()\n",
    "    range_max = coord.getRangeMax()\n",
    "    print(f\"Coordinate: {coord_name}, Range: [{range_min}, {range_max}]\")\n",
    "    \n",
    "    # create numpy list for coordinates with 10 values between min and max\n",
    "    coord_values = np.linspace(range_min, range_max, 10)\n",
    "    for j in range(all_muscles.getSize()):\n",
    "        muscle = all_muscles.get(j)\n",
    "        muscle_name = muscle.getName()\n",
    "        \n",
    "        # compute moment arm for all the points in the coordinate_values\n",
    "        moment_arms = []\n",
    "        for value in coord_values:\n",
    "            coord.setValue(state, value)\n",
    "            moment_arm = muscle.computeMomentArm(state, coord)\n",
    "            moment_arms.append(moment_arm)\n",
    "        \n",
    "        # if any of the moment arms is > 1e-5, print the muscle and coordinate\n",
    "        if any(np.abs(moment_arms) > 0.01):\n",
    "            print(f\"Muscle: {muscle_name} has a moment arm for coordinate: {coord_name}\")\n",
    "            \n",
    "    "
   ]
  },
  {
   "cell_type": "code",
   "execution_count": null,
   "id": "bfed3a86",
   "metadata": {},
   "outputs": [],
   "source": [
    "# Get the coordinate set from the model\n",
    "coordinate_set = model.getCoordinateSet()\n",
    "all_muscles = model.getMuscles()\n",
    "state = model.initSystem()  # Initialize the system to get a valid state\n",
    "\n",
    "# Iterate through each coordinate in the model\n",
    "for i in range(coordinate_set.getSize()):\n",
    "    coord = coordinate_set.get(i)\n",
    "    coord_name = coord.getName()\n",
    "    range_min = coord.getRangeMin()\n",
    "    range_max = coord.getRangeMax()\n",
    "    print(f\"\\nCoordinate: {coord_name}\")\n",
    "\n",
    "    # Find muscles that actuate this coordinate\n",
    "    actuating_muscles = []\n",
    "    for j in range(all_muscles.getSize()):\n",
    "        muscle = all_muscles.get(j)\n",
    "        # Check if the moment arm is non-zero for this coordinate\n",
    "        try:\n",
    "            moment_arm = muscle.computeMomentArm(state, coord)\n",
    "            if abs(moment_arm) > 1e-6:\n",
    "                actuating_muscles.append(muscle.getName())\n",
    "        except Exception as e:\n",
    "            pass  # Some muscles may not be able to compute moment arm for some coordinates\n",
    "\n",
    "    if actuating_muscles:\n",
    "        print(\"  Muscles:\")\n",
    "        for m_name in actuating_muscles:\n",
    "            print(f\"    - {m_name}\")\n",
    "    else:\n",
    "        print(\"  No muscles actuate this coordinate.\")\n",
    "\n",
    "    "
   ]
  },
  {
   "cell_type": "code",
   "execution_count": null,
   "id": "10fca5b4",
   "metadata": {},
   "outputs": [],
   "source": [
    "import opensim as osim\n",
    "\n",
    "# Load your OpenSim model\n",
    "model = osim.Model(paths.USED_MODEL)\n",
    "\n",
    "# Initialize an empty list to store all muscle objects\n",
    "all_muscles = []\n",
    "\n",
    "# Get the complete set of forces from the model\n",
    "force_set = model.getForceSet()\n",
    "\n",
    "print(f\"Scanning {force_set.getSize()} components in the model's ForceSet...\")\n",
    "\n",
    "# Loop through every component in the ForceSet\n",
    "for i in range(force_set.getSize()):\n",
    "    # Get the current force component\n",
    "    force = force_set.get(i)\n",
    "    \n",
    "    # Try to cast the force component to the 'Muscle' type\n",
    "    # This will return a valid muscle object if the cast is successful,\n",
    "    # and 'None' if it is not a muscle (e.g., a ligament).\n",
    "    muscle = osim.Muscle.safeDownCast(force)\n",
    "    \n",
    "    # If the cast was successful, 'muscle' will not be None\n",
    "    if muscle:\n",
    "        all_muscles.append(muscle)\n",
    "\n",
    "# --- Verification ---\n",
    "# Print the total number of muscles found\n",
    "print(f\"\\n✅ Success! Found a total of {len(all_muscles)} muscles.\")\n",
    "\n",
    "# Print the names of the first 10 muscles found to confirm\n",
    "print(\"\\n--- Muscle List (first 10) ---\")\n",
    "for muscle in all_muscles[:10]:\n",
    "    print(f\"- {muscle.getName()}\")"
   ]
  },
  {
   "cell_type": "code",
   "execution_count": null,
   "id": "fb9b223a",
   "metadata": {},
   "outputs": [],
   "source": [
    "import xml.etree.ElementTree as ET\n",
    "\n",
    "xml_path = r\"C:\\Git\\1_current_projects\\powerlifing_model\\code\\setupFiles\\Rajagopal\\acquisition.xml\"\n",
    "\n",
    "# Read the XML file\n",
    "tree = ET.parse(xml_path)\n",
    "root = tree.getroot()\n",
    "\n",
    "# Find and print the current laboratory name tag\n",
    "lab_tag = root.find('.//laboratory')\n",
    "if lab_tag is not None:\n",
    "    print(\"Current laboratory name:\", lab_tag.text)\n",
    "    # Change the laboratory name\n",
    "    lab_tag.text = \"NewLabName\"\n",
    "    print(\"Laboratory name changed to:\", lab_tag.text)\n",
    "    # Save the changes back to the XML file\n",
    "    tree.write(xml_path)\n",
    "else:\n",
    "    print(\"Laboratory tag not found.\")"
   ]
  },
  {
   "cell_type": "code",
   "execution_count": null,
   "id": "8a14a75b",
   "metadata": {},
   "outputs": [],
   "source": [
    "def get_tag_and_subtags(xml_path, tag):\n",
    "    \"\"\"\n",
    "    Returns the text content of the specified tag and its subtags from the XML file.\n",
    "\n",
    "    Args:\n",
    "        xml_path (str): Path to the XML file.\n",
    "        tag (str): Tag to search for (e.g., 'laboratory').\n",
    "\n",
    "    Returns:\n",
    "        dict: Dictionary with tag and its subtags as keys and their text as values.\n",
    "    \"\"\"\n",
    "    tree = ET.parse(xml_path)\n",
    "    root = tree.getroot()\n",
    "    result = {}\n",
    "\n",
    "    main_tag = root.find(f'.//{tag}')\n",
    "    if main_tag is not None:\n",
    "        result[tag] = main_tag.text\n",
    "        for sub in main_tag:\n",
    "            result[sub.tag] = sub.text\n",
    "    else:\n",
    "        print(f\"Tag <{tag}> not found.\")\n",
    "    return result\n",
    "\n",
    "# Example usage:\n",
    "# info = get_tag_and_subtags(xml_path, 'laboratory')\n",
    "# print(info)"
   ]
  },
  {
   "cell_type": "code",
   "execution_count": null,
   "id": "c3629a82",
   "metadata": {},
   "outputs": [],
   "source": []
  },
  {
   "cell_type": "markdown",
   "id": "ca2deef7",
   "metadata": {},
   "source": [
    "# Visualise 2 trials for comparison"
   ]
  },
  {
   "cell_type": "code",
   "execution_count": null,
   "id": "d5355865",
   "metadata": {},
   "outputs": [],
   "source": [
    "import paths\n",
    "print(f\"Using model: {paths.USED_MODEL}\")"
   ]
  }
 ],
 "metadata": {
  "kernelspec": {
   "display_name": "msk",
   "language": "python",
   "name": "python3"
  },
  "language_info": {
   "codemirror_mode": {
    "name": "ipython",
    "version": 3
   },
   "file_extension": ".py",
   "mimetype": "text/x-python",
   "name": "python",
   "nbconvert_exporter": "python",
   "pygments_lexer": "ipython3",
   "version": "3.11.9"
  }
 },
 "nbformat": 4,
 "nbformat_minor": 5
}
