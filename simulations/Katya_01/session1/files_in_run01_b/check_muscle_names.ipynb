{
 "cells": [
  {
   "cell_type": "code",
   "execution_count": 1,
   "id": "6f941303",
   "metadata": {},
   "outputs": [],
   "source": [
    "import opensim as osim\n",
    "import os\n",
    "import pandas as pd"
   ]
  },
  {
   "cell_type": "code",
   "execution_count": 2,
   "id": "797c671e",
   "metadata": {},
   "outputs": [],
   "source": [
    "model_path = r\"C:\\Users\\User\\OneDrive\\Documents\\WORK\\JRF_GaitAnalysis\\001\\P01\\model_update\\5_optimised\\P01_pers.osim\""
   ]
  },
  {
   "cell_type": "code",
   "execution_count": 3,
   "id": "00a4ac71",
   "metadata": {},
   "outputs": [],
   "source": [
    "model = osim.Model(model_path)"
   ]
  },
  {
   "cell_type": "code",
   "execution_count": 4,
   "id": "659ab32b",
   "metadata": {},
   "outputs": [],
   "source": [
    "muscles = model.getMuscles()\n",
    "muscle_names = [muscle.getName() for muscle in muscles]"
   ]
  },
  {
   "cell_type": "code",
   "execution_count": 5,
   "id": "f5195749",
   "metadata": {},
   "outputs": [],
   "source": [
    "import xml.etree.ElementTree as ET"
   ]
  },
  {
   "cell_type": "code",
   "execution_count": 6,
   "id": "68e42f82",
   "metadata": {},
   "outputs": [
    {
     "data": {
      "text/plain": [
       "set()"
      ]
     },
     "execution_count": 6,
     "metadata": {},
     "output_type": "execute_result"
    }
   ],
   "source": [
    "tree=ET.parse(\"excitationGenerator.xml\")\n",
    "root = tree.getroot()\n",
    "excitation_muscles = []\n",
    "for obj in root.iter('excitation'):\n",
    "    muscle = obj.attrib['id']\n",
    "    excitation_muscles.append(muscle)\n",
    "set(excitation_muscles) - set(muscle_names)\n"
   ]
  },
  {
   "cell_type": "code",
   "execution_count": 7,
   "id": "24061584",
   "metadata": {},
   "outputs": [
    {
     "data": {
      "text/plain": [
       "(80, 80)"
      ]
     },
     "execution_count": 7,
     "metadata": {},
     "output_type": "execute_result"
    }
   ],
   "source": [
    "len(muscle_names), len(excitation_muscles)"
   ]
  },
  {
   "cell_type": "code",
   "execution_count": 25,
   "id": "fb760c38",
   "metadata": {},
   "outputs": [],
   "source": [
    "tree=ET.parse(\"ceinms_cfg.xml\")\n",
    "root = tree.getroot()\n",
    "synthMTUs = []\n",
    "adjustMTUs = []\n",
    "dofs = []\n",
    "for obj in root.iter('synthMTUs'):\n",
    "    synthMTUs += obj.text.strip().split(' ')\n",
    "for obj in root.iter('adjustMTUs'):\n",
    "    adjustMTUs += obj.text.strip().split(' ')\n",
    "for obj in root.iter('dofSet'):\n",
    "    dofs += obj.text.strip().split(' ')\n"
   ]
  },
  {
   "cell_type": "code",
   "execution_count": 19,
   "id": "31acc823",
   "metadata": {},
   "outputs": [
    {
     "data": {
      "text/plain": [
       "set()"
      ]
     },
     "execution_count": 19,
     "metadata": {},
     "output_type": "execute_result"
    }
   ],
   "source": [
    "set(synthMTUs) & set(adjustMTUs)"
   ]
  },
  {
   "cell_type": "code",
   "execution_count": null,
   "id": "9f8d013d",
   "metadata": {},
   "outputs": [
    {
     "data": {
      "text/plain": [
       "set()"
      ]
     },
     "execution_count": 22,
     "metadata": {},
     "output_type": "execute_result"
    }
   ],
   "source": [
    "(set(synthMTUs)|set(adjustMTUs)) - set(muscle_names)"
   ]
  },
  {
   "cell_type": "code",
   "execution_count": 23,
   "id": "fd3cce8e",
   "metadata": {},
   "outputs": [
    {
     "data": {
      "text/plain": [
       "(42, 42)"
      ]
     },
     "execution_count": 23,
     "metadata": {},
     "output_type": "execute_result"
    }
   ],
   "source": [
    "len(set(synthMTUs)), len(synthMTUs)"
   ]
  },
  {
   "cell_type": "code",
   "execution_count": 24,
   "id": "bedd1a92",
   "metadata": {},
   "outputs": [
    {
     "data": {
      "text/plain": [
       "(38, 38)"
      ]
     },
     "execution_count": 24,
     "metadata": {},
     "output_type": "execute_result"
    }
   ],
   "source": [
    "len(set(adjustMTUs)), len(adjustMTUs)"
   ]
  },
  {
   "cell_type": "code",
   "execution_count": 26,
   "id": "fae4cd24",
   "metadata": {},
   "outputs": [],
   "source": [
    "tree=ET.parse(\"subjectCalibrated_hybrid.xml\")\n",
    "root = tree.getroot()\n",
    "subject_dofs = []\n",
    "for obj in root.iter('dof'):\n",
    "    subject_dofs.append(obj.find('name').text)"
   ]
  },
  {
   "cell_type": "code",
   "execution_count": 27,
   "id": "c93846a5",
   "metadata": {},
   "outputs": [
    {
     "data": {
      "text/plain": [
       "(10, 10)"
      ]
     },
     "execution_count": 27,
     "metadata": {},
     "output_type": "execute_result"
    }
   ],
   "source": [
    "len(dofs), len(subject_dofs)"
   ]
  },
  {
   "cell_type": "code",
   "execution_count": 28,
   "id": "3bb9b6da",
   "metadata": {},
   "outputs": [
    {
     "data": {
      "text/plain": [
       "set()"
      ]
     },
     "execution_count": 28,
     "metadata": {},
     "output_type": "execute_result"
    }
   ],
   "source": [
    "set(dofs) - set(subject_dofs)"
   ]
  },
  {
   "cell_type": "code",
   "execution_count": 29,
   "id": "89a22cd4",
   "metadata": {},
   "outputs": [
    {
     "name": "stdout",
     "output_type": "stream",
     "text": [
      "hip_flexion_r: ['addbrev_r', 'addlong_r', 'addmagDist_r', 'addmagIsch_r', 'addmagMid_r', 'addmagProx_r', 'bflh_r', 'glmax1_r', 'glmax2_r', 'glmax3_r', 'glmed1_r', 'glmed2_r', 'glmed3_r', 'glmin1_r', 'glmin2_r', 'glmin3_r', 'grac_r', 'iliacus_r', 'piri_r', 'psoas_r', 'recfem_r', 'sart_r', 'semimem_r', 'semiten_r', 'tfl_r']\n",
      "hip_adduction_r: ['addbrev_r', 'addlong_r', 'addmagDist_r', 'addmagIsch_r', 'addmagMid_r', 'addmagProx_r', 'bflh_r', 'glmax1_r', 'glmax2_r', 'glmax3_r', 'glmed1_r', 'glmed2_r', 'glmed3_r', 'glmin1_r', 'glmin2_r', 'glmin3_r', 'grac_r', 'iliacus_r', 'piri_r', 'psoas_r', 'recfem_r', 'sart_r', 'semimem_r', 'semiten_r', 'tfl_r']\n",
      "hip_rotation_r: ['addbrev_r', 'addlong_r', 'addmagDist_r', 'addmagIsch_r', 'addmagMid_r', 'addmagProx_r', 'bflh_r', 'glmax1_r', 'glmax2_r', 'glmax3_r', 'glmed1_r', 'glmed2_r', 'glmed3_r', 'glmin1_r', 'glmin2_r', 'glmin3_r', 'grac_r', 'iliacus_r', 'piri_r', 'psoas_r', 'recfem_r', 'sart_r', 'semimem_r', 'semiten_r', 'tfl_r']\n",
      "knee_angle_r: ['bflh_r', 'bfsh_r', 'gaslat_r', 'gasmed_r', 'grac_r', 'recfem_r', 'sart_r', 'semimem_r', 'semiten_r', 'tfl_r', 'vasint_r', 'vaslat_r', 'vasmed_r']\n",
      "ankle_angle_r: ['edl_r', 'ehl_r', 'fdl_r', 'fhl_r', 'gaslat_r', 'gasmed_r', 'perbrev_r', 'perlong_r', 'soleus_r', 'tibant_r', 'tibpost_r']\n",
      "hip_flexion_l: ['addbrev_l', 'addlong_l', 'addmagDist_l', 'addmagIsch_l', 'addmagMid_l', 'addmagProx_l', 'bflh_l', 'glmax1_l', 'glmax2_l', 'glmax3_l', 'glmed1_l', 'glmed2_l', 'glmed3_l', 'glmin1_l', 'glmin2_l', 'glmin3_l', 'grac_l', 'iliacus_l', 'piri_l', 'psoas_l', 'recfem_l', 'sart_l', 'semimem_l', 'semiten_l', 'tfl_l']\n",
      "hip_adduction_l: ['addbrev_l', 'addlong_l', 'addmagDist_l', 'addmagIsch_l', 'addmagMid_l', 'addmagProx_l', 'bflh_l', 'glmax1_l', 'glmax2_l', 'glmax3_l', 'glmed1_l', 'glmed2_l', 'glmed3_l', 'glmin1_l', 'glmin2_l', 'glmin3_l', 'grac_l', 'iliacus_l', 'piri_l', 'psoas_l', 'recfem_l', 'sart_l', 'semimem_l', 'semiten_l', 'tfl_l']\n",
      "hip_rotation_l: ['addbrev_l', 'addlong_l', 'addmagDist_l', 'addmagIsch_l', 'addmagMid_l', 'addmagProx_l', 'bflh_l', 'glmax1_l', 'glmax2_l', 'glmax3_l', 'glmed1_l', 'glmed2_l', 'glmed3_l', 'glmin1_l', 'glmin2_l', 'glmin3_l', 'grac_l', 'iliacus_l', 'piri_l', 'psoas_l', 'recfem_l', 'sart_l', 'semimem_l', 'semiten_l', 'tfl_l']\n",
      "knee_angle_l: ['bflh_l', 'bfsh_l', 'gaslat_l', 'gasmed_l', 'grac_l', 'recfem_l', 'sart_l', 'semimem_l', 'semiten_l', 'tfl_l', 'vasint_l', 'vaslat_l', 'vasmed_l']\n",
      "ankle_angle_l: ['edl_l', 'ehl_l', 'fdl_l', 'fhl_l', 'gaslat_l', 'gasmed_l', 'perbrev_l', 'perlong_l', 'soleus_l', 'tibant_l', 'tibpost_l']\n"
     ]
    }
   ],
   "source": [
    "mscls = []\n",
    "for dof in subject_dofs:\n",
    "    for obj in root.iter('dof'):\n",
    "        if obj.find('name').text == dof:\n",
    "            mtu_names = obj.find('mtuNameSet').text.strip().split(' ')\n",
    "            print(f\"{dof}: {mtu_names}\")\n",
    "            mscls += mtu_names"
   ]
  },
  {
   "cell_type": "code",
   "execution_count": 30,
   "id": "6508871e",
   "metadata": {},
   "outputs": [
    {
     "data": {
      "text/plain": [
       "(198, 80)"
      ]
     },
     "execution_count": 30,
     "metadata": {},
     "output_type": "execute_result"
    }
   ],
   "source": [
    "len(mscls), len(set(mscls))"
   ]
  },
  {
   "cell_type": "code",
   "execution_count": 31,
   "id": "ec80e995",
   "metadata": {},
   "outputs": [
    {
     "data": {
      "text/plain": [
       "set()"
      ]
     },
     "execution_count": 31,
     "metadata": {},
     "output_type": "execute_result"
    }
   ],
   "source": [
    "set(mscls) - set(muscle_names)"
   ]
  }
 ],
 "metadata": {
  "kernelspec": {
   "display_name": "py311",
   "language": "python",
   "name": "python3"
  },
  "language_info": {
   "codemirror_mode": {
    "name": "ipython",
    "version": 3
   },
   "file_extension": ".py",
   "mimetype": "text/x-python",
   "name": "python",
   "nbconvert_exporter": "python",
   "pygments_lexer": "ipython3",
   "version": "3.11.11"
  }
 },
 "nbformat": 4,
 "nbformat_minor": 5
}
