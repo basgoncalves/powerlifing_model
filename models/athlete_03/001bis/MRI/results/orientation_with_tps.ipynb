{
 "cells": [
  {
   "cell_type": "markdown",
   "id": "bdba2610",
   "metadata": {},
   "source": [
    "# Start "
   ]
  },
  {
   "cell_type": "markdown",
   "id": "8a213e1d",
   "metadata": {},
   "source": [
    "<div class=\"alert alert-block alert-info\">\n",
    "<b>In3dSlicer GUI</b>:\n",
    "<p>1. Load MRI last folder</p>\n",
    "<p>2. Load markers template. Save project and files in a new folder inside the individual, make sure to change the default folder for all files.</p>\n",
    "\n",
    "</div>"
   ]
  },
  {
   "cell_type": "markdown",
   "id": "6dde710c",
   "metadata": {},
   "source": [
    "# Load Libraries and Initiate Functions"
   ]
  },
  {
   "cell_type": "code",
   "execution_count": 4,
   "id": "ff16560d",
   "metadata": {},
   "outputs": [],
   "source": [
    "import numpy as np\n",
    "import pandas as pd\n",
    "import os\n",
    "import slicer\n",
    "import math\n",
    "import vtk\n",
    "\n",
    "from tps import ThinPlateSpline\n"
   ]
  },
  {
   "cell_type": "code",
   "execution_count": 8,
   "id": "59df4b98",
   "metadata": {},
   "outputs": [],
   "source": [
    "# helper functions:\n",
    "\n",
    "def sphereFit(data):\n",
    "    #   Assemble the A matrix\n",
    "    spX = np.array(data[:,0])\n",
    "    spY = np.array(data[:,1])\n",
    "    spZ = np.array(data[:,2])\n",
    "    A = np.zeros((len(spX),4))\n",
    "    A[:,0] = spX*2\n",
    "    A[:,1] = spY*2\n",
    "    A[:,2] = spZ*2\n",
    "    A[:,3] = 1\n",
    "\n",
    "    #   Assemble the f matrix\n",
    "    f = np.zeros((len(spX),1))\n",
    "    f[:,0] = (spX*spX) + (spY*spY) + (spZ*spZ)\n",
    "    C, residules, rank, singval = np.linalg.lstsq(A,f, rcond = None)\n",
    "\n",
    "    #   solve for the radius\n",
    "    t = np.dot(C[0],C[0])+np.dot(C[1],C[1])+np.dot(C[2],C[2])+C[3]\n",
    " \n",
    "    radius = math.sqrt(t[0])\n",
    "    center = np.array([C[0], C[1], C[2]])\n",
    "\n",
    "    return radius, center\n",
    "\n",
    "def plane_normal(p1, p2, p3):\n",
    "    v1 = p1 - p2\n",
    "    v2 = p3 - p2\n",
    "    v3 = np.cross(v1, v2)\n",
    "    return v3/np.linalg.norm(v3)\n",
    "\n",
    "def setSlicePoseFromSliceNormalAndPosition(sliceNode, sliceNormal, slicePosition, defaultViewUpDirection=None, backupViewRightDirection=None):\n",
    "    \n",
    "    ## Fix up input directions\n",
    "    if defaultViewUpDirection is None:\n",
    "        defaultViewUpDirection = [0,0,1]\n",
    "    if backupViewRightDirection is None:\n",
    "        backupViewRightDirection = [-1,0,0]\n",
    "    if sliceNormal[1]>=0:\n",
    "        sliceNormalStandardized = sliceNormal\n",
    "    else:\n",
    "        sliceNormalStandardized = [-sliceNormal[0], -sliceNormal[1], -sliceNormal[2]]\n",
    "\n",
    "        ## Compute slice axes\n",
    "    sliceNormalViewUpAngle = vtk.vtkMath.AngleBetweenVectors(sliceNormalStandardized, defaultViewUpDirection)\n",
    "    angleTooSmallThresholdRad = 0.25 # about 15 degrees\n",
    "    if sliceNormalViewUpAngle > angleTooSmallThresholdRad and sliceNormalViewUpAngle < vtk.vtkMath.Pi() - angleTooSmallThresholdRad:\n",
    "        viewUpDirection = defaultViewUpDirection\n",
    "        sliceAxisY = viewUpDirection\n",
    "        sliceAxisX = [0, 0, 0]\n",
    "        vtk.vtkMath.Cross(sliceAxisY, sliceNormalStandardized, sliceAxisX)\n",
    "    else:\n",
    "        sliceAxisX = backupViewRightDirection\n",
    "    \n",
    "    ## Set slice axes\n",
    "    sliceNode.SetSliceToRASByNTP(sliceNormalStandardized[0], sliceNormalStandardized[1], sliceNormalStandardized[2],\n",
    "        sliceAxisX[0], sliceAxisX[1], sliceAxisX[2],\n",
    "        slicePosition[0], slicePosition[1], slicePosition[2], 0)\n",
    "    \n",
    "def update_landmark_position_by_name(markups_node, landmark_name, new_position):\n",
    "    \"\"\"\n",
    "    Update the position of a landmark in a markups node by its name.\n",
    "    \n",
    "    \"\"\"\n",
    "    # Check if the node is valid\n",
    "    if not markups_node or not isinstance(markups_node, slicer.vtkMRMLMarkupsNode):\n",
    "        print(\"Invalid markups node\")\n",
    "        return False\n",
    "    \n",
    "    # Iterate through all landmarks in the markups node\n",
    "    n_landmarks = markups_node.GetNumberOfControlPoints()\n",
    "    for i in range(n_landmarks):\n",
    "        # Get current landmark's name\n",
    "        current_name = markups_node.GetNthControlPointLabel(i)\n",
    "        \n",
    "        # If we found the landmark with the specified name\n",
    "        if current_name == landmark_name:\n",
    "            # Update its position\n",
    "            markups_node.SetNthControlPointPosition(i, *new_position)\n",
    "            print(f\"Updated position of landmark '{landmark_name}' to {new_position}\")\n",
    "            return True\n",
    "    \n",
    "    # If we get here, the landmark wasn't found\n",
    "    print(f\"Landmark '{landmark_name}' not found in the markups node\")\n",
    "    return False"
   ]
  },
  {
   "cell_type": "code",
   "execution_count": 6,
   "id": "b08a9e5f",
   "metadata": {},
   "outputs": [],
   "source": [
    "ind = 'P01'"
   ]
  },
  {
   "cell_type": "code",
   "execution_count": 7,
   "id": "19c351ec",
   "metadata": {},
   "outputs": [],
   "source": [
    "# load the template file with landmarks\n",
    "template_markers_df = pd.read_csv(os.path.join(f'../../{ind}', 'templates', 'bone_markers_in_ground.csv'), index_col='name')"
   ]
  },
  {
   "cell_type": "markdown",
   "id": "b8320dc7",
   "metadata": {},
   "source": [
    "# First Set of Landmarks"
   ]
  },
  {
   "cell_type": "markdown",
   "id": "b7c4ff1a",
   "metadata": {},
   "source": [
    "## Femur Head Centres\n",
    "Create Point Clouds to Calclulate Femur Head Centers"
   ]
  },
  {
   "cell_type": "code",
   "execution_count": null,
   "id": "b6a89560",
   "metadata": {},
   "outputs": [],
   "source": [
    "# create a set of first 21 landmarks with zero postions in slice"
   ]
  },
  {
   "cell_type": "code",
   "execution_count": null,
   "id": "b1c33b09",
   "metadata": {},
   "outputs": [],
   "source": [
    "first_set_of_landmarks = ['femur_l_center', 'femur_r_center', 'torso_origin_in_pelvis', \n",
    "                            'ASIS_l', 'ASIS_r', 'PSIS_l', 'PSIS_r', 'pub_infer_c', 'pub_super_c', \n",
    "                            'ilium_l', 'ilium_r', 'fibula_l_lat_malleol_tip','tibia_l_med_malleol_tip', \n",
    "                            'fibula_r_lat_malleol_tip', 'tibia_r_med_malleol_tip', 'knee_l_center', 'knee_r_center',\n",
    "                            'knee_l_lat', 'knee_l_med', 'knee_r_lat', 'knee_r_med']"
   ]
  },
  {
   "cell_type": "code",
   "execution_count": null,
   "id": "c22a0805",
   "metadata": {},
   "outputs": [],
   "source": [
    "lms_cloud = slicer.mrmlScene.AddNewNodeByClass(\"vtkMRMLMarkupsFiducialNode\")\n",
    "lms_cloud.SetName('lms')\n",
    "slicer.util.updateMarkupsControlPointsFromArray(lms_cloud, np.zeros((len(first_set_of_landmarks), 3)))\n",
    "for i, name in enumerate(first_set_of_landmarks):\n",
    "    lms_cloud.SetNthFiducialLabel(i, name)\n"
   ]
  },
  {
   "cell_type": "code",
   "execution_count": null,
   "id": "88875d0a",
   "metadata": {},
   "outputs": [],
   "source": [
    "# create empty sets of markups for fmur head right and left"
   ]
  },
  {
   "cell_type": "code",
   "execution_count": null,
   "id": "c3255716",
   "metadata": {},
   "outputs": [],
   "source": [
    "femur_head_right = slicer.mrmlScene.AddNewNodeByClass(\"vtkMRMLMarkupsFiducialNode\")\n",
    "femur_head_right.SetName('femur_head_right')\n",
    "femur_head_left = slicer.mrmlScene.AddNewNodeByClass(\"vtkMRMLMarkupsFiducialNode\")\n",
    "femur_head_left.SetName('femur_head_left')"
   ]
  },
  {
   "cell_type": "markdown",
   "id": "53791daa",
   "metadata": {},
   "source": [
    "<div class=\"alert alert-block alert-info\">\n",
    "<b>In3dSlicer GUI</b>:\n",
    "\n",
    "<p>For each, <emp>femur_head_right</emp> and <emp>femur_head_left</emp>, collect lms on femur heads circular outline, red and green slices: move slices to the level of the largest femur head radius (approximately near fovea).</p>\n",
    "\n",
    "<p>Once finished, follow instructions below.</p>\n",
    "</div>"
   ]
  },
  {
   "cell_type": "code",
   "execution_count": null,
   "id": "c46a833a",
   "metadata": {},
   "outputs": [],
   "source": [
    "import numpy as np\n",
    "from scipy.optimize import least_squares\n",
    "\n",
    "def fit_circle_to_points(points_3d):\n",
    "    \"\"\"\n",
    "    Calculates the center and radius of the best-fit 2D circle for a set of 3D points.\n",
    "    It assumes the points lie approximately on a plane where one coordinate (X, Y, or Z) is constant.\n",
    "    It determines the plane by finding the coordinate with the minimum variance.\n",
    "\n",
    "    Args:\n",
    "        points_3d (np.array): A Nx3 NumPy array of 3D points.\n",
    "\n",
    "    Returns:\n",
    "        tuple: A tuple containing:\n",
    "            - fitted_center_3d (np.array): The 3D coordinates of the circle's center.\n",
    "            - fitted_radius_2d (float): The radius of the best-fit 2D circle.\n",
    "            - plane_axis (str): 'x', 'y', or 'z' indicating the axis assumed constant.\n",
    "    \"\"\"\n",
    "\n",
    "    # Determine which axis is most constant (has the least variance)\n",
    "    variances = np.var(points_3d, axis=0)\n",
    "    min_variance_idx = np.argmin(variances)\n",
    "\n",
    "    if min_variance_idx == 0: # X is most constant\n",
    "        common_coord_value = points_3d[0, 0]\n",
    "        # Use Y and Z for 2D fitting\n",
    "        points_2d = points_3d[:, [1, 2]]\n",
    "        plane_axis = 'x'\n",
    "    elif min_variance_idx == 1: # Y is most constant\n",
    "        common_coord_value = points_3d[0, 1]\n",
    "        # Use X and Z for 2D fitting\n",
    "        points_2d = points_3d[:, [0, 2]]\n",
    "        plane_axis = 'y'\n",
    "    else: # Z is most constant\n",
    "        common_coord_value = points_3d[0, 2]\n",
    "        # Use X and Y for 2D fitting\n",
    "        points_2d = points_3d[:, [0, 1]]\n",
    "        plane_axis = 'z'\n",
    "\n",
    "    # Define the residuals function for 2D circle fitting\n",
    "    def circle_residuals_2d(params, points_2d_inner):\n",
    "        center_2d = params[:2]\n",
    "        radius_2d = params[2]\n",
    "        distances_2d = np.linalg.norm(points_2d_inner - center_2d, axis=1)\n",
    "        return distances_2d - radius_2d\n",
    "\n",
    "    # Initial guess for the parameters (2D center and radius)\n",
    "    initial_center_2d = np.mean(points_2d, axis=0)\n",
    "    initial_radius_2d = np.mean(np.linalg.norm(points_2d - initial_center_2d, axis=1))\n",
    "    initial_guess_2d = np.append(initial_center_2d, initial_radius_2d)\n",
    "\n",
    "    # Perform least squares optimization\n",
    "    result_2d = least_squares(circle_residuals_2d, initial_guess_2d, args=(points_2d,))\n",
    "\n",
    "    # Extract the fitted 2D parameters\n",
    "    fitted_center_2d = result_2d.x[:2]\n",
    "    fitted_radius_2d = result_2d.x[2]\n",
    "\n",
    "    # Reconstruct the 3D center\n",
    "    if plane_axis == 'x':\n",
    "        fitted_center_3d = np.array([common_coord_value, fitted_center_2d[0], fitted_center_2d[1]])\n",
    "    elif plane_axis == 'y':\n",
    "        fitted_center_3d = np.array([fitted_center_2d[0], common_coord_value, fitted_center_2d[1]])\n",
    "    else: # 'z'\n",
    "        fitted_center_3d = np.array([fitted_center_2d[0], fitted_center_2d[1], common_coord_value])\n",
    "\n",
    "    return fitted_center_3d, fitted_radius_2d, plane_axis\n",
    "\n"
   ]
  },
  {
   "cell_type": "code",
   "execution_count": null,
   "id": "c670f6bc",
   "metadata": {
    "scrolled": true
   },
   "outputs": [],
   "source": [
    "# left femur\n",
    "left_fh = slicer.util.getNode('femur_head_left')\n",
    "left_fh = slicer.util.arrayFromMarkupsControlPoints(left_fh)\n",
    "left_radius, left_center = sphereFit(left_fh)\n",
    "left_center, left_radius, plane_axis = fit_circle_to_points(left_fh)\n",
    "print(f\"Center of the best-fit circle (3D): {left_center}\")\n",
    "print(f\"Radius of the best-fit circle (2D): {left_radius}\")\n",
    "print(f\"Fitting performed on the {plane_axis}-constant plane.\")"
   ]
  },
  {
   "cell_type": "code",
   "execution_count": null,
   "id": "207dbfab",
   "metadata": {},
   "outputs": [],
   "source": [
    "# right femur\n",
    "right_fh = slicer.util.getNode('femur_head_right')\n",
    "right_fh = slicer.util.arrayFromMarkupsControlPoints(right_fh)\n",
    "right_radius, right_center = sphereFit(right_fh)"
   ]
  },
  {
   "cell_type": "code",
   "execution_count": null,
   "id": "44a31b6e",
   "metadata": {},
   "outputs": [],
   "source": [
    "\n",
    "right_fh = slicer.util.getNode('femur_head_right')\n",
    "right_fh = slicer.util.arrayFromMarkupsControlPoints(right_fh)\n",
    "right_center, right_radius, plane_axis = fit_circle_to_points(right_fh)\n",
    "\n",
    "# Print the calculated center and radius\n",
    "print(f\"Center of the best-fit circle (3D): {right_center}\")\n",
    "print(f\"Radius of the best-fit circle (2D): {right_radius}\")\n",
    "print(f\"Fitting performed on the {plane_axis}-constant plane.\")"
   ]
  },
  {
   "cell_type": "code",
   "execution_count": null,
   "id": "e42f9414",
   "metadata": {
    "scrolled": true
   },
   "outputs": [],
   "source": [
    "# Import lms and update center points\n",
    "lms = slicer.util.getNode('lms')\n",
    "update_landmark_position_by_name(lms, 'femur_l_center', left_center)\n",
    "update_landmark_position_by_name(lms, 'femur_r_center', right_center)"
   ]
  },
  {
   "cell_type": "markdown",
   "id": "c75cbe7f",
   "metadata": {},
   "source": [
    "## Pelvis"
   ]
  },
  {
   "cell_type": "markdown",
   "id": "d203ee63",
   "metadata": {},
   "source": [
    "### Landmarks"
   ]
  },
  {
   "cell_type": "markdown",
   "id": "67302caf",
   "metadata": {},
   "source": [
    "<div class=\"alert alert-block alert-info\">\n",
    "    <b>In 3dSlicer GUI</b>, place the following key markers:\n",
    "    \n",
    " 1) _torso_origin_in_pelvis_ : defined as a point at the **posterior bottom edge of the L5** on the yellow mid-sagittal slice. This point must later be on the same slice as _pelvis_origin_ and _pelvis_origin_in_ground_ .\n",
    "   \n",
    " 3) _ASIS_l_ and _ASIS_r_ : defined as the anteriormost point of the iliac blades that touches skin on the red slice; on the green slice, the same point should look like as small round shadow and on the yellow slice it is anteroinferior point of the iliac blade.\n",
    "    \n",
    " 4) _PSIS_l_ and _PSIS_r_ : defined as posterior-most points of iliac blades. They should be positioned posterior to sacrum. On the red slice, the sacrum must still be visible, probably it's uppermost vertebra.\n",
    "    \n",
    " 5) _pub_infer_c_ and _pub_super_c_ : defined as the inferior and superior point on the sagittal optline of the pubic symphysis. Please note that the two points should lie along the longest axis of the sympysis.\n",
    "    \n",
    "</div>"
   ]
  },
  {
   "cell_type": "code",
   "execution_count": null,
   "id": "445edf1b-369f-4a71-9cf5-1950e6b1a55a",
   "metadata": {},
   "outputs": [],
   "source": [
    "# re-load lms node\n",
    "lms = slicer.util.getNode('lms')\n",
    "lms_list = slicer.util.arrayFromMarkupsControlPoints(lms)\n",
    "asis_l = lms_list[lms.GetControlPointIndexByLabel('ASIS_l')]\n",
    "asis_r = lms_list[lms.GetControlPointIndexByLabel('ASIS_r')]\n",
    "print(asis_l, asis_r)"
   ]
  },
  {
   "cell_type": "code",
   "execution_count": null,
   "id": "a8df0a5e-5f17-459c-87ed-cd7534414cae",
   "metadata": {},
   "outputs": [],
   "source": [
    "pelvis_origin = np.mean((asis_l, asis_r), axis = 0)\n",
    "pelvis_origin_point = lms.AddControlPoint(vtk.vtkVector3d(pelvis_origin))\n",
    "lms.SetNthControlPointLabel(pelvis_origin_point, 'pelvis_origin_in_ground')\n",
    "\n",
    "psis_l = lms_list[lms.GetControlPointIndexByLabel('PSIS_l')]\n",
    "psis_r = lms_list[lms.GetControlPointIndexByLabel('PSIS_r')]\n",
    "psis_c = np.mean((psis_l, psis_r), axis = 0)\n",
    "\n",
    "pub_infer_c = lms_list[lms.GetControlPointIndexByLabel('pub_infer_c')]\n",
    "pub_super_c = lms_list[lms.GetControlPointIndexByLabel('pub_super_c')]"
   ]
  },
  {
   "cell_type": "code",
   "execution_count": null,
   "id": "aa1c66fd",
   "metadata": {
    "scrolled": true
   },
   "outputs": [],
   "source": [
    "# define new normal for the red slice\n",
    "red_slice_new_normal_1 = np.cross((pelvis_origin - psis_l), (pelvis_origin - psis_r))\n",
    "red_slice_new_normal = red_slice_new_normal_1/np.linalg.norm(red_slice_new_normal_1)\n",
    "red_slice_new_normal"
   ]
  },
  {
   "cell_type": "code",
   "execution_count": null,
   "id": "0f069126",
   "metadata": {},
   "outputs": [],
   "source": [
    "# reorient red slice\n",
    "redSliceNode = slicer.util.getNode(\"vtkMRMLSliceNodeRed\")\n",
    "setSlicePoseFromSliceNormalAndPosition(\n",
    "    redSliceNode, red_slice_new_normal, \n",
    "    np.mean(((psis_l+psis_r)*0.5, pelvis_origin), \n",
    "            axis = 0)) ## red slice now shows PSIS_l, PSIS_r and pelvis_origin points"
   ]
  },
  {
   "cell_type": "code",
   "execution_count": null,
   "id": "cdc87d2c",
   "metadata": {},
   "outputs": [],
   "source": [
    "# reorient green slice\n",
    "greenSliceNode = slicer.util.getNode(\"vtkMRMLSliceNodeGreen\")\n",
    "setSlicePoseFromSliceNormalAndPosition(\n",
    "    greenSliceNode, np.array([0,-1,0]), \n",
    "    np.mean(((psis_l+psis_r)*0.5, pelvis_origin), \n",
    "            axis = 0)) ## green slice now crossects pelvis in the middle"
   ]
  },
  {
   "cell_type": "markdown",
   "id": "201c2c55",
   "metadata": {},
   "source": [
    "<div class=\"alert alert-block alert-info\">\n",
    "<b>In 3dSclier GUI, collect further key markers:</b>\n",
    "    \n",
    "1)  _ilium_l_ and _ilium_r_ : move the red slice up so that it touches the tops of iliac crests. The green slice position marks the centre between psis and pelvis origin markers. The red slice should show an elongated shadow of the left or/and right iliac crests are visible but do not quite reach the green line, which marks the position of the green slice when observed on the red. The points should be placed at the anterior corner of the right or left iliac crest shadow.. \n",
    "   </div> \n",
    "\n"
   ]
  },
  {
   "cell_type": "markdown",
   "id": "a6281f2b",
   "metadata": {},
   "source": [
    "### Check Orientation Planes:\n",
    "\n",
    "It should coinside with Rajagopal et al. (2016) pelvis orientation. Once displayed, one can move the red slice to show that is transsects both pubic tubercles."
   ]
  },
  {
   "cell_type": "code",
   "execution_count": null,
   "id": "a2ab1adc",
   "metadata": {},
   "outputs": [],
   "source": [
    "# reorient yellow slice to be perpendicular ASIS axis:\n",
    "\n",
    "'''the following two lines are to be used on the first data collection'''\n",
    "lms = slicer.util.getNode('lms') # deactivate on amendments\n",
    "\n",
    "'''the following two lines are to be used when testing and making amendments'''\n",
    "# lms = slicer.util.getNode('orientation')  # activate on amendments\n",
    "lms_list = slicer.util.arrayFromMarkupsControlPoints(lms)\n",
    "\n",
    "asis_r = lms_list[lms.GetControlPointIndexByLabel('ASIS_r')]\n",
    "asis_l = lms_list[lms.GetControlPointIndexByLabel('ASIS_l')]\n",
    "pub_super_c = lms_list[lms.GetControlPointIndexByLabel('pub_super_c')]\n",
    "# pelvis_origin = np.mean((asis_l, asis_r), axis = 0)\n",
    "# pelvis_origin_point = lms.AddControlPoint(vtk.vtkVector3d(pelvis_origin))\n",
    "# lms.SetNthControlPointLabel(pelvis_origin_point, 'pelvis_origin')\n",
    "pelvis_origin = lms_list[lms.GetControlPointIndexByLabel('pelvis_origin')] # deactivate on amendments\n",
    "\n",
    "yellowSliceNode = slicer.util.getNode(\"vtkMRMLSliceNodeYellow\")\n",
    "asis_axis = (asis_r - asis_l)/np.linalg.norm(asis_r - asis_l)\n",
    "setSlicePoseFromSliceNormalAndPosition(yellowSliceNode, asis_axis , pub_super_c)"
   ]
  },
  {
   "cell_type": "code",
   "execution_count": null,
   "id": "1656980d",
   "metadata": {},
   "outputs": [],
   "source": [
    "# reorient green slice to make it anterior as in Rajagopal et al 2016 passing through pub_sup_c:\n",
    "greenSliceNode = slicer.util.getNode(\"vtkMRMLSliceNodeGreen\")\n",
    "pelvis_origin_to_symph = (pub_super_c - pelvis_origin)/np.linalg.norm(pub_super_c - pelvis_origin)\n",
    "frontal_norm = np.cross(asis_axis, pelvis_origin_to_symph)\n",
    "setSlicePoseFromSliceNormalAndPosition(greenSliceNode, frontal_norm, pub_super_c)"
   ]
  },
  {
   "cell_type": "code",
   "execution_count": null,
   "id": "9ece3661",
   "metadata": {},
   "outputs": [],
   "source": [
    "# reorient red slice to make it perpendicular to the green above:\n",
    "redSliceNode = slicer.util.getNode(\"vtkMRMLSliceNodeRed\")\n",
    "pelvis_origin_to_symph = (pub_super_c - pelvis_origin)/np.linalg.norm(pub_super_c - pelvis_origin)\n",
    "setSlicePoseFromSliceNormalAndPosition(redSliceNode, pelvis_origin_to_symph, pub_super_c)"
   ]
  },
  {
   "cell_type": "markdown",
   "id": "e470b5e1",
   "metadata": {},
   "source": [
    "<div class=\"alert alert-block alert-info\">\n",
    "<b>In 3dSclier GUI:\n",
    " Once done checking, return the red slice to default poisiton (see panel above the slice, change 'reformat' to 'axial')</b>\n",
    "   </div>  "
   ]
  },
  {
   "cell_type": "markdown",
   "id": "893f3782",
   "metadata": {},
   "source": [
    "## Ankle Landmarks: Tibia and Fibula"
   ]
  },
  {
   "cell_type": "markdown",
   "id": "9b9f7850",
   "metadata": {},
   "source": [
    "<div class=\"alert alert-block alert-info\">\n",
    "<b>In 3dSclier GUI, collect further key markers:</b>\n",
    "\n",
    "1) _fibula_r_lat_malleol_tip_ and _fibula_l_lat_malleol_tip_ : these should be placed on inferiormost points of fibulas/lateral malleolae.\n",
    "\n",
    "2) _tibia_r_med_malleol_tip_ and _tibia_l_med_malleol_tip_ : these should be placed on inferiormost points of tibias/medial malleolae.\n",
    "   </div>  "
   ]
  },
  {
   "cell_type": "markdown",
   "id": "8ee4d903",
   "metadata": {},
   "source": [
    "## Knee Landmarks: Femora"
   ]
  },
  {
   "cell_type": "markdown",
   "id": "ea4d63f8",
   "metadata": {},
   "source": [
    "<div class=\"alert alert-block alert-info\">\n",
    "<b>In 3dSclier GUI, provisionally place knee center points:</b>\n",
    "    <em>knee_r_center</em> and <em>knee_l_center</em> : these should be placed at the top of the intercondilar groove on the posterior face of each distal femur.\n",
    "   </div>"
   ]
  },
  {
   "cell_type": "markdown",
   "id": "1db3f282",
   "metadata": {},
   "source": [
    "#### Knee Centers"
   ]
  },
  {
   "cell_type": "code",
   "execution_count": null,
   "id": "f10d5cbb",
   "metadata": {
    "scrolled": true
   },
   "outputs": [],
   "source": [
    "# left femur -- orient planes to reflect provisional axes\n",
    "# re-load lms node\n",
    "lms = slicer.util.getNode('lms')\n",
    "lms_list = slicer.util.arrayFromMarkupsControlPoints(lms)\n",
    "lms_list = slicer.util.arrayFromMarkupsControlPoints(lms)\n",
    "\n",
    "femur_l_center = lms_list[lms.GetControlPointIndexByLabel('femur_l_center')]\n",
    "femur_r_center = lms_list[lms.GetControlPointIndexByLabel('femur_r_center')]\n",
    "\n",
    "knee_l_center = lms_list[lms.GetControlPointIndexByLabel('knee_l_center')]\n",
    "knee_r_center = lms_list[lms.GetControlPointIndexByLabel('knee_r_center')]\n",
    "\n",
    "femur_l_y_axis = (femur_l_center-knee_l_center)/np.linalg.norm(femur_l_center-knee_l_center)\n",
    "femur_r_y_axis = (femur_r_center-knee_r_center)/np.linalg.norm(femur_r_center-knee_r_center)\n",
    "femur_l_y_axis"
   ]
  },
  {
   "cell_type": "markdown",
   "id": "3aa0c271",
   "metadata": {},
   "source": [
    "#### Left Femur: medial and lateral condyles"
   ]
  },
  {
   "cell_type": "code",
   "execution_count": null,
   "id": "c8fb44e3",
   "metadata": {},
   "outputs": [],
   "source": [
    "# reorient red slice perpendicular to the femur_l_y_axis:\n",
    "redSliceNode = slicer.util.getNode(\"vtkMRMLSliceNodeRed\")\n",
    "setSlicePoseFromSliceNormalAndPosition(\n",
    "    redSliceNode, \n",
    "    femur_l_y_axis, \n",
    "    knee_l_center)"
   ]
  },
  {
   "cell_type": "markdown",
   "id": "51e03062",
   "metadata": {},
   "source": [
    "<div class=\"alert alert-block alert-info\">\n",
    "<b>In 3dSclier GUI, provisionally place medial and lateral condyle points:</b>\n",
    "<em>knee_l_lat</em> and <em>knee_l_med</em> : these should be placed at the most prominent points of the left knee. Scroll red slice up and down few steps to ensure the best positions.\n",
    "   </div>"
   ]
  },
  {
   "cell_type": "code",
   "execution_count": null,
   "id": "4a2a3216",
   "metadata": {},
   "outputs": [],
   "source": [
    "# recalculate and update the position of the knee center:\n",
    "lms = slicer.util.getNode('lms')\n",
    "lms_list = slicer.util.arrayFromMarkupsControlPoints(lms)\n",
    "\n",
    "knee_l_lat = lms_list[lms.GetControlPointIndexByLabel('knee_l_lat')]\n",
    "knee_l_med = lms_list[lms.GetControlPointIndexByLabel('knee_l_med')]\n",
    "\n",
    "knee_l_center = np.mean((knee_l_lat, knee_l_med), axis = 0)\n",
    "femur_l_y_axis = (femur_l_center-knee_l_center)/np.linalg.norm(femur_l_center-knee_l_center)\n",
    "lms.SetNthControlPointPosition(lms.GetControlPointIndexByLabel('knee_l_center'), \n",
    "                               knee_l_center[0], knee_l_center[1], knee_l_center[2])"
   ]
  },
  {
   "cell_type": "markdown",
   "id": "a724600d",
   "metadata": {},
   "source": [
    "#### Right Femur: medial and lateral condyles"
   ]
  },
  {
   "cell_type": "code",
   "execution_count": null,
   "id": "76620f26",
   "metadata": {},
   "outputs": [],
   "source": [
    "# reorient red slice perpendicular to the femur_r_y_axis:\n",
    "redSliceNode = slicer.util.getNode(\"vtkMRMLSliceNodeRed\")\n",
    "setSlicePoseFromSliceNormalAndPosition(\n",
    "    redSliceNode, \n",
    "    femur_r_y_axis, \n",
    "    knee_r_center)"
   ]
  },
  {
   "cell_type": "markdown",
   "id": "5ad161f7",
   "metadata": {},
   "source": [
    "<div class=\"alert alert-block alert-info\">\n",
    "<b>In 3dSclier GUI, provisionally place medial and lateral condyle points:</b>\n",
    "<em>knee_r_lat</em> and <em>knee_r_med</em> : these should be placed at the most prominent points of the left knee. Scroll red slice up and down few steps to ensure the best positions.\n",
    "   </div>"
   ]
  },
  {
   "cell_type": "code",
   "execution_count": null,
   "id": "d239d18a",
   "metadata": {},
   "outputs": [],
   "source": [
    "# recalculate and update the position of the knee center:\n",
    "lms = slicer.util.getNode('lms')\n",
    "lms_list = slicer.util.arrayFromMarkupsControlPoints(lms)\n",
    "\n",
    "knee_r_lat = lms_list[lms.GetControlPointIndexByLabel('knee_r_lat')]\n",
    "knee_r_med = lms_list[lms.GetControlPointIndexByLabel('knee_r_med')]\n",
    "\n",
    "\n",
    "knee_r_center = np.mean((knee_r_lat, knee_r_med), axis = 0)\n",
    "femur_r_y_axis = (femur_r_center-knee_r_center)/np.linalg.norm(femur_r_center-knee_r_center)\n",
    "lms.SetNthControlPointPosition(lms.GetControlPointIndexByLabel('knee_r_center'), \n",
    "                               knee_r_center[0], knee_r_center[1], knee_r_center[2])"
   ]
  },
  {
   "cell_type": "markdown",
   "id": "c4a985bb",
   "metadata": {},
   "source": [
    "# Second Set of Landmarks\n",
    "## Warp the Template to the Space of the MRI"
   ]
  },
  {
   "cell_type": "code",
   "execution_count": null,
   "id": "0be268a3",
   "metadata": {},
   "outputs": [],
   "source": [
    "reference_for_warping_node = slicer.util.getNode('lms')\n",
    "reference_for_warping_locations = slicer.util.arrayFromMarkupsControlPoints(reference_for_warping_node)\n",
    "reference_for_warping_names = [reference_for_warping_node.GetNthControlPointLabel(i) for i in range(reference_for_warping_node.GetNumberOfControlPoints())]"
   ]
  },
  {
   "cell_type": "code",
   "execution_count": null,
   "id": "4655f143",
   "metadata": {},
   "outputs": [],
   "source": [
    "template_for_warpintg_locations = template_markers_df.loc[reference_for_warping_names].to_numpy()"
   ]
  },
  {
   "cell_type": "code",
   "execution_count": null,
   "id": "6b5fdbde",
   "metadata": {},
   "outputs": [],
   "source": [
    "tps_spline = ThinPlateSpline(alpha = 0.002)\n",
    "tps_spline.fit(template_for_warpintg_locations, reference_for_warping_locations)\n",
    "second_set = tps_spline.transform(template_markers_df.to_numpy())"
   ]
  },
  {
   "cell_type": "code",
   "execution_count": null,
   "id": "240ce8a1",
   "metadata": {},
   "outputs": [],
   "source": [
    "lms_cloud = slicer.mrmlScene.AddNewNodeByClass(\"vtkMRMLMarkupsFiducialNode\")\n",
    "lms_cloud.SetName('orientation')\n",
    "slicer.util.updateMarkupsControlPointsFromArray(lms_cloud, second_set)\n",
    "for i, name in enumerate(template_markers_df.index):\n",
    "    lms_cloud.SetNthFiducialLabel(i, name)"
   ]
  },
  {
   "cell_type": "markdown",
   "id": "858bd359",
   "metadata": {},
   "source": [
    "## Adjust the Position of the Warped Landmarks"
   ]
  },
  {
   "cell_type": "markdown",
   "id": "858720fe",
   "metadata": {},
   "source": [
    "<div class=\"alert alert-block alert-info\">\n",
    "<b>From now on all work is done in 'orientation.mrk.json', i.e. the warped set of landmarks.</b>\n",
    "    \n",
    "<p><b>Adjust location of projected landmarks, starting from the top:</b></p>\n",
    "\n",
    "_sacroiliac_r_ , _sacroiliac_l_ -- inferior point on the joint between sacrum and ilium\n",
    "\n",
    "_5th_sacr_v_  --  antero-inferior point on the 5th sacral vertebra\n",
    "\n",
    "_AIIS_r_, _AIIS_l_ -- a tip of the anterio-inferior iliac spine\n",
    "\n",
    "_gr_troch_as_l_ and _gr_troch_as_r_ -- greater trochanter antero-superior -- defined as the anterior-bump on the frontal surface of the greater trochanter -- many muscles are attached here.\n",
    "\n",
    "_gr_troch_lat_l_ and _gr_troch_lat_r_ -- greater trochanter lateral -- defined as the lateralmost point on the green slice through greater trochanter, it should lie posteriorly to the gr_troch_as point and be at the insertion of muscle tendons into the lateral wall of the greater trochanter. This point is usually locatied at the lower level of the GT.\n",
    "    \n",
    " _gr_troch_ps_l_ and _gr_troch_ps_r_ -- greater trochanter postero-superior -- defined as the top posterior point on the superior surface of the greater trochanter.\n",
    "\n",
    " _ls_troch_l_ and _ls_troch_r_ -- lesser trochanters on right and left, defined as the most prominent point on the respective lesser trochanter, locate it by manupulating red and green views, drag and drop points to the correct location. \n",
    "\n",
    "<p></p>\n",
    "    \n",
    "*isch_spine_l* and *isch_spine_r* -- ischial spine -- sharp spine at the postero-superior part of the ischial bone, right and left. \n",
    "    \n",
    "*isch_tuber_l* and *isch_tuber_r* -- ischial tuberosity -- defined as the posteriormost landmark on ischial tuberosity, best viewed on the yellow slice, on red slice the are located at the posterior point of ischial tuberosity triangle and, on green slice they are marked as a black endpoint of the bone.\n",
    "\n",
    "_isch_infer_l_ and _isch_infer_r_ -- ischial [bone] inferior -- defined as infero-anteriormost point of the imprint of the ischio-pubic arch on the red slice (control on the green and yellow). To locate them, scroll the red slice down until ischial bones just dissapear. Then start moving the slice upwards unitl you see a narrow imprint of either right or left ischial bone. Place the corresponding right or left landmarks at the anterior end of the thin bone outline.\n",
    "\n",
    "\n",
    "<p></p>\n",
    "\n",
    "_ankle_l_med_ and _ankle_r_med_ -- medial malleolus on left and right tibias; defined as the most medially prominent point on tibial malleolus\n",
    "\n",
    "_ankle_l_lat_ and _ankle_r_lat_\n",
    "</div>"
   ]
  },
  {
   "cell_type": "markdown",
   "id": "1936b0ab-7f58-4bf5-b09d-7507052331b8",
   "metadata": {},
   "source": [
    "## Calculate and Update Further Points for Knees and Ankles"
   ]
  },
  {
   "cell_type": "code",
   "execution_count": null,
   "id": "9e3db2f3",
   "metadata": {},
   "outputs": [],
   "source": [
    "## note that knee needs two sets of points updated: the ones that will be in child and \n",
    "## the ones that will be in parent frames\n",
    "\n",
    "lms = slicer.util.getNode('orientation')\n",
    "lms_list = slicer.util.arrayFromMarkupsControlPoints(lms)\n",
    "\n",
    "knee_l_lat = lms_list[lms.GetControlPointIndexByLabel('knee_l_lat')]\n",
    "knee_l_med = lms_list[lms.GetControlPointIndexByLabel('knee_l_med')]\n",
    "knee_l_center = lms_list[lms.GetControlPointIndexByLabel('knee_l_center')]\n",
    "lms.SetNthControlPointPosition(lms.GetControlPointIndexByLabel('knee_l_center_in_femur_l'), \n",
    "                               knee_l_center[0], knee_l_center[1], knee_l_center[2])\n",
    "\n",
    "knee_r_lat = lms_list[lms.GetControlPointIndexByLabel('knee_r_lat')]\n",
    "knee_r_med = lms_list[lms.GetControlPointIndexByLabel('knee_r_med')]\n",
    "knee_r_center = lms_list[lms.GetControlPointIndexByLabel('knee_r_center')]\n",
    "lms.SetNthControlPointPosition(lms.GetControlPointIndexByLabel('knee_r_center_in_femur_r'), \n",
    "                               knee_r_center[0], knee_r_center[1], knee_r_center[2])\n",
    "\n",
    "fibula_l_lat_malleol_tip = lms_list[lms.GetControlPointIndexByLabel('fibula_l_lat_malleol_tip')]\n",
    "tibia_l_med_malleol_tip = lms_list[lms.GetControlPointIndexByLabel('tibia_l_med_malleol_tip')]\n",
    "talus_l_center_in_tibia = np.mean((fibula_l_lat_malleol_tip, tibia_l_med_malleol_tip), axis = 0)\n",
    "lms.SetNthControlPointPosition(lms.GetControlPointIndexByLabel('talus_l_center_in_tibia'), \n",
    "                               talus_l_center_in_tibia[0], \n",
    "                               talus_l_center_in_tibia[1], \n",
    "                               talus_l_center_in_tibia[2])\n",
    "\n",
    "fibula_r_lat_malleol_tip = lms_list[lms.GetControlPointIndexByLabel('fibula_r_lat_malleol_tip')]\n",
    "tibia_r_med_malleol_tip = lms_list[lms.GetControlPointIndexByLabel('tibia_r_med_malleol_tip')]\n",
    "talus_r_center_in_tibia = np.mean((fibula_r_lat_malleol_tip, tibia_r_med_malleol_tip), axis = 0)\n",
    "lms.SetNthControlPointPosition(lms.GetControlPointIndexByLabel('talus_r_center_in_tibia'), \n",
    "                               talus_r_center_in_tibia[0], \n",
    "                               talus_r_center_in_tibia[1], \n",
    "                               talus_r_center_in_tibia[2])\n",
    "\n",
    "ankle_l_lat = lms_list[lms.GetControlPointIndexByLabel('ankle_l_lat')]\n",
    "ankle_l_med = lms_list[lms.GetControlPointIndexByLabel('ankle_l_med')]\n",
    "ankle_l_center = np.mean((ankle_l_lat, ankle_l_med), axis = 0)\n",
    "lms.SetNthControlPointPosition(lms.GetControlPointIndexByLabel('ankle_l_center'), \n",
    "                               ankle_l_center[0], \n",
    "                               ankle_l_center[1], \n",
    "                               ankle_l_center[2])\n",
    "\n",
    "ankle_r_lat = lms_list[lms.GetControlPointIndexByLabel('ankle_r_lat')]\n",
    "ankle_r_med = lms_list[lms.GetControlPointIndexByLabel('ankle_r_med')]\n",
    "ankle_r_center = np.mean((ankle_r_lat, ankle_r_med), axis = 0) \n",
    "lms.SetNthControlPointPosition(lms.GetControlPointIndexByLabel('ankle_r_center'), \n",
    "                               ankle_r_center[0], \n",
    "                               ankle_r_center[1], \n",
    "                               ankle_r_center[2])"
   ]
  },
  {
   "cell_type": "markdown",
   "id": "c772a439",
   "metadata": {},
   "source": [
    "## Femora"
   ]
  },
  {
   "cell_type": "markdown",
   "id": "93dbf4fb",
   "metadata": {},
   "source": [
    "### Left Femur"
   ]
  },
  {
   "cell_type": "markdown",
   "id": "f9af9e58",
   "metadata": {},
   "source": [
    "#### Left Femur Diaphysis"
   ]
  },
  {
   "cell_type": "code",
   "execution_count": null,
   "id": "88b1c532",
   "metadata": {},
   "outputs": [],
   "source": [
    "## Left femur\n",
    "lms = slicer.util.getNode('orientation')\n",
    "lms_list = slicer.util.arrayFromMarkupsControlPoints(lms)\n",
    "\n",
    "knee_l_center = lms_list[lms.GetControlPointIndexByLabel('knee_l_center')]\n",
    "femur_l_center = lms_list[lms.GetControlPointIndexByLabel('femur_l_center')]\n",
    "femur_l_mean = np.mean((knee_l_center, femur_l_center), axis = 0)"
   ]
  },
  {
   "cell_type": "markdown",
   "id": "fd6ee7c0",
   "metadata": {},
   "source": [
    "##### midshaft"
   ]
  },
  {
   "cell_type": "code",
   "execution_count": null,
   "id": "17b3b71f",
   "metadata": {},
   "outputs": [],
   "source": [
    "femur_l_midshaft_anter = lms.GetControlPointIndexByLabel('femur_l_midshaft_anter')\n",
    "lms.SetNthControlPointPosition(femur_l_midshaft_anter, \n",
    "                               lms_list[femur_l_midshaft_anter][0], \n",
    "                               lms_list[femur_l_midshaft_anter][1], \n",
    "                               femur_l_mean[2])\n",
    "\n",
    "femur_l_midshaft_poster = lms.GetControlPointIndexByLabel('femur_l_midshaft_poster')\n",
    "lms.SetNthControlPointPosition(femur_l_midshaft_poster, \n",
    "                               lms_list[femur_l_midshaft_poster][0], \n",
    "                               lms_list[femur_l_midshaft_poster][1], \n",
    "                               femur_l_mean[2])"
   ]
  },
  {
   "cell_type": "code",
   "execution_count": null,
   "id": "3f03c26f",
   "metadata": {},
   "outputs": [],
   "source": [
    "## re-import all markers and place the red plane at the level of the femur_l_mean\n",
    "lms = slicer.util.getNode('orientation')\n",
    "lms_list = slicer.util.arrayFromMarkupsControlPoints(lms)\n",
    "\n",
    "femur_l_center = lms_list[lms.GetControlPointIndexByLabel('femur_l_center')]\n",
    "knee_l_center = lms_list[lms.GetControlPointIndexByLabel('knee_l_center')]\n",
    "\n",
    "femur_l_mean = np.mean((knee_l_center, femur_l_center), axis = 0)\n",
    "\n",
    "### reorient the red slice:\n",
    "femur_l_y_axis = (femur_l_center - knee_l_center)/np.linalg.norm(femur_l_center - knee_l_center)\n",
    "redSliceNode = slicer.util.getNode(\"vtkMRMLSliceNodeRed\")\n",
    "setSlicePoseFromSliceNormalAndPosition(redSliceNode, femur_l_y_axis, femur_l_mean)\n",
    "\n",
    "### shift green and yellow slices to the same point\n",
    "yellowSliceNode = slicer.util.getNode(\"vtkMRMLSliceNodeYellow\")\n",
    "setSlicePoseFromSliceNormalAndPosition(yellowSliceNode, np.array([1,0,0]), femur_l_mean)\n",
    "greenSliceNode = slicer.util.getNode(\"vtkMRMLSliceNodeGreen\")\n",
    "setSlicePoseFromSliceNormalAndPosition(greenSliceNode, np.array([0,1,0]), femur_l_mean)"
   ]
  },
  {
   "cell_type": "markdown",
   "id": "45a60592",
   "metadata": {},
   "source": [
    "<div class=\"alert alert-block alert-info\">\n",
    "<b>In 3dSlicer</b>, adjust the left femur diaphysis midshaft landmarks (<em>femur_l_midshaft_anter</em>, <em>femur_l_midshaft_poster</em>) position to fit on the red slice. To do so, move green and yellow slices but keep the red one in place. The points should be located across the largest diameter of the femur midshaft with the posterior landmark at the apex of the teardrop shape.\n",
    "</div>"
   ]
  },
  {
   "cell_type": "markdown",
   "id": "2cd78be8",
   "metadata": {},
   "source": [
    "##### 25%"
   ]
  },
  {
   "cell_type": "code",
   "execution_count": null,
   "id": "02b9cc78",
   "metadata": {},
   "outputs": [],
   "source": [
    "## re-import all markers and place the red plane at the level of the femur_l_mean\n",
    "lms = slicer.util.getNode('orientation')\n",
    "lms_list = slicer.util.arrayFromMarkupsControlPoints(lms)\n",
    "\n",
    "femur_l_center = lms_list[lms.GetControlPointIndexByLabel('femur_l_center')]\n",
    "knee_l_center = lms_list[lms.GetControlPointIndexByLabel('knee_l_center')]\n",
    "femur_l_mean = np.mean((knee_l_center, femur_l_center), axis = 0)\n",
    "femur_l_y_axis = (femur_l_center - knee_l_center)/np.linalg.norm(femur_l_center - knee_l_center)\n",
    "\n",
    "# place slices at the first quater and adjust the position of femur shaft points\n",
    "femur_l_first_quater = np.mean((femur_l_mean, femur_l_center), axis = 0)\n",
    "\n",
    "redSliceNode = slicer.util.getNode(\"vtkMRMLSliceNodeRed\")\n",
    "setSlicePoseFromSliceNormalAndPosition(redSliceNode, femur_l_y_axis, femur_l_first_quater)\n",
    "yellowSliceNode = slicer.util.getNode(\"vtkMRMLSliceNodeYellow\")\n",
    "setSlicePoseFromSliceNormalAndPosition(yellowSliceNode, np.array([1,0,0]), femur_l_first_quater)\n",
    "greenSliceNode = slicer.util.getNode(\"vtkMRMLSliceNodeGreen\")\n",
    "setSlicePoseFromSliceNormalAndPosition(greenSliceNode, np.array([0,1,0]), femur_l_first_quater)"
   ]
  },
  {
   "cell_type": "markdown",
   "id": "166c7d8a",
   "metadata": {},
   "source": [
    "<div class=\"alert alert-block alert-info\">\n",
    "<b>In 3dSlicer</b>, adjust the left femur diaphysis first quater shaft landmarks (<em>femur_l_poster_diaph_25</em>, <em>femur_l_anter_diaph_25</em>) position to fit on the red slice. To do so, move green and yellow slices but keep the red one in place. The points should be located across the largest diameter of the femur midshaft with the posterior landmark at the apex of the teardrop shape.\n",
    "</div>"
   ]
  },
  {
   "cell_type": "markdown",
   "id": "ecd8cea1",
   "metadata": {},
   "source": [
    "##### 75%"
   ]
  },
  {
   "cell_type": "code",
   "execution_count": null,
   "id": "be25b5d1",
   "metadata": {},
   "outputs": [],
   "source": [
    "## re-import all markers and place the red plane at the level of the femur_l_mean\n",
    "lms = slicer.util.getNode('orientation')\n",
    "lms_list = slicer.util.arrayFromMarkupsControlPoints(lms)\n",
    "\n",
    "femur_l_center = lms_list[lms.GetControlPointIndexByLabel('femur_l_center')]\n",
    "knee_l_center = lms_list[lms.GetControlPointIndexByLabel('knee_l_center')]\n",
    "femur_l_mean = np.mean((knee_l_center, femur_l_center), axis = 0)\n",
    "femur_l_y_axis = (femur_l_center - knee_l_center)/np.linalg.norm(femur_l_center - knee_l_center)\n",
    "\n",
    "# place slices at the last quater and adjust the position of femur shaft points\n",
    "femur_l_last_quater = np.mean((femur_l_mean, knee_l_center), axis = 0)\n",
    "\n",
    "redSliceNode = slicer.util.getNode(\"vtkMRMLSliceNodeRed\")\n",
    "setSlicePoseFromSliceNormalAndPosition(redSliceNode, femur_l_y_axis, femur_l_last_quater)\n",
    "yellowSliceNode = slicer.util.getNode(\"vtkMRMLSliceNodeYellow\")\n",
    "setSlicePoseFromSliceNormalAndPosition(yellowSliceNode, np.array([1,0,0]), femur_l_last_quater)\n",
    "greenSliceNode = slicer.util.getNode(\"vtkMRMLSliceNodeGreen\")\n",
    "setSlicePoseFromSliceNormalAndPosition(greenSliceNode, np.array([0,1,0]), femur_l_last_quater)"
   ]
  },
  {
   "cell_type": "markdown",
   "id": "c97dac16",
   "metadata": {},
   "source": [
    "<div class=\"alert alert-block alert-info\">\n",
    "<b>In 3dSlicer</b>, adjust the left femur diaphysis last quater shaft landmarks (<em>femur_l_poster_diaph_75</em>, <em>femur_l_anter_diaph_75</em>) position to fit on the red slice. To do so, move green and yellow slices but keep the red one in place. The points should be located across the largest diameter of the femur midshaft with the posterior landmark at the apex of the teardrop shape.\n",
    "</div>"
   ]
  },
  {
   "cell_type": "markdown",
   "id": "6cbc26ee",
   "metadata": {},
   "source": [
    "##### Left Femur Top of the Shaft"
   ]
  },
  {
   "cell_type": "code",
   "execution_count": 13,
   "id": "a45cd2f2",
   "metadata": {},
   "outputs": [],
   "source": [
    "## re-import all markers and place the red plane at the level of the lesser trochanter\n",
    "lms = slicer.util.getNode('orientation')\n",
    "lms_list = slicer.util.arrayFromMarkupsControlPoints(lms)\n",
    "\n",
    "femur_l_center = lms_list[lms.GetControlPointIndexByLabel('femur_l_center')]\n",
    "knee_l_center = lms_list[lms.GetControlPointIndexByLabel('knee_l_center')]\n",
    "\n",
    "ls_troch_l =  lms_list[lms.GetControlPointIndexByLabel('ls_troch_l')]\n",
    "\n",
    "### reorient the red slice:\n",
    "femur_l_y_axis = (femur_l_center - knee_l_center)/np.linalg.norm(femur_l_center - knee_l_center)\n",
    "redSliceNode = slicer.util.getNode(\"vtkMRMLSliceNodeRed\")\n",
    "setSlicePoseFromSliceNormalAndPosition(redSliceNode, femur_l_y_axis, ls_troch_l)\n",
    "\n",
    "### place green and yellow slices at the same point\n",
    "yellowSliceNode = slicer.util.getNode(\"vtkMRMLSliceNodeYellow\")\n",
    "setSlicePoseFromSliceNormalAndPosition(yellowSliceNode, np.array([1,0,0]), ls_troch_l)\n",
    "\n",
    "greenSliceNode = slicer.util.getNode(\"vtkMRMLSliceNodeGreen\")\n",
    "setSlicePoseFromSliceNormalAndPosition(greenSliceNode, np.array([0,1,0]), ls_troch_l)"
   ]
  },
  {
   "cell_type": "markdown",
   "id": "25fc733c",
   "metadata": {},
   "source": [
    "<!-- <div class=\"alert alert-block alert-info\">\n",
    "    <b>In GUI</b> <em>femur_shaft_center_l</em>  - center point in the middle of the femur shaft outline at the level of ls_troch_l.\n",
    "    </div> -->"
   ]
  },
  {
   "cell_type": "markdown",
   "id": "11eadd56",
   "metadata": {},
   "source": [
    "#### Left Femur Patella"
   ]
  },
  {
   "cell_type": "markdown",
   "id": "d1224bae",
   "metadata": {},
   "source": [
    "<div class=\"alert alert-block alert-info\">\n",
    "    <b>Contunue using the same orientation of the red slice</b>, move the slice down so that it cuts across the widest part of the left patella, and adjust the lateral, medial, and anterior points of the patella in this view. The anterior point should be roughly in the middle of the frontal surface. Then, follow the code below to adjust the orientation of the yellow slice :\n",
    "    </div>"
   ]
  },
  {
   "cell_type": "code",
   "execution_count": 14,
   "id": "c1274433",
   "metadata": {},
   "outputs": [],
   "source": [
    "## re-import all markers\n",
    "lms = slicer.util.getNode('orientation')\n",
    "lms_list = slicer.util.arrayFromMarkupsControlPoints(lms)\n",
    "\n",
    "patella_med_l = lms_list[lms.GetControlPointIndexByLabel('patella_med_l')]\n",
    "patella_lat_l = lms_list[lms.GetControlPointIndexByLabel('patella_lat_l')]\n",
    "patella_l_anter = lms_list[lms.GetControlPointIndexByLabel('patella_l_anter')]\n",
    "\n",
    "### reorient the yellow slice:\n",
    "patella_l_z_axis = (patella_med_l - patella_lat_l)/np.linalg.norm(patella_med_l - patella_lat_l)\n",
    "yellowSliceNode = slicer.util.getNode(\"vtkMRMLSliceNodeYellow\")\n",
    "setSlicePoseFromSliceNormalAndPosition(yellowSliceNode, patella_l_z_axis, lms_list[lms.GetControlPointIndexByLabel('patella_l_anter')])"
   ]
  },
  {
   "cell_type": "code",
   "execution_count": 15,
   "id": "5a623d8a",
   "metadata": {},
   "outputs": [],
   "source": [
    "## reorient the green slice:\n",
    "patella_l_x_axis = np.cross(femur_l_y_axis, patella_l_z_axis)\n",
    "greenSliceNode = slicer.util.getNode(\"vtkMRMLSliceNodeGreen\")\n",
    "setSlicePoseFromSliceNormalAndPosition(greenSliceNode, patella_l_x_axis, lms_list[lms.GetControlPointIndexByLabel('patella_l_anter')])"
   ]
  },
  {
   "cell_type": "markdown",
   "id": "b1fa0108",
   "metadata": {},
   "source": [
    "<div class=\"alert alert-block alert-info\">\n",
    "    <b>Change the position of the green slice</b> so that it allows you to find <em>patella_sup_l</em> and <em>patella_l</em>. Adjust the position of these points so that <em>patella_l</em> is at the lowest tip of the bone and <em>patella_sup_l</em> in on the midsagittal yellow slice aligned with <em>patella_l_anter</em>. Check that <em>patella_sup_l</em>  is at the posterior tip of the patella when viewed on the yellow slice.\n",
    "    </div>"
   ]
  },
  {
   "cell_type": "code",
   "execution_count": null,
   "id": "17742e09",
   "metadata": {},
   "outputs": [],
   "source": [
    "# # reorient red and green slices to transsect the femr head\n",
    "# lms = slicer.util.getNode('orientation')\n",
    "# lms_list = slicer.util.arrayFromMarkupsControlPoints(lms)\n",
    "\n",
    "# femur_l_center = lms_list[lms.GetControlPointIndexByLabel('femur_l_center')]\n",
    "# gr_troch_lat_l = lms_list[lms.GetControlPointIndexByLabel('gr_troch_lat_l')]\n",
    "# knee_l_center = lms_list[lms.GetControlPointIndexByLabel('knee_l_center')]\n",
    "\n",
    "# green_normal = plane_normal(femur_l_center, gr_troch_lat_l, knee_l_center)\n",
    "# red_normal = (femur_l_center-gr_troch_lat_l)/np.linalg.norm(femur_l_center-gr_troch_lat_l)\n",
    "\n",
    "# redSliceNode = slicer.util.getNode(\"vtkMRMLSliceNodeRed\")\n",
    "# setSlicePoseFromSliceNormalAndPosition(redSliceNode, red_normal, femur_l_center)\n",
    "\n",
    "# yellowSliceNode = slicer.util.getNode(\"vtkMRMLSliceNodeYellow\")\n",
    "# setSlicePoseFromSliceNormalAndPosition(yellowSliceNode, np.array([1,0,0]), femur_l_center)\n",
    "\n",
    "# greenSliceNode = slicer.util.getNode(\"vtkMRMLSliceNodeGreen\")\n",
    "# setSlicePoseFromSliceNormalAndPosition(greenSliceNode, green_normal, femur_l_center)"
   ]
  },
  {
   "cell_type": "markdown",
   "id": "2dee03da",
   "metadata": {},
   "source": [
    " <!-- #### Left Femur Neck  -->"
   ]
  },
  {
   "cell_type": "markdown",
   "id": "3a07bbb4",
   "metadata": {},
   "source": [
    "<!-- <div class=\"alert alert-block alert-info\">\n",
    "    <b>on the green slice</b> notice the location of the narrowest part of the femur neck. Move the red slice to crossect that area. You may want to use crosshair interaction tool to orient the red slice to be perpendicular to the femur neck. Place <em>femur_neck_center_l</em> and in the middle of the circular outline of the femur neck on the red slice. \n",
    "    </div> -->"
   ]
  },
  {
   "cell_type": "code",
   "execution_count": 16,
   "id": "948ecc9c",
   "metadata": {},
   "outputs": [],
   "source": [
    "# return slices into the default positions on the right side\n",
    "lms = slicer.util.getNode('orientation')\n",
    "lms_list = slicer.util.arrayFromMarkupsControlPoints(lms)\n",
    "knee_r_center = lms_list[lms.GetControlPointIndexByLabel('knee_r_center')]\n",
    "\n",
    "redSliceNode = slicer.util.getNode(\"vtkMRMLSliceNodeRed\")\n",
    "setSlicePoseFromSliceNormalAndPosition(redSliceNode, np.array([0,0,1]), knee_r_center)\n",
    "\n",
    "yellowSliceNode = slicer.util.getNode(\"vtkMRMLSliceNodeYellow\")\n",
    "setSlicePoseFromSliceNormalAndPosition(yellowSliceNode, np.array([1,0,0]), knee_r_center)\n",
    "\n",
    "greenSliceNode = slicer.util.getNode(\"vtkMRMLSliceNodeGreen\")\n",
    "setSlicePoseFromSliceNormalAndPosition(greenSliceNode, np.array([0,1,0]), knee_r_center)"
   ]
  },
  {
   "cell_type": "markdown",
   "id": "0a6d88b3",
   "metadata": {},
   "source": [
    "### Right Femur"
   ]
  },
  {
   "cell_type": "markdown",
   "id": "2150cbc5",
   "metadata": {},
   "source": [
    "#### Right Femur Diaphysis"
   ]
  },
  {
   "cell_type": "markdown",
   "id": "883aa74e",
   "metadata": {},
   "source": [
    "##### midshaft"
   ]
  },
  {
   "cell_type": "code",
   "execution_count": null,
   "id": "600c75a9",
   "metadata": {},
   "outputs": [],
   "source": [
    "## Right femur\n",
    "lms = slicer.util.getNode('orientation')\n",
    "lms_list = slicer.util.arrayFromMarkupsControlPoints(lms)\n",
    "\n",
    "knee_r_center = lms_list[lms.GetControlPointIndexByLabel('knee_r_center')]\n",
    "femur_r_center = lms_list[lms.GetControlPointIndexByLabel('femur_r_center')]\n",
    "femur_r_mean = np.mean((knee_r_center, femur_r_center), axis = 0)"
   ]
  },
  {
   "cell_type": "code",
   "execution_count": null,
   "id": "95ce1f26",
   "metadata": {},
   "outputs": [],
   "source": [
    "# Place femur midshaft points exactly between two joints.\n",
    "femur_r_midshaft_anter = lms.GetControlPointIndexByLabel('femur_r_midshaft_anter')\n",
    "lms.SetNthControlPointPosition(femur_r_midshaft_anter, \n",
    "                               lms_list[femur_r_midshaft_anter][0], \n",
    "                               lms_list[femur_r_midshaft_anter][1], \n",
    "                               femur_r_mean[2])\n",
    "\n",
    "femur_r_midshaft_poster = lms.GetControlPointIndexByLabel('femur_r_midshaft_poster')\n",
    "lms.SetNthControlPointPosition(femur_r_midshaft_poster, \n",
    "                               lms_list[femur_r_midshaft_poster][0], \n",
    "                               lms_list[femur_r_midshaft_poster][1], \n",
    "                               femur_r_mean[2])"
   ]
  },
  {
   "cell_type": "code",
   "execution_count": null,
   "id": "db2234aa",
   "metadata": {},
   "outputs": [],
   "source": [
    "## re-import all markers\n",
    "lms = slicer.util.getNode('orientation')\n",
    "lms_list = slicer.util.arrayFromMarkupsControlPoints(lms)\n",
    "\n",
    "### reorient the red slice:\n",
    "femur_r_y_axis = (femur_r_center - knee_r_center)/np.linalg.norm(femur_r_center - knee_r_center)\n",
    "redSliceNode = slicer.util.getNode(\"vtkMRMLSliceNodeRed\")\n",
    "setSlicePoseFromSliceNormalAndPosition(redSliceNode, femur_r_y_axis, femur_r_mean)\n",
    "\n",
    "### place green and yellow slices at the same point\n",
    "yellowSliceNode = slicer.util.getNode(\"vtkMRMLSliceNodeYellow\")\n",
    "setSlicePoseFromSliceNormalAndPosition(yellowSliceNode, np.array([1,0,0]), femur_r_mean)\n",
    "\n",
    "greenSliceNode = slicer.util.getNode(\"vtkMRMLSliceNodeGreen\")\n",
    "setSlicePoseFromSliceNormalAndPosition(greenSliceNode, np.array([0,1,0]), femur_r_mean)"
   ]
  },
  {
   "cell_type": "markdown",
   "id": "0da53fb1",
   "metadata": {},
   "source": [
    "<div class=\"alert alert-block alert-info\">\n",
    "<b>In 3dSlicer</b>, adjust the right femur diaphysis midshaft landmarks (<em>femur_r_midshaft_anter</em>, <em>femur_r_midshaft_poster</em>) position to fit on the red slice. position to fit on the red slice. To do so, move green and yellow slices but keep the red one in place. The points should be located across the largest diameter of the femur midshaft with the posterior landmark at the apex of the teardrop shape.\n",
    "</div>"
   ]
  },
  {
   "cell_type": "markdown",
   "id": "3f0f7b21",
   "metadata": {},
   "source": [
    "##### 25%"
   ]
  },
  {
   "cell_type": "code",
   "execution_count": null,
   "id": "50c91658",
   "metadata": {},
   "outputs": [],
   "source": [
    "## Re-load Right femur\n",
    "lms = slicer.util.getNode('orientation')\n",
    "lms_list = slicer.util.arrayFromMarkupsControlPoints(lms)\n",
    "\n",
    "knee_r_center = lms_list[lms.GetControlPointIndexByLabel('knee_r_center')]\n",
    "femur_r_center = lms_list[lms.GetControlPointIndexByLabel('femur_r_center')]\n",
    "femur_r_mean = np.mean((knee_r_center, femur_r_center), axis = 0)\n",
    "femur_r_y_axis = (femur_r_center - knee_r_center)/np.linalg.norm(femur_r_center - knee_r_center)\n",
    "\n",
    "# place slices at the first quater and adjust the position of femur shaft points\n",
    "femur_r_first_quater = np.mean((femur_r_mean, femur_r_center), axis = 0)\n",
    "\n",
    "\n",
    "redSliceNode = slicer.util.getNode(\"vtkMRMLSliceNodeRed\")\n",
    "setSlicePoseFromSliceNormalAndPosition(redSliceNode, femur_r_y_axis, femur_r_first_quater)\n",
    "yellowSliceNode = slicer.util.getNode(\"vtkMRMLSliceNodeYellow\")\n",
    "setSlicePoseFromSliceNormalAndPosition(yellowSliceNode, np.array([1,0,0]), femur_r_first_quater)\n",
    "greenSliceNode = slicer.util.getNode(\"vtkMRMLSliceNodeGreen\")\n",
    "setSlicePoseFromSliceNormalAndPosition(greenSliceNode, np.array([0,1,0]), femur_r_first_quater)"
   ]
  },
  {
   "cell_type": "markdown",
   "id": "5b1e8169",
   "metadata": {},
   "source": [
    "<div class=\"alert alert-block alert-info\">\n",
    "<b>In 3dSlicer</b>, adjust the left femur diaphysis first quater shaft landmarks (<em>femur_r_poster_diaph_25</em>, <em>femur_r_anter_diaph_25</em>) position to fit on the red slice. To do so, move green and yellow slices but keep the red one in place. The points should be located across the largest diameter of the femur midshaft with the posterior landmark at the apex of the teardrop shape.\n",
    "</div>"
   ]
  },
  {
   "cell_type": "markdown",
   "id": "6be0a3fb",
   "metadata": {},
   "source": [
    "##### 75%"
   ]
  },
  {
   "cell_type": "code",
   "execution_count": null,
   "id": "744c0473",
   "metadata": {},
   "outputs": [],
   "source": [
    "## Re-load Right femur\n",
    "lms = slicer.util.getNode('orientation')\n",
    "lms_list = slicer.util.arrayFromMarkupsControlPoints(lms)\n",
    "\n",
    "knee_r_center = lms_list[lms.GetControlPointIndexByLabel('knee_r_center')]\n",
    "femur_r_center = lms_list[lms.GetControlPointIndexByLabel('femur_r_center')]\n",
    "femur_r_mean = np.mean((knee_r_center, femur_r_center), axis = 0)\n",
    "femur_r_y_axis = (femur_r_center - knee_r_center)/np.linalg.norm(femur_r_center - knee_r_center)\n",
    "\n",
    "# place slices at the last quater and adjust the position of femur shaft points\n",
    "femur_r_last_quater = np.mean((femur_r_mean, knee_r_center), axis = 0)\n",
    "\n",
    "redSliceNode = slicer.util.getNode(\"vtkMRMLSliceNodeRed\")\n",
    "setSlicePoseFromSliceNormalAndPosition(redSliceNode, femur_r_y_axis, femur_r_last_quater)\n",
    "yellowSliceNode = slicer.util.getNode(\"vtkMRMLSliceNodeYellow\")\n",
    "setSlicePoseFromSliceNormalAndPosition(yellowSliceNode, np.array([1,0,0]), femur_r_last_quater)\n",
    "greenSliceNode = slicer.util.getNode(\"vtkMRMLSliceNodeGreen\")\n",
    "setSlicePoseFromSliceNormalAndPosition(greenSliceNode, np.array([0,1,0]), femur_r_last_quater)"
   ]
  },
  {
   "cell_type": "markdown",
   "id": "196f4502",
   "metadata": {},
   "source": [
    "<div class=\"alert alert-block alert-info\">\n",
    "<b>In 3dSlicer</b>, adjust the left femur diaphysis first quater shaft landmarks (<em>femur_r_poster_diaph_75</em>, <em>femur_r_poster_diaph_75</em>) position to fit on the red slice. To do so, move green and yellow slices but keep the red one in place. The points should be located across the largest diameter of the femur midshaft with the posterior landmark at the apex of the teardrop shape.\n",
    "</div>"
   ]
  },
  {
   "cell_type": "markdown",
   "id": "3fe00d08",
   "metadata": {},
   "source": [
    "##### Right Femur Top of the Shaft"
   ]
  },
  {
   "cell_type": "code",
   "execution_count": null,
   "id": "81d18b98",
   "metadata": {},
   "outputs": [],
   "source": [
    "## re-import all markers and place the red plane at the level of the lesser trochanter\n",
    "lms = slicer.util.getNode('orientation')\n",
    "lms_list = slicer.util.arrayFromMarkupsControlPoints(lms)\n",
    "\n",
    "femur_r_center = lms_list[lms.GetControlPointIndexByLabel('femur_r_center')]\n",
    "knee_r_center = lms_list[lms.GetControlPointIndexByLabel('knee_r_center')]\n",
    "\n",
    "ls_troch_r =  lms_list[lms.GetControlPointIndexByLabel('ls_troch_r')]\n",
    "\n",
    "### reorient the red slice:\n",
    "femur_r_y_axis = (femur_r_center - knee_r_center)/np.linalg.norm(femur_r_center - knee_r_center)\n",
    "redSliceNode = slicer.util.getNode(\"vtkMRMLSliceNodeRed\")\n",
    "setSlicePoseFromSliceNormalAndPosition(redSliceNode, femur_r_y_axis, ls_troch_r)\n",
    "\n",
    "### place green and yellow slices at the same point\n",
    "yellowSliceNode = slicer.util.getNode(\"vtkMRMLSliceNodeYellow\")\n",
    "setSlicePoseFromSliceNormalAndPosition(yellowSliceNode, np.array([1,0,0]), ls_troch_r)\n",
    "\n",
    "greenSliceNode = slicer.util.getNode(\"vtkMRMLSliceNodeGreen\")\n",
    "setSlicePoseFromSliceNormalAndPosition(greenSliceNode, np.array([0,1,0]), ls_troch_r)"
   ]
  },
  {
   "cell_type": "markdown",
   "id": "b8d17f26",
   "metadata": {},
   "source": [
    "<!-- <div class=\"alert alert-block alert-info\">\n",
    "    <b>In GUI</b>, use a line tool to measure 2 cm vertically down from the ls_troch_l on the green slice. Move the red slice to the lower point interactively. Place <em>femur_shaft_center_r</em> center point in the middle of the femur shaft outline.\n",
    "    </div> -->"
   ]
  },
  {
   "cell_type": "markdown",
   "id": "db3baa2e",
   "metadata": {},
   "source": [
    "#### Right Femur Patella"
   ]
  },
  {
   "cell_type": "markdown",
   "id": "9d11fe11",
   "metadata": {},
   "source": [
    "<div class=\"alert alert-block alert-info\">\n",
    "    <b>Contunue using the same orientation of the red slice</b>, move the slice down so that it cuts across the widest part of the right patella, and adjust the lateral (patella_lat_r), medial (patella_med_r), and anterior (patella_r_anter') points of the patella in this view. The anterior point should be roughly in the middle of the frontal surface. Then, follow the code below to adjust the orientation of the yellow slice :\n",
    "    </div>"
   ]
  },
  {
   "cell_type": "code",
   "execution_count": null,
   "id": "63b2ce4f",
   "metadata": {},
   "outputs": [],
   "source": [
    "## re-import all markers\n",
    "lms = slicer.util.getNode('orientation')\n",
    "lms_list = slicer.util.arrayFromMarkupsControlPoints(lms)\n",
    "\n",
    "patella_med_r = lms_list[lms.GetControlPointIndexByLabel('patella_med_r')]\n",
    "patella_lat_r = lms_list[lms.GetControlPointIndexByLabel('patella_lat_r')]\n",
    "\n",
    "### reorient the yellow slice:\n",
    "patella_r_z_axis = (patella_med_r - patella_lat_r)/np.linalg.norm(patella_med_r - patella_lat_r)\n",
    "yellowSliceNode = slicer.util.getNode(\"vtkMRMLSliceNodeYellow\")\n",
    "setSlicePoseFromSliceNormalAndPosition(yellowSliceNode, patella_r_z_axis, lms_list[lms.GetControlPointIndexByLabel('patella_r_anter')])"
   ]
  },
  {
   "cell_type": "code",
   "execution_count": null,
   "id": "5215cdb5",
   "metadata": {},
   "outputs": [],
   "source": [
    "## reorient the green slice:\n",
    "patella_r_x_axis = np.cross(femur_r_y_axis, patella_r_z_axis)\n",
    "greenSliceNode = slicer.util.getNode(\"vtkMRMLSliceNodeGreen\")\n",
    "setSlicePoseFromSliceNormalAndPosition(greenSliceNode, patella_r_x_axis, lms_list[lms.GetControlPointIndexByLabel('patella_r_anter')])"
   ]
  },
  {
   "cell_type": "markdown",
   "id": "7e167b9c",
   "metadata": {},
   "source": [
    "<div class=\"alert alert-block alert-info\">\n",
    "    <b>Move the green slice</b> to find <em>patella_sup_r</em> and <em>patella_r</em>. Adjust the position of these points so that <em>patella_r</em> is at the lowest tip of the bone and <em>patella_sup_r</em> in on the midsagittal yellow slice aligned with <em>patella_r_anter</em>. \n",
    "    </div>"
   ]
  },
  {
   "cell_type": "markdown",
   "id": "c00b2174",
   "metadata": {},
   "source": [
    "#### Right Femur Neck"
   ]
  },
  {
   "cell_type": "code",
   "execution_count": null,
   "id": "ab7e03ca",
   "metadata": {},
   "outputs": [],
   "source": [
    "# reorient red and green slices to transsect the femr head\n",
    "lms = slicer.util.getNode('orientation')\n",
    "lms_list = slicer.util.arrayFromMarkupsControlPoints(lms)\n",
    "\n",
    "femur_r_center = lms_list[lms.GetControlPointIndexByLabel('femur_r_center')]\n",
    "gr_troch_lat_r = lms_list[lms.GetControlPointIndexByLabel('gr_troch_lat_r')]\n",
    "knee_r_center = lms_list[lms.GetControlPointIndexByLabel('knee_r_center')]\n",
    "\n",
    "green_normal = plane_normal(femur_r_center, gr_troch_lat_r, knee_r_center)\n",
    "red_normal = (femur_r_center-gr_troch_lat_r)/np.linalg.norm(femur_r_center-gr_troch_lat_r)\n",
    "\n",
    "redSliceNode = slicer.util.getNode(\"vtkMRMLSliceNodeRed\")\n",
    "setSlicePoseFromSliceNormalAndPosition(redSliceNode, red_normal, femur_r_center)\n",
    "\n",
    "yellowSliceNode = slicer.util.getNode(\"vtkMRMLSliceNodeYellow\")\n",
    "setSlicePoseFromSliceNormalAndPosition(yellowSliceNode, np.array([1,0,0]), femur_r_center)\n",
    "\n",
    "greenSliceNode = slicer.util.getNode(\"vtkMRMLSliceNodeGreen\")\n",
    "setSlicePoseFromSliceNormalAndPosition(greenSliceNode, green_normal, femur_r_center)"
   ]
  },
  {
   "cell_type": "markdown",
   "id": "1f41a246",
   "metadata": {},
   "source": [
    "<!-- <div class=\"alert alert-block alert-info\">\n",
    "    <b>on the green slice</b> notice the location of the narrowest part of the femur neck. Move the red slice to crossect that area. You may want to use crosshair interaction tool to orient the red slice to be perpendicular to the femur neck. Place <em>femur_neck_center_r</em> and in the middle of the circular outline of the femur neck on the red slice. \n",
    "    </div> -->"
   ]
  },
  {
   "cell_type": "code",
   "execution_count": null,
   "id": "f661ee92",
   "metadata": {},
   "outputs": [],
   "source": [
    "# return slices into the default positions and center on the left knee:\n",
    "lms = slicer.util.getNode('orientation')\n",
    "lms_list = slicer.util.arrayFromMarkupsControlPoints(lms)\n",
    "knee_l_center = lms_list[lms.GetControlPointIndexByLabel('knee_l_center')]\n",
    "\n",
    "redSliceNode = slicer.util.getNode(\"vtkMRMLSliceNodeRed\")\n",
    "setSlicePoseFromSliceNormalAndPosition(redSliceNode, np.array([0,0,1]), knee_l_center)\n",
    "\n",
    "yellowSliceNode = slicer.util.getNode(\"vtkMRMLSliceNodeYellow\")\n",
    "setSlicePoseFromSliceNormalAndPosition(yellowSliceNode, np.array([1,0,0]), knee_l_center)\n",
    "\n",
    "greenSliceNode = slicer.util.getNode(\"vtkMRMLSliceNodeGreen\")\n",
    "setSlicePoseFromSliceNormalAndPosition(greenSliceNode, np.array([0,1,0]), knee_l_center)"
   ]
  },
  {
   "cell_type": "markdown",
   "id": "f32e366a",
   "metadata": {},
   "source": [
    "## Tibia \n",
    "### Epiphyses"
   ]
  },
  {
   "cell_type": "markdown",
   "id": "548f4d74",
   "metadata": {},
   "source": [
    "#### Left"
   ]
  },
  {
   "cell_type": "code",
   "execution_count": 19,
   "id": "5df9978b",
   "metadata": {},
   "outputs": [],
   "source": [
    "# First, calculate tibial axes\n",
    "lms = slicer.util.getNode('orientation')\n",
    "lms_list = slicer.util.arrayFromMarkupsControlPoints(lms)\n",
    "\n",
    "knee_l_center = lms_list[lms.GetControlPointIndexByLabel('knee_l_center')]\n",
    "talus_l_center_in_tibia = lms_list[lms.GetControlPointIndexByLabel('talus_l_center_in_tibia')]\n",
    "\n",
    "# calculate vertical axis\n",
    "tibia_l_normal = (knee_l_center-talus_l_center_in_tibia)/np.linalg.norm(knee_l_center-talus_l_center_in_tibia)"
   ]
  },
  {
   "cell_type": "code",
   "execution_count": 20,
   "id": "e47b4551",
   "metadata": {},
   "outputs": [],
   "source": [
    "# Second, reorient the red slice perpendicular to the vertical axis for the left tibia\n",
    "redSliceNode = slicer.util.getNode(\"vtkMRMLSliceNodeRed\")\n",
    "setSlicePoseFromSliceNormalAndPosition(redSliceNode, tibia_l_normal, knee_l_center)\n",
    "\n",
    "# And center green and yellow slices in the knee center.\n",
    "yellowSliceNode = slicer.util.getNode(\"vtkMRMLSliceNodeYellow\")\n",
    "setSlicePoseFromSliceNormalAndPosition(yellowSliceNode, np.array([1,0,0]), knee_l_center)\n",
    "\n",
    "greenSliceNode = slicer.util.getNode(\"vtkMRMLSliceNodeGreen\")\n",
    "setSlicePoseFromSliceNormalAndPosition(greenSliceNode, np.array([0,1,0]), knee_l_center)"
   ]
  },
  {
   "cell_type": "markdown",
   "id": "2c2d5402",
   "metadata": {},
   "source": [
    "<div class=\"alert alert-block alert-info\">\n",
    "<b>In 3dSlicer</b>, create a new markup point list node and call it 'tibia_l_outline'. Move the red slice and place 10-15 points around the outline of the tibial plateau on the red slice at the level where it just crosses through all of the tibial plateau.\n",
    "</div>"
   ]
  },
  {
   "cell_type": "code",
   "execution_count": 21,
   "id": "9d900738",
   "metadata": {},
   "outputs": [],
   "source": [
    "# import the result:\n",
    "tibia_l_outline = slicer.util.getNode('tibia_l_outline')\n",
    "outline_list = slicer.util.arrayFromMarkupsControlPoints(tibia_l_outline )\n",
    "\n",
    "# calculate outline center \n",
    "tibia_l_outline_center = np.mean(outline_list, axis = 0)\n",
    "\n",
    "# add the center to the outline node\n",
    "#slicer.modules.markups.logic().AddControlPoint(tibia_l_outline_center[0], tibia_l_outline_center[1], tibia_l_outline_center[2])"
   ]
  },
  {
   "cell_type": "code",
   "execution_count": 22,
   "id": "e43f9ec3",
   "metadata": {},
   "outputs": [],
   "source": [
    "# update tibia_l_center\n",
    "lms.SetNthControlPointPosition(lms.GetControlPointIndexByLabel('tibia_l_center'), \n",
    "                               tibia_l_outline_center[0], tibia_l_outline_center[1], tibia_l_outline_center[2])"
   ]
  },
  {
   "cell_type": "code",
   "execution_count": 23,
   "id": "dc0963a9",
   "metadata": {},
   "outputs": [],
   "source": [
    "# reimport outline points\n",
    "tibia_l_outline = slicer.util.getNode('tibia_l_outline')\n",
    "outline_list = slicer.util.arrayFromMarkupsControlPoints(tibia_l_outline )\n",
    "\n",
    "# subtract the center from the outline +\n",
    "outline_centered = outline_list - tibia_l_outline_center\n",
    "\n",
    "# calculate eigenvectors\n",
    "val, vect = np.linalg.eig(np.matmul(outline_centered.T, outline_centered))"
   ]
  },
  {
   "cell_type": "code",
   "execution_count": 24,
   "id": "005f55bb",
   "metadata": {},
   "outputs": [],
   "source": [
    "#rotate yellow slice\n",
    "yellowSliceNode = slicer.util.getNode(\"vtkMRMLSliceNodeYellow\")\n",
    "setSlicePoseFromSliceNormalAndPosition(yellowSliceNode, vect[0], tibia_l_outline_center)"
   ]
  },
  {
   "cell_type": "code",
   "execution_count": 26,
   "id": "e72edf8c",
   "metadata": {},
   "outputs": [],
   "source": [
    "# rotate green slice (try vect[1] then vect[2] and choose one that rotates the green slice along)\n",
    "# the longest axis of the outline\n",
    "greenSliceNode = slicer.util.getNode(\"vtkMRMLSliceNodeGreen\")\n",
    "setSlicePoseFromSliceNormalAndPosition(greenSliceNode, vect[1], tibia_l_outline_center)"
   ]
  },
  {
   "cell_type": "code",
   "execution_count": 27,
   "id": "3b82dd7e",
   "metadata": {},
   "outputs": [],
   "source": [
    "# Locate the red slice in tibia_l_outline_center\n",
    "redSliceNode = slicer.util.getNode(\"vtkMRMLSliceNodeRed\")\n",
    "setSlicePoseFromSliceNormalAndPosition(redSliceNode, tibia_l_normal, tibia_l_outline_center)"
   ]
  },
  {
   "cell_type": "markdown",
   "id": "437a2474",
   "metadata": {},
   "source": [
    "<div class=\"alert alert-block alert-info\">\n",
    "<b>In 3dSlicer</b>, adjust positions of the lateral and medial tibia points on the red slice so that they fall along the line of the green slice throught the centre. Then recalculate orientation planes of the tibia:\n",
    "</div>"
   ]
  },
  {
   "cell_type": "code",
   "execution_count": 28,
   "id": "19505ff6",
   "metadata": {},
   "outputs": [],
   "source": [
    "# reimport points\n",
    "lms = slicer.util.getNode('orientation')\n",
    "lms_list = slicer.util.arrayFromMarkupsControlPoints(lms)\n",
    "\n",
    "tibia_l_med = lms_list[lms.GetControlPointIndexByLabel('tibia_l_med')]\n",
    "tibia_l_lat = lms_list[lms.GetControlPointIndexByLabel('tibia_l_lat')]\n",
    "talus_l_center_in_tibia = lms_list[lms.GetControlPointIndexByLabel('talus_l_center_in_tibia')]\n",
    "\n",
    "# calculate vertical axis\n",
    "tibia_l_normal = (tibia_l_outline_center-talus_l_center_in_tibia)/np.linalg.norm(tibia_l_outline_center-talus_l_center_in_tibia)\n",
    "#tibia_l_normal = (knee_l_center-talus_l_center_in_tibia)/np.linalg.norm(knee_l_center-talus_l_center_in_tibia)"
   ]
  },
  {
   "cell_type": "code",
   "execution_count": 29,
   "id": "f7ee3b93",
   "metadata": {},
   "outputs": [],
   "source": [
    "# calculate postero-anterior axis\n",
    "tibia_l_pa = plane_normal(tibia_l_med, talus_l_center_in_tibia, tibia_l_lat)\n",
    "\n",
    "# calculate left-to-right axis\n",
    "tibia_l_lr = (np.cross(tibia_l_pa, tibia_l_normal))/np.linalg.norm(np.cross(tibia_l_pa, tibia_l_normal))"
   ]
  },
  {
   "cell_type": "code",
   "execution_count": 30,
   "id": "b2b84bbe",
   "metadata": {},
   "outputs": [],
   "source": [
    "# rotate green slice\n",
    "greenSliceNode = slicer.util.getNode(\"vtkMRMLSliceNodeGreen\")\n",
    "#setSlicePoseFromSliceNormalAndPosition(greenSliceNode, tibia_l_pa, knee_l_center) #tibia_l_outline_center\n",
    "setSlicePoseFromSliceNormalAndPosition(greenSliceNode, tibia_l_pa, tibia_l_outline_center) #\n",
    "\n",
    "# rotate yellow slice\n",
    "yellowSliceNode = slicer.util.getNode(\"vtkMRMLSliceNodeYellow\")\n",
    "#setSlicePoseFromSliceNormalAndPosition(yellowSliceNode, tibia_l_lr, knee_l_center) #tibia_l_outline_center\n",
    "setSlicePoseFromSliceNormalAndPosition(yellowSliceNode, tibia_l_lr, tibia_l_outline_center) #"
   ]
  },
  {
   "cell_type": "markdown",
   "id": "bce28339",
   "metadata": {},
   "source": [
    "<div class=\"alert alert-block alert-info\">\n",
    " <b>Click tibia_l_center to align slices with the center of the left tibia.</b> Keep green and yellow slices in the same position and move the red slice to locate following points. \n",
    "    \n",
    "<p>on the yellow slice:  \n",
    "    <li> <em>tibia_l_epiph_yellow_posteriormost</em> </li> \n",
    "    <li> <em>tibia_l_epiph_yellow_anterior_plate</em> </li> \n",
    "    <li> <em>tibia_l_epiph_yellow_patel_tend_point</em> </li> \n",
    "    <li> <em>tibia_l_ankle_yellow_anter</em> </li> \n",
    "</p> \n",
    "<p>on the green slice: \n",
    "    <li> <em>tibia_l_epiph_green_medial_lower_epiph</em> - this point is defined as the lower corner of the tibial medial ephiphysis.</li>\n",
    "</p>\n",
    "\n",
    "</div>"
   ]
  },
  {
   "cell_type": "markdown",
   "id": "7e8f8df6",
   "metadata": {},
   "source": [
    "<div class=\"alert alert-block alert-info\">\n",
    "<b>Now that red, green and yellow slices are all aligned with the tibia axes</b>, adjust the position of landmarks on fibula: <em>fibula_l_as</em> is the anterior tip of the proximal end of the bone; These are best seen on the yellow slice but can be also controlled on the red slice.\n",
    "</div>"
   ]
  },
  {
   "cell_type": "markdown",
   "id": "2bf81f3c",
   "metadata": {},
   "source": [
    "#### Right"
   ]
  },
  {
   "cell_type": "code",
   "execution_count": 31,
   "id": "92aabcd2",
   "metadata": {},
   "outputs": [],
   "source": [
    "# First, calculate tibial axes\n",
    "lms = slicer.util.getNode('orientation')\n",
    "lms_list = slicer.util.arrayFromMarkupsControlPoints(lms)\n",
    "\n",
    "knee_r_center = lms_list[lms.GetControlPointIndexByLabel('knee_r_center')]\n",
    "talus_r_center_in_tibia = lms_list[lms.GetControlPointIndexByLabel('talus_r_center_in_tibia')]\n",
    "\n",
    "# calculate vertical axis\n",
    "tibia_r_normal = (knee_r_center-talus_r_center_in_tibia)/np.linalg.norm(knee_r_center-talus_r_center_in_tibia)"
   ]
  },
  {
   "cell_type": "code",
   "execution_count": 32,
   "id": "beb6af41",
   "metadata": {},
   "outputs": [],
   "source": [
    "# Then, reorient red slice perpendicular to ankle-knee axis for the right tibia\n",
    "redSliceNode = slicer.util.getNode(\"vtkMRMLSliceNodeRed\")\n",
    "setSlicePoseFromSliceNormalAndPosition(redSliceNode, tibia_r_normal, knee_r_center)\n",
    "\n",
    "# And center green and yellow slices in the knee center.\n",
    "yellowSliceNode = slicer.util.getNode(\"vtkMRMLSliceNodeYellow\")\n",
    "setSlicePoseFromSliceNormalAndPosition(yellowSliceNode, np.array([1,0,0]), knee_r_center)\n",
    "\n",
    "greenSliceNode = slicer.util.getNode(\"vtkMRMLSliceNodeGreen\")\n",
    "setSlicePoseFromSliceNormalAndPosition(greenSliceNode, np.array([0,1,0]), knee_r_center)"
   ]
  },
  {
   "cell_type": "markdown",
   "id": "37805e31",
   "metadata": {},
   "source": [
    "<div class=\"alert alert-block alert-info\">\n",
    "<b>In 3dSlicer</b>, create a new markup point list node and call it 'tibia_r_outline'. Move the red slice and place 10-15 points arounf the outline of the tibial plateau on the red slice at the level were it just crosses through all of the tibial plateau.\n",
    "</div>"
   ]
  },
  {
   "cell_type": "code",
   "execution_count": 33,
   "id": "cf0b07f8",
   "metadata": {},
   "outputs": [],
   "source": [
    "# import the result\n",
    "tibia_r_outline = slicer.util.getNode('tibia_r_outline')\n",
    "outline_list = slicer.util.arrayFromMarkupsControlPoints(tibia_r_outline )\n",
    "\n",
    "# calculate the center \n",
    "tibia_r_outline_center = np.mean(outline_list, axis = 0)"
   ]
  },
  {
   "cell_type": "code",
   "execution_count": 34,
   "id": "99268d68",
   "metadata": {},
   "outputs": [],
   "source": [
    "# update tibia_r_center\n",
    "lms.SetNthControlPointPosition(lms.GetControlPointIndexByLabel('tibia_r_center'), \n",
    "                               tibia_r_outline_center[0], tibia_r_outline_center[1], tibia_r_outline_center[2])"
   ]
  },
  {
   "cell_type": "code",
   "execution_count": 35,
   "id": "54b484b1",
   "metadata": {},
   "outputs": [],
   "source": [
    "# in the next step, we generate eigenvectors of the tibial plateau outline\n",
    "# and chose those that correspond with the mediolateral and anteroposterior directions\n",
    "\n",
    "# reimport the outline\n",
    "tibia_r_outline = slicer.util.getNode('tibia_r_outline')\n",
    "outline_list = slicer.util.arrayFromMarkupsControlPoints(tibia_r_outline )\n",
    "\n",
    "# subtract the center from the outline +\n",
    "outline_centered = outline_list - tibia_r_outline_center\n",
    "\n",
    "# calculate eigenvectors\n",
    "val, vect = np.linalg.eig(np.matmul(outline_centered.T, outline_centered))"
   ]
  },
  {
   "cell_type": "code",
   "execution_count": 39,
   "id": "f33f566a",
   "metadata": {},
   "outputs": [],
   "source": [
    "# rotate yellow slice\n",
    "yellowSliceNode = slicer.util.getNode(\"vtkMRMLSliceNodeYellow\")\n",
    "setSlicePoseFromSliceNormalAndPosition(yellowSliceNode, vect[0], tibia_r_outline_center) #tibia_r_outline_center"
   ]
  },
  {
   "cell_type": "code",
   "execution_count": 40,
   "id": "fd41b679",
   "metadata": {},
   "outputs": [],
   "source": [
    "# rotate green slice (try vect[1] then vect[2] and choose one that rotates the green slice along)\n",
    "# the longest axis of the outline\n",
    "greenSliceNode = slicer.util.getNode(\"vtkMRMLSliceNodeGreen\")\n",
    "setSlicePoseFromSliceNormalAndPosition(greenSliceNode, vect[1], tibia_r_outline_center) #tibia_r_outline_center"
   ]
  },
  {
   "cell_type": "code",
   "execution_count": 41,
   "id": "e54d02c1",
   "metadata": {},
   "outputs": [],
   "source": [
    "# Locate the red slice in tibia_l_outline_center\n",
    "redSliceNode = slicer.util.getNode(\"vtkMRMLSliceNodeRed\")\n",
    "setSlicePoseFromSliceNormalAndPosition(redSliceNode, tibia_r_normal, tibia_r_outline_center) #tibia_r_outline_center"
   ]
  },
  {
   "cell_type": "markdown",
   "id": "4e526df2",
   "metadata": {},
   "source": [
    "<div class=\"alert alert-block alert-info\">\n",
    "<b>In 3dSlicer</b>, adjust positions of the lateral and medial tibia points to fit on the red slice along the line of the green slice throught the centre.\n",
    "</div>"
   ]
  },
  {
   "cell_type": "code",
   "execution_count": 42,
   "id": "996abc03",
   "metadata": {},
   "outputs": [],
   "source": [
    "# import points\n",
    "lms = slicer.util.getNode('orientation')\n",
    "lms_list = slicer.util.arrayFromMarkupsControlPoints(lms)\n",
    "\n",
    "tibia_r_med = lms_list[lms.GetControlPointIndexByLabel('tibia_r_med')]\n",
    "tibia_r_lat = lms_list[lms.GetControlPointIndexByLabel('tibia_r_lat')]\n",
    "talus_r_center_in_tibia = lms_list[lms.GetControlPointIndexByLabel('talus_r_center_in_tibia')]"
   ]
  },
  {
   "cell_type": "code",
   "execution_count": 43,
   "id": "32366a8f",
   "metadata": {},
   "outputs": [],
   "source": [
    "# calculate postero-anterior axis\n",
    "tibia_r_pa = plane_normal(tibia_r_med, talus_r_center_in_tibia, tibia_r_lat)\n",
    "\n",
    "# calculate left-to-right axis\n",
    "tibia_r_lr = (np.cross(tibia_r_pa, tibia_r_normal))/np.linalg.norm(np.cross(tibia_r_pa, tibia_r_normal))"
   ]
  },
  {
   "cell_type": "code",
   "execution_count": 44,
   "id": "7eb75861",
   "metadata": {},
   "outputs": [],
   "source": [
    "# rotate green slice\n",
    "greenSliceNode = slicer.util.getNode(\"vtkMRMLSliceNodeGreen\")\n",
    "setSlicePoseFromSliceNormalAndPosition(greenSliceNode, tibia_r_pa, tibia_r_outline_center) #\n",
    "#setSlicePoseFromSliceNormalAndPosition(greenSliceNode, tibia_r_pa, knee_r_center) #tibia_r_outline_center\n",
    "\n",
    "# rotate yellow slice\n",
    "yellowSliceNode = slicer.util.getNode(\"vtkMRMLSliceNodeYellow\")\n",
    "setSlicePoseFromSliceNormalAndPosition(yellowSliceNode, tibia_r_lr, tibia_r_outline_center) #\n",
    "#setSlicePoseFromSliceNormalAndPosition(yellowSliceNode, tibia_r_lr, knee_r_center) #tibia_r_outline_center"
   ]
  },
  {
   "cell_type": "markdown",
   "id": "f84817bb",
   "metadata": {},
   "source": [
    "<div class=\"alert alert-block alert-info\">\n",
    " <b>Click tibia_r_center to align slices with the center of the left tibia.</b> Keep green and yellow slices in the same position and move the red slice to locate following points. \n",
    "    <p>on the yellow slice:  \n",
    "    <li> <em>tibia_r_epiph_yellow_posteriormost</em> - defined as the posterior inferior point of the proximal epiphysis.</li> \n",
    "    <li> <em>tibia_r_epiph_yellow_anterior_plate</em> </li> \n",
    "    <li> <em>tibia_r_epiph_yellow_patel_tend_point</em> </li> \n",
    "    <li> <em>tibia_r_ankle_yellow_anter</em> </li> \n",
    "    </p> \n",
    "    <p>on the green slice: \n",
    "    <li> <em>tibia_r_epiph_green_medial_lower_epiph</em> - this point is defined as the lower corner of the tibial medial ephiphysis. </li></p>\n",
    "\n",
    "</div>"
   ]
  },
  {
   "cell_type": "markdown",
   "id": "340a21a8",
   "metadata": {},
   "source": [
    "<div class=\"alert alert-block alert-info\">\n",
    "<b>Contunue using the same orientation of slices</b>, adjust the position of landmarks on fibula: <em>fibula_r_as</em> is the anterior tip of the proximal end of the bone, best seen on the yellow slice but can be also controlled on the red slice.\n",
    "</div>"
   ]
  },
  {
   "cell_type": "code",
   "execution_count": 45,
   "id": "6f7b6528",
   "metadata": {},
   "outputs": [],
   "source": [
    "# return slices into the default positions\n",
    "redSliceNode = slicer.util.getNode(\"vtkMRMLSliceNodeRed\")\n",
    "setSlicePoseFromSliceNormalAndPosition(redSliceNode, np.array([0,0,1]), knee_r_center)\n",
    "\n",
    "yellowSliceNode = slicer.util.getNode(\"vtkMRMLSliceNodeYellow\")\n",
    "setSlicePoseFromSliceNormalAndPosition(yellowSliceNode, np.array([1,0,0]), knee_r_center)\n",
    "\n",
    "greenSliceNode = slicer.util.getNode(\"vtkMRMLSliceNodeGreen\")\n",
    "setSlicePoseFromSliceNormalAndPosition(greenSliceNode, np.array([0,1,0]), knee_r_center)"
   ]
  },
  {
   "cell_type": "markdown",
   "id": "ebfa6c4d",
   "metadata": {},
   "source": [
    "### Diaphyses"
   ]
  },
  {
   "cell_type": "markdown",
   "id": "09e6183b",
   "metadata": {},
   "source": [
    "#### Left"
   ]
  },
  {
   "cell_type": "markdown",
   "id": "a764b91e",
   "metadata": {},
   "source": [
    "##### 50%"
   ]
  },
  {
   "cell_type": "code",
   "execution_count": 46,
   "id": "14a85b41",
   "metadata": {},
   "outputs": [],
   "source": [
    "## re-import all markers\n",
    "lms = slicer.util.getNode('orientation')\n",
    "lms_list = slicer.util.arrayFromMarkupsControlPoints(lms)\n",
    "\n",
    "## Left tibia\n",
    "fibula_l_midshaft_anter = lms.GetControlPointIndexByLabel('fibula_l_midshaft_anter')\n",
    "tibia_l_midshaft_anter = lms.GetControlPointIndexByLabel('tibia_l_midshaft_anter')\n",
    "tibia_l_midshaft_poster = lms.GetControlPointIndexByLabel('tibia_l_midshaft_poster')\n",
    "\n",
    "knee_l_center = lms_list[lms.GetControlPointIndexByLabel('knee_l_center')]\n",
    "# ankle_l_center = lms_list[lms.GetControlPointIndexByLabel('ankle_l_center')]\n",
    "talus_l_center_in_tibia = lms_list[lms.GetControlPointIndexByLabel('talus_l_center_in_tibia')]\n",
    "\n",
    "tibia_l_mean = np.mean((knee_l_center, talus_l_center_in_tibia), axis=0)\n",
    "tibia_l_normal = (knee_l_center-talus_l_center_in_tibia)/np.linalg.norm(knee_l_center-talus_l_center_in_tibia)"
   ]
  },
  {
   "cell_type": "code",
   "execution_count": 47,
   "id": "6b128dc7",
   "metadata": {},
   "outputs": [],
   "source": [
    "### the next step will locate midshaft landmarks APPROXIMATELY in the middle of diaphisis\n",
    "lms.SetNthControlPointPosition(fibula_l_midshaft_anter, \n",
    "                               lms_list[fibula_l_midshaft_anter][0], \n",
    "                               lms_list[fibula_l_midshaft_anter][1], \n",
    "                               tibia_l_mean[2])\n",
    "lms.SetNthControlPointPosition(tibia_l_midshaft_anter, \n",
    "                               lms_list[tibia_l_midshaft_anter][0], \n",
    "                               lms_list[tibia_l_midshaft_anter][1], \n",
    "                               tibia_l_mean[2])\n",
    "lms.SetNthControlPointPosition(tibia_l_midshaft_poster, \n",
    "                               lms_list[tibia_l_midshaft_poster][0], \n",
    "                               lms_list[tibia_l_midshaft_poster][1], \n",
    "                               tibia_l_mean[2])"
   ]
  },
  {
   "cell_type": "code",
   "execution_count": 48,
   "id": "f13b4a76",
   "metadata": {},
   "outputs": [],
   "source": [
    "### reorient the red slice and center it on the centre of the left tibia:\n",
    "redSliceNode = slicer.util.getNode(\"vtkMRMLSliceNodeRed\")\n",
    "setSlicePoseFromSliceNormalAndPosition(redSliceNode, tibia_l_normal, tibia_l_mean)\n",
    "\n",
    "## move yellow and green slices to show midshaft points\n",
    "yellowSliceNode = slicer.util.getNode(\"vtkMRMLSliceNodeYellow\")\n",
    "setSlicePoseFromSliceNormalAndPosition(yellowSliceNode, np.array([1,0,0]), lms_list[tibia_l_midshaft_anter])\n",
    "greenSliceNode = slicer.util.getNode(\"vtkMRMLSliceNodeGreen\")\n",
    "setSlicePoseFromSliceNormalAndPosition(greenSliceNode, np.array([0,1,0]), lms_list[tibia_l_midshaft_poster])"
   ]
  },
  {
   "cell_type": "markdown",
   "id": "e3f2e737",
   "metadata": {},
   "source": [
    "<div class=\"alert alert-block alert-info\">\n",
    "<b>In 3dSlicer GUI</b>, keep the red slice in place, move green and yellow slices to find and adjust position of midshaft landmarks (**tibia_l_midshaft_anter**, **tibia_l_midshaft_poster**, **fibula_l_midshaft_anter**) to fit on the red slice exactly anterior or posterior of the shaft (across its longest axis). The anterior landmark should be placed at the tip of the sharp corner anteriorly.\n",
    "</div>"
   ]
  },
  {
   "cell_type": "markdown",
   "id": "107c030d",
   "metadata": {},
   "source": [
    "##### 25%"
   ]
  },
  {
   "cell_type": "code",
   "execution_count": 49,
   "id": "a985a869",
   "metadata": {},
   "outputs": [],
   "source": [
    "## re-import all markers\n",
    "lms = slicer.util.getNode('orientation')\n",
    "lms_list = slicer.util.arrayFromMarkupsControlPoints(lms)\n",
    "\n",
    "knee_l_center = lms_list[lms.GetControlPointIndexByLabel('knee_l_center')]\n",
    "talus_l_center_in_tibia = lms_list[lms.GetControlPointIndexByLabel('talus_l_center_in_tibia')]\n",
    "tibia_l_mean = np.mean((knee_l_center, talus_l_center_in_tibia), axis=0)\n",
    "tibia_l_normal = (knee_l_center - talus_l_center_in_tibia)/np.linalg.norm(knee_l_center - talus_l_center_in_tibia)\n",
    "\n",
    "tibia_l_top_quater = np.mean((knee_l_center,tibia_l_mean), axis = 0)\n",
    "\n",
    "### reorient the red slice and center it on the centre of the left tibia:\n",
    "redSliceNode = slicer.util.getNode(\"vtkMRMLSliceNodeRed\")\n",
    "setSlicePoseFromSliceNormalAndPosition(redSliceNode, tibia_l_normal, tibia_l_top_quater)\n",
    "## move yellow and green slices to show midshaft points\n",
    "yellowSliceNode = slicer.util.getNode(\"vtkMRMLSliceNodeYellow\")\n",
    "setSlicePoseFromSliceNormalAndPosition(yellowSliceNode, np.array([1,0,0]), tibia_l_top_quater)\n",
    "greenSliceNode = slicer.util.getNode(\"vtkMRMLSliceNodeGreen\")\n",
    "setSlicePoseFromSliceNormalAndPosition(greenSliceNode, np.array([0,1,0]), tibia_l_top_quater)"
   ]
  },
  {
   "cell_type": "markdown",
   "id": "ab78aeee",
   "metadata": {},
   "source": [
    "<div class=\"alert alert-block alert-info\">\n",
    "<b>In 3dSlicer GUI</b>, on the red slice, place <b><em> tibia_l_anter_diaph_25 </em></b> point -- which is at the anterior sharp corner of tibia (place it just at the edge/outside of the black cortical bone) .\n",
    "</div>"
   ]
  },
  {
   "cell_type": "markdown",
   "id": "546310a7",
   "metadata": {},
   "source": [
    "##### 75%"
   ]
  },
  {
   "cell_type": "code",
   "execution_count": 50,
   "id": "799d7b9a",
   "metadata": {},
   "outputs": [],
   "source": [
    "## re-import all markers\n",
    "lms = slicer.util.getNode('orientation')\n",
    "lms_list = slicer.util.arrayFromMarkupsControlPoints(lms)\n",
    "\n",
    "knee_l_center = lms_list[lms.GetControlPointIndexByLabel('knee_l_center')]\n",
    "talus_l_center_in_tibia = lms_list[lms.GetControlPointIndexByLabel('talus_l_center_in_tibia')]\n",
    "tibia_l_mean = np.mean((knee_l_center, talus_l_center_in_tibia), axis=0)\n",
    "tibia_l_normal = (knee_l_center-talus_l_center_in_tibia)/np.linalg.norm(knee_l_center-talus_l_center_in_tibia)\n",
    "\n",
    "tibia_l_bottom_quater = np.mean((talus_l_center_in_tibia, tibia_l_mean), axis = 0)\n",
    "\n",
    "### reorient the red slice and center it on the centre of the left tibia:\n",
    "redSliceNode = slicer.util.getNode(\"vtkMRMLSliceNodeRed\")\n",
    "setSlicePoseFromSliceNormalAndPosition(redSliceNode, tibia_l_normal, tibia_l_bottom_quater)\n",
    "## move yellow and green slices to show midshaft points\n",
    "yellowSliceNode = slicer.util.getNode(\"vtkMRMLSliceNodeYellow\")\n",
    "setSlicePoseFromSliceNormalAndPosition(yellowSliceNode, np.array([1,0,0]), tibia_l_bottom_quater)\n",
    "greenSliceNode = slicer.util.getNode(\"vtkMRMLSliceNodeGreen\")\n",
    "setSlicePoseFromSliceNormalAndPosition(greenSliceNode, np.array([0,1,0]), tibia_l_bottom_quater)"
   ]
  },
  {
   "cell_type": "markdown",
   "id": "bbe0bda3",
   "metadata": {},
   "source": [
    "<div class=\"alert alert-block alert-info\">\n",
    "<b>In 3dSlicer GUI</b>, on the red slice, place <b><em> tibia_l_anter_diaph_75 </em></b> and <b><em> fibula_l_anter_diaph_75 </em></b> points -- which is at the anterior sharp corner of tibia (place it just at the edge/outside of the black cortical bone) .\n",
    "</div>"
   ]
  },
  {
   "cell_type": "markdown",
   "id": "c799d781",
   "metadata": {},
   "source": [
    "#### Right"
   ]
  },
  {
   "cell_type": "markdown",
   "id": "2c8a58c3",
   "metadata": {},
   "source": [
    "##### 50%"
   ]
  },
  {
   "cell_type": "code",
   "execution_count": 51,
   "id": "f792a06c",
   "metadata": {},
   "outputs": [],
   "source": [
    "## re-import all markers\n",
    "lms = slicer.util.getNode('orientation')\n",
    "lms_list = slicer.util.arrayFromMarkupsControlPoints(lms)\n",
    "\n",
    "## Right tibia\n",
    "fibula_r_midshaft_anter = lms.GetControlPointIndexByLabel('fibula_r_midshaft_anter')\n",
    "tibia_r_midshaft_anter = lms.GetControlPointIndexByLabel('tibia_r_midshaft_anter')\n",
    "tibia_r_midshaft_poster = lms.GetControlPointIndexByLabel('tibia_r_midshaft_poster')\n",
    "\n",
    "knee_r_center = lms_list[lms.GetControlPointIndexByLabel('knee_r_center')]\n",
    "ankle_r_center = lms_list[lms.GetControlPointIndexByLabel('ankle_l_center')]\n",
    "talus_r_center_in_tibia = lms_list[lms.GetControlPointIndexByLabel('talus_r_center_in_tibia')]\n",
    "\n",
    "tibia_r_mean = np.mean((knee_r_center,ankle_r_center), axis=0)\n",
    "tibia_r_normal = (knee_r_center-talus_r_center_in_tibia)/np.linalg.norm(knee_r_center-talus_r_center_in_tibia)"
   ]
  },
  {
   "cell_type": "code",
   "execution_count": 52,
   "id": "0d0f1024",
   "metadata": {},
   "outputs": [],
   "source": [
    "### the next step will locate midshaft landmars APPROXIMATELY in the middle of diaphisis\n",
    "lms.SetNthControlPointPosition(fibula_r_midshaft_anter, \n",
    "                               lms_list[fibula_r_midshaft_anter][0], \n",
    "                               lms_list[fibula_r_midshaft_anter][1], \n",
    "                               tibia_r_mean[2])\n",
    "lms.SetNthControlPointPosition(tibia_r_midshaft_anter, \n",
    "                               lms_list[tibia_r_midshaft_anter][0], \n",
    "                               lms_list[tibia_r_midshaft_anter][1], \n",
    "                               tibia_r_mean[2])\n",
    "lms.SetNthControlPointPosition(tibia_r_midshaft_poster, \n",
    "                               lms_list[tibia_r_midshaft_poster][0], \n",
    "                               lms_list[tibia_r_midshaft_poster][1], \n",
    "                               tibia_r_mean[2])"
   ]
  },
  {
   "cell_type": "code",
   "execution_count": 53,
   "id": "0c1611c8",
   "metadata": {},
   "outputs": [],
   "source": [
    "### reorient the red slice:\n",
    "redSliceNode = slicer.util.getNode(\"vtkMRMLSliceNodeRed\")\n",
    "setSlicePoseFromSliceNormalAndPosition(redSliceNode, tibia_r_normal, tibia_r_mean)\n",
    "\n",
    "## move yellow and green slices to show midshaft points\n",
    "yellowSliceNode = slicer.util.getNode(\"vtkMRMLSliceNodeYellow\")\n",
    "setSlicePoseFromSliceNormalAndPosition(yellowSliceNode, np.array([1,0,0]), lms_list[tibia_r_midshaft_anter])\n",
    "greenSliceNode = slicer.util.getNode(\"vtkMRMLSliceNodeGreen\")\n",
    "setSlicePoseFromSliceNormalAndPosition(greenSliceNode, np.array([0,1,0]), lms_list[tibia_r_midshaft_poster])"
   ]
  },
  {
   "cell_type": "markdown",
   "id": "18a3b5b5",
   "metadata": {},
   "source": [
    "<div class=\"alert alert-block alert-info\">\n",
    "<b>In 3dSlicer GUI</b>, keep the red slice in place, move green and yellow slices to find and adjust position of midshaft landmarks (**tibia_r_midshaft_anter**, **tibia_r_midshaft_poster**, **fibula_r_midshaft_anter**)to fit on the red slice exactly anterior or posterior of the shaft (across its longest axis). The anterior landmark should be placed at the tip of the sharp corner anteriorly.\n",
    "</div>"
   ]
  },
  {
   "cell_type": "markdown",
   "id": "afe77cfe",
   "metadata": {},
   "source": [
    "##### 25%"
   ]
  },
  {
   "cell_type": "code",
   "execution_count": 54,
   "id": "20b829f0",
   "metadata": {},
   "outputs": [],
   "source": [
    "## re-import all markers\n",
    "lms = slicer.util.getNode('orientation')\n",
    "lms_list = slicer.util.arrayFromMarkupsControlPoints(lms)\n",
    "\n",
    "knee_r_center = lms_list[lms.GetControlPointIndexByLabel('knee_r_center')]\n",
    "talus_r_center_in_tibia = lms_list[lms.GetControlPointIndexByLabel('talus_r_center_in_tibia')]\n",
    "tibia_r_mean = np.mean((knee_r_center, talus_r_center_in_tibia), axis=0)\n",
    "tibia_r_normal = (knee_r_center - talus_r_center_in_tibia)/np.linalg.norm(knee_r_center - talus_r_center_in_tibia)\n",
    "\n",
    "tibia_r_top_quater = np.mean((knee_r_center, tibia_r_mean), axis = 0)\n",
    "\n",
    "### reorient the red slice and center it on the centre of the left tibia:\n",
    "redSliceNode = slicer.util.getNode(\"vtkMRMLSliceNodeRed\")\n",
    "setSlicePoseFromSliceNormalAndPosition(redSliceNode, tibia_r_normal, tibia_r_top_quater)\n",
    "## move yellow and green slices to show midshaft points\n",
    "yellowSliceNode = slicer.util.getNode(\"vtkMRMLSliceNodeYellow\")\n",
    "setSlicePoseFromSliceNormalAndPosition(yellowSliceNode, np.array([1,0,0]), tibia_r_top_quater)\n",
    "greenSliceNode = slicer.util.getNode(\"vtkMRMLSliceNodeGreen\")\n",
    "setSlicePoseFromSliceNormalAndPosition(greenSliceNode, np.array([0,1,0]), tibia_r_top_quater)"
   ]
  },
  {
   "cell_type": "markdown",
   "id": "247c4567",
   "metadata": {},
   "source": [
    "<div class=\"alert alert-block alert-info\">\n",
    "<b>In 3dSlicer GUI</b>, on the red slice, place <b><em> tibia_r_anter_diaph_25 </em></b> point -- which is at the anterior sharp corner of tibia (place it just at the edge/outside of the black cortical bone) .\n",
    "</div>"
   ]
  },
  {
   "cell_type": "markdown",
   "id": "17935027",
   "metadata": {},
   "source": [
    "##### 75%"
   ]
  },
  {
   "cell_type": "code",
   "execution_count": 55,
   "id": "49785a7b",
   "metadata": {},
   "outputs": [],
   "source": [
    "## re-import all markers\n",
    "lms = slicer.util.getNode('orientation')\n",
    "lms_list = slicer.util.arrayFromMarkupsControlPoints(lms)\n",
    "\n",
    "knee_r_center = lms_list[lms.GetControlPointIndexByLabel('knee_r_center')]\n",
    "talus_r_center_in_tibia = lms_list[lms.GetControlPointIndexByLabel('talus_r_center_in_tibia')]\n",
    "tibia_r_mean = np.mean((knee_r_center, talus_r_center_in_tibia), axis=0)\n",
    "tibia_r_normal = (knee_r_center-talus_r_center_in_tibia)/np.linalg.norm(knee_r_center-talus_r_center_in_tibia)\n",
    "\n",
    "tibia_r_bottom_quater = np.mean((talus_r_center_in_tibia, tibia_r_mean), axis = 0)\n",
    "\n",
    "### reorient the red slice and center it on the centre of the left tibia:\n",
    "redSliceNode = slicer.util.getNode(\"vtkMRMLSliceNodeRed\")\n",
    "setSlicePoseFromSliceNormalAndPosition(redSliceNode, tibia_r_normal, tibia_r_bottom_quater)\n",
    "## move yellow and green slices to show midshaft points\n",
    "yellowSliceNode = slicer.util.getNode(\"vtkMRMLSliceNodeYellow\")\n",
    "setSlicePoseFromSliceNormalAndPosition(yellowSliceNode, np.array([1,0,0]), tibia_r_bottom_quater)\n",
    "greenSliceNode = slicer.util.getNode(\"vtkMRMLSliceNodeGreen\")\n",
    "setSlicePoseFromSliceNormalAndPosition(greenSliceNode, np.array([0,1,0]), tibia_r_bottom_quater)"
   ]
  },
  {
   "cell_type": "markdown",
   "id": "cdb74e28",
   "metadata": {},
   "source": [
    "<div class=\"alert alert-block alert-info\">\n",
    "<b>In 3dSlicer GUI</b>, on the red slice, place <b><em> tibia_r_anter_diaph_75 </em></b> and <b><em> fibula_r_anter_diaph_75 </em></b> points -- which is at the anterior sharp corner of tibia (place it just at the edge/outside of the black cortical bone) .\n",
    "</div>"
   ]
  },
  {
   "cell_type": "code",
   "execution_count": 56,
   "id": "49b5d032",
   "metadata": {},
   "outputs": [],
   "source": [
    "# return slices into the default positions\n",
    "redSliceNode = slicer.util.getNode(\"vtkMRMLSliceNodeRed\")\n",
    "setSlicePoseFromSliceNormalAndPosition(redSliceNode, np.array([0,0,1]), knee_r_center)\n",
    "\n",
    "yellowSliceNode = slicer.util.getNode(\"vtkMRMLSliceNodeYellow\")\n",
    "setSlicePoseFromSliceNormalAndPosition(yellowSliceNode, np.array([1,0,0]), knee_r_center)\n",
    "\n",
    "greenSliceNode = slicer.util.getNode(\"vtkMRMLSliceNodeGreen\")\n",
    "setSlicePoseFromSliceNormalAndPosition(greenSliceNode, np.array([0,1,0]), knee_r_center)"
   ]
  },
  {
   "cell_type": "markdown",
   "id": "8f455494",
   "metadata": {},
   "source": [
    "# Finishing points"
   ]
  },
  {
   "cell_type": "code",
   "execution_count": 57,
   "id": "17ac03c5",
   "metadata": {},
   "outputs": [],
   "source": [
    "# Update location of joints in parent frames that were previousely omitted -- these should have been projected into the correct location anyway but just to make sure\n",
    "lms = slicer.util.getNode('orientation')\n",
    "lms_list = slicer.util.arrayFromMarkupsControlPoints(lms)\n",
    "\n",
    "pelvis_origin_in_ground_index = lms.GetControlPointIndexByLabel('pelvis_origin_in_ground')\n",
    "pelvis_origin_coords = lms_list[lms.GetControlPointIndexByLabel('pelvis_origin')]\n",
    "lms.SetNthControlPointPosition(pelvis_origin_in_ground_index, \n",
    "                               pelvis_origin_coords[0], \n",
    "                               pelvis_origin_coords[1], \n",
    "                               pelvis_origin_coords[2])\n",
    "\n",
    "femur_l_center_coords = lms_list[lms.GetControlPointIndexByLabel('femur_l_center')]\n",
    "femur_l_center_in_pelvis_index = lms.GetControlPointIndexByLabel('femur_l_center_in_pelvis')\n",
    "lms.SetNthControlPointPosition(femur_l_center_in_pelvis_index, \n",
    "                               femur_l_center_coords[0], \n",
    "                               femur_l_center_coords[1], \n",
    "                               femur_l_center_coords[2])\n",
    "\n",
    "femur_r_center_coords = lms_list[lms.GetControlPointIndexByLabel('femur_r_center')]\n",
    "femur_r_center_in_pelvis_index = lms.GetControlPointIndexByLabel('femur_r_center_in_pelvis')\n",
    "lms.SetNthControlPointPosition(femur_r_center_in_pelvis_index, \n",
    "                               femur_r_center_coords[0], \n",
    "                               femur_r_center_coords[1], \n",
    "                               femur_r_center_coords[2])\n",
    "\n",
    "patella_l = lms_list[lms.GetControlPointIndexByLabel('patella_l')]\n",
    "lms.SetNthControlPointPosition(lms.GetControlPointIndexByLabel('patella_l_in_femur_l'), \n",
    "                               patella_l[0], \n",
    "                               patella_l[1], \n",
    "                               patella_l[2])\n",
    "\n",
    "patella_r = lms_list[lms.GetControlPointIndexByLabel('patella_r')]\n",
    "lms.SetNthControlPointPosition(lms.GetControlPointIndexByLabel('patella_r_in_femur_r'), \n",
    "                               patella_r[0], \n",
    "                               patella_r[1], \n",
    "                               patella_r[2])"
   ]
  },
  {
   "cell_type": "markdown",
   "id": "3e7b694e",
   "metadata": {},
   "source": [
    "# Dont forget to save your work!"
   ]
  }
 ],
 "metadata": {
  "kernelspec": {
   "display_name": "Slicer 5.6",
   "language": "python",
   "name": "slicer-5.6"
  },
  "language_info": {
   "file_extension": ".py",
   "mimetype": "text/x-python",
   "name": "python",
   "version": "3.9.10"
  }
 },
 "nbformat": 4,
 "nbformat_minor": 5
}
