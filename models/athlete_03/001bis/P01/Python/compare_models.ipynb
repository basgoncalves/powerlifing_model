{
 "cells": [
  {
   "cell_type": "code",
   "execution_count": 1,
   "metadata": {},
   "outputs": [],
   "source": [
    "import matplotlib.pyplot as plt\n",
    "import pandas as pd\n",
    "import opensim as osim\n",
    "import os\n",
    "\n",
    "from stan_utils import *"
   ]
  },
  {
   "cell_type": "code",
   "execution_count": 2,
   "metadata": {},
   "outputs": [
    {
     "data": {
      "text/plain": [
       "'c:\\\\Users\\\\User\\\\OneDrive\\\\Documents\\\\WORK\\\\JRF_GaitAnalysis\\\\008\\\\P08\\\\Python'"
      ]
     },
     "execution_count": 2,
     "metadata": {},
     "output_type": "execute_result"
    }
   ],
   "source": [
    "os.getcwd()"
   ]
  },
  {
   "cell_type": "code",
   "execution_count": 3,
   "metadata": {},
   "outputs": [
    {
     "data": {
      "text/plain": [
       "'P08'"
      ]
     },
     "execution_count": 3,
     "metadata": {},
     "output_type": "execute_result"
    }
   ],
   "source": [
    "# ensure correct individual name\n",
    "root = 'c:\\\\Users\\\\User\\\\OneDrive\\\\Documents\\\\WORK\\\\JRF_GaitAnalysis'\n",
    "cwd = os.getcwd()\n",
    "tmp = cwd.split('\\\\')[len(root.split('\\\\')):]\n",
    "ind = 'P' + tmp[0][1:]\n",
    "ind"
   ]
  },
  {
   "cell_type": "code",
   "execution_count": 5,
   "metadata": {},
   "outputs": [],
   "source": [
    "walking_dirs = os.listdir('walking')\n",
    "#walking_dirs.remove('Walking09')"
   ]
  },
  {
   "cell_type": "code",
   "execution_count": 6,
   "metadata": {},
   "outputs": [],
   "source": [
    "def compare_models_one_trial(path_to_one, path_to_two, table_name, output_path):\n",
    "    # dataframes\n",
    "    if table_name[-3:] == 'csv':\n",
    "        df_one = pd.read_csv(os.path.join(path_to_one,  table_name), index_col = 0)\n",
    "        df_two = pd.read_csv(os.path.join(path_to_two,  table_name), index_col = 0)\n",
    "    else:\n",
    "        df_one = read_from_storage(os.path.join(path_to_one,  table_name))\n",
    "        df_two = read_from_storage(os.path.join(path_to_two, table_name))\n",
    "\n",
    "    model_one = path_to_one.split('/')[0]\n",
    "    model_two = path_to_two.split('/')[0]\n",
    "    \n",
    "    # plot name\n",
    "    name_parts = table_name.split('_')\n",
    "    table = (' ').join(name_parts[2:])\n",
    "    table = table_name.split('.')[0]\n",
    "\n",
    "    # subplot names\n",
    "    column_names = list(df_one.columns)\n",
    "    for name in column_names:\n",
    "        if 'Unnamed' in name:\n",
    "            column_names.remove(name)\n",
    "\n",
    "    # subplot number\n",
    "    n = len(column_names)\n",
    "\n",
    "    # columns and rows\n",
    "    cols = 4\n",
    "    if n % cols == 0: rows = n//cols\n",
    "    else: rows = n//cols + 1\n",
    "\n",
    "    # figure assembley\n",
    "    fig, axs = plt.subplots(rows, cols, figsize = (cols*3,rows*3), constrained_layout=True)\n",
    "    fig.suptitle(f'compare {table}', fontsize=18)\n",
    "    count = 0\n",
    "    while count < cols*rows:\n",
    "        if count < n:\n",
    "            for name in column_names:\n",
    "                i = count // cols \n",
    "                j = count % cols\n",
    "                axs[i,j].plot(df_one.index, df_one[name], label=name, color = 'g')                   \n",
    "                axs[i,j].plot(df_two.index, df_two[name], label=name, color = 'orange')      \n",
    "                \n",
    "                axs[i,j].set_title(two_line_label (name))\n",
    "                axs[i,j].set_axis_on()          \n",
    "                \n",
    "                count += 1\n",
    "        else: \n",
    "            axs.flat[count].set_visible(False)\n",
    "            count += 1\n",
    "\n",
    "    # custom legend\n",
    "        custom_lines = [plt.Line2D([0], [0], color='g', lw=2),\n",
    "                        plt.Line2D([0], [0], color='orange', lw=2)]\n",
    "        fig.legend(custom_lines, [model_one, model_two],  bbox_to_anchor=(0.5, 0., 0.5, 0.),\n",
    "                    prop={'size': 13}, borderaxespad=0.1, ncol=6, labelspacing=0.)\n",
    "\n",
    "    fig.get_layout_engine().set(h_pad=0.2)\n",
    "    \n",
    "    # save plot\n",
    "    plt.savefig(os.path.join(output_path, f'{table}_compare_models.svg'), format = 'svg')\n",
    "    "
   ]
  },
  {
   "cell_type": "code",
   "execution_count": 7,
   "metadata": {},
   "outputs": [
    {
     "data": {
      "text/plain": [
       "'c:\\\\Users\\\\User\\\\OneDrive\\\\Documents\\\\WORK\\\\JRF_GaitAnalysis\\\\008\\\\P08\\\\Python'"
      ]
     },
     "execution_count": 7,
     "metadata": {},
     "output_type": "execute_result"
    }
   ],
   "source": [
    "os.getcwd()"
   ]
  },
  {
   "cell_type": "code",
   "execution_count": 8,
   "metadata": {},
   "outputs": [],
   "source": [
    "path_to_data_one = f'results_{ind}_tps_fibres_skin_wrp_updated/walking'\n",
    "path_to_data_two = f'results_scaled_model_{ind}/walking'\n"
   ]
  },
  {
   "cell_type": "code",
   "execution_count": 9,
   "metadata": {},
   "outputs": [],
   "source": [
    "for folder in walking_dirs:\n",
    "    ma_time_series_files = ['hip_rot_muscle_moment_arms.csv',\n",
    "                        'hip_flex_muscle_moment_arms.csv',\n",
    "                        'hip_add_muscle_moment_arms.csv',\n",
    "                        'knee_flex_muscle_moment_arms.csv',\n",
    "                        'ankle_flex_muscle_moment_arms.csv']\n",
    "\n",
    "    for tab in ma_time_series_files:\n",
    "        path_to_one = os.path.join(path_to_data_one, folder, 'muscle_moment_arms')\n",
    "        path_to_two = os.path.join(path_to_data_two, folder, 'muscle_moment_arms')\n",
    "        output_path = os.path.join('walking', folder)\n",
    "        compare_models_one_trial(path_to_one, path_to_two, tab, output_path)\n",
    "        plt.close()\n",
    "\n",
    "    ik_id = ['IK_results.mot', 'ID_results.mot']\n",
    "    for tab in ik_id:\n",
    "        path_to_one = os.path.join(path_to_data_one, folder)\n",
    "        path_to_two = os.path.join(path_to_data_two, folder)\n",
    "        output_path = os.path.join('walking', folder)\n",
    "        compare_models_one_trial(path_to_one, path_to_two, tab, output_path)\n",
    "        plt.close()\n",
    "    \n",
    "    so_jr = ['SO_StaticOptimization_activation.sto','SO_StaticOptimization_force.sto','JR_JointReaction_ReactionLoads.sto']\n",
    "    for folder in walking_dirs:\n",
    "        for tab in so_jr:\n",
    "            path_to_one = os.path.join(path_to_data_one, folder, 'SO_Results')\n",
    "            path_to_two = os.path.join(path_to_data_two, folder, 'SO_Results')\n",
    "            output_path = os.path.join('walking', folder)\n",
    "            compare_models_one_trial(path_to_one, path_to_two, tab, output_path)\n",
    "            plt.close()"
   ]
  }
 ],
 "metadata": {
  "kernelspec": {
   "display_name": "py311",
   "language": "python",
   "name": "python3"
  },
  "language_info": {
   "codemirror_mode": {
    "name": "ipython",
    "version": 3
   },
   "file_extension": ".py",
   "mimetype": "text/x-python",
   "name": "python",
   "nbconvert_exporter": "python",
   "pygments_lexer": "ipython3",
   "version": "3.11.11"
  }
 },
 "nbformat": 4,
 "nbformat_minor": 2
}
