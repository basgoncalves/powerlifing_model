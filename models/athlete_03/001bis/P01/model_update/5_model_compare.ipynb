{
 "cells": [
  {
   "cell_type": "code",
   "execution_count": 1,
   "metadata": {},
   "outputs": [],
   "source": [
    "import pandas as pd\n",
    "import numpy as np\n",
    "import os\n",
    "import xml.etree.ElementTree as ET\n",
    "import pyvista as pv"
   ]
  },
  {
   "cell_type": "code",
   "execution_count": 2,
   "metadata": {},
   "outputs": [],
   "source": [
    "# Keeping pandas from truncating long strings\n",
    "pd.set_option('display.max_colwidth', 10000000)"
   ]
  },
  {
   "cell_type": "code",
   "execution_count": 3,
   "metadata": {},
   "outputs": [
    {
     "data": {
      "text/plain": [
       "'P08'"
      ]
     },
     "execution_count": 3,
     "metadata": {},
     "output_type": "execute_result"
    }
   ],
   "source": [
    "# ensure correct individual name\n",
    "root = 'c:\\\\Users\\\\ebuly\\\\OneDrive\\\\Documents\\\\WORK\\\\JRF_GaitAnalysis'\n",
    "cwd = os.getcwd()\n",
    "tmp = cwd.split('\\\\')[len(root.split('\\\\')):]\n",
    "ind = 'P' + tmp[0][1:]\n",
    "ind"
   ]
  },
  {
   "cell_type": "code",
   "execution_count": 4,
   "metadata": {},
   "outputs": [],
   "source": [
    "# transformed surfaces\n",
    "path_to_bones = '4_tps-bones-muscles-updated/bones'\n",
    "sacrum = pv.read(os.path.join(path_to_bones, 'sacrum.stl'))\n",
    "r_pelvis = pv.read(os.path.join(path_to_bones, 'r_pelvis.stl'))\n",
    "l_pelvis = pv.read(os.path.join(path_to_bones, 'l_pelvis.stl'))\n",
    "femur_r = pv.read(os.path.join(path_to_bones, 'femur_r.stl'))\n",
    "femur_l = pv.read(os.path.join(path_to_bones, 'femur_l.stl'))\n",
    "tibia_r = pv.read(os.path.join(path_to_bones, 'tibia_r.stl'))\n",
    "tibia_l = pv.read(os.path.join(path_to_bones, 'tibia_l.stl'))\n",
    "fibula_r = pv.read(os.path.join(path_to_bones, 'fibula_r.stl'))\n",
    "fibula_l = pv.read(os.path.join(path_to_bones, 'fibula_l.stl'))\n",
    "patella_r = pv.read(os.path.join(path_to_bones, 'patella_r.stl'))\n",
    "patella_l = pv.read(os.path.join(path_to_bones, 'patella_l.stl'))"
   ]
  },
  {
   "cell_type": "code",
   "execution_count": 5,
   "metadata": {},
   "outputs": [],
   "source": [
    "# muscles and skin\n",
    "pers_model = f'4_tps-bones-muscles-updated/{ind}_tps_fibres_skin_wrp_updated.osim'\n",
    "gen_model = f\"3a_osim_markers/scaled_model_{ind}.osim\"\n",
    "\n",
    "## pers\n",
    "pers_model_tree=ET.parse(pers_model)\n",
    "pers_model_root=pers_model_tree.getroot()\n",
    "\n",
    "muscle_paths_temp = []\n",
    "for PathPoint in pers_model_root.iter('PathPoint'):\n",
    "    name = PathPoint.attrib['name']\n",
    "    body = PathPoint.find('socket_parent_frame').text.split('/')[-1]\n",
    "    location = [float(x) for x in PathPoint.find('location').text.split()]\n",
    "    muscle_paths_temp.append({'name':name, 'body':body, 'location':location})\n",
    "muscle_paths_pers_df = pd.DataFrame(muscle_paths_temp)\n",
    "muscle_paths_pers_df = muscle_paths_pers_df.set_index('name')\n",
    "\n",
    "skin_markers_temp = []\n",
    "for marker in pers_model_root.iter('Marker'):\n",
    "    name = marker.attrib['name']\n",
    "    body = marker.find('socket_parent_frame').text.split('/')[-1]\n",
    "    location = [float(x) for x in marker.find('location').text.split()]    \n",
    "    skin_markers_temp.append({'name':name, 'body':body, 'location':location})\n",
    "skin_markers_pers_df = pd.DataFrame(skin_markers_temp)\n",
    "skin_markers_pers_df = skin_markers_pers_df.set_index('name')\n",
    "## gen\n",
    "gen_model_tree = ET.parse(gen_model)\n",
    "gen_model_root = gen_model_tree.getroot()\n",
    "\n",
    "muscle_paths_temp = []\n",
    "for PathPoint in gen_model_root.iter('PathPoint'):\n",
    "    name = PathPoint.attrib['name']\n",
    "    body = PathPoint.find('socket_parent_frame').text.split('/')[-1]\n",
    "    location = [float(x) for x in PathPoint.find('location').text.split()]\n",
    "    muscle_paths_temp.append({'name':name, 'body':body, 'location':location})\n",
    "muscle_paths_gen_df = pd.DataFrame(muscle_paths_temp)\n",
    "muscle_paths_gen_df = muscle_paths_gen_df.set_index('name')\n",
    "\n",
    "skin_markers_temp = []\n",
    "for marker in gen_model_root.iter('Marker'):\n",
    "    name = marker.attrib['name']\n",
    "    body = marker.find('socket_parent_frame').text.split('/')[-1]\n",
    "    location = [float(x) for x in marker.find('location').text.split()]    \n",
    "    skin_markers_temp.append({'name':name, 'body':body, 'location':location})\n",
    "\n",
    "skin_markers_gen_df = pd.DataFrame(skin_markers_temp)\n",
    "skin_markers_gen_df = skin_markers_gen_df.set_index('name')"
   ]
  },
  {
   "cell_type": "code",
   "execution_count": 6,
   "metadata": {},
   "outputs": [],
   "source": [
    "# bone markers\n",
    "## pers\n",
    "pers_bone_markers_df = pd.read_csv('tps_warping_results/after_MRI/markers_transformed.csv',index_col='name')\n",
    "pers_bone_markers_df['location'] = pers_bone_markers_df['location'].apply(lambda x: [float(y) for y in x[1:-1].split()])\n",
    "## gen\n",
    "gen_bone_markers_xml = f\"3a_osim_markers/bone_markers_{ind[1:]}.xml\"\n",
    "gen_bone_markers_tree=ET.parse(gen_bone_markers_xml)\n",
    "gen_bone_markers_root = gen_bone_markers_tree.getroot()\n",
    "\n",
    "temp = []\n",
    "\n",
    "for marker in gen_bone_markers_root.iter('Marker'):\n",
    "    name = marker.attrib['name']\n",
    "    body = marker.find('socket_parent_frame').text.split('/')[-1]\n",
    "    location = [float(x) for x in (marker.find('location').text).split()]\n",
    "    temp.append({'name':name, 'location':location, 'body':body })\n",
    "gen_bone_markers_df = pd.DataFrame(temp)\n",
    "gen_bone_markers_df.set_index('name', inplace=True)"
   ]
  },
  {
   "cell_type": "code",
   "execution_count": 7,
   "metadata": {},
   "outputs": [],
   "source": [
    "def process_segment_data(skin_markers_gen_df, skin_markers_pers_df, \n",
    "                         muscle_paths_gen_df, muscle_paths_pers_df, \n",
    "                         gen_bone_markers_df, pers_bone_markers_df, segment=None):\n",
    "    def process_data(gen_df, pers_df, group, blacklist=None):\n",
    "        gen_segment_df = gen_df[gen_df['body'] == segment]\n",
    "        pers_segment_df = pers_df[pers_df['body'] == segment]\n",
    "        \n",
    "        if blacklist:\n",
    "            gen_segment_df = gen_segment_df.drop(blacklist, errors='ignore')\n",
    "            pers_segment_df = pers_segment_df.drop(blacklist, errors='ignore')\n",
    "\n",
    "        item_names = list(gen_segment_df.index)\n",
    "        pers_segment_df = pers_segment_df.loc[item_names]\n",
    "\n",
    "        data = {\n",
    "            'name': item_names * 2,\n",
    "            'model': ['gen'] * len(item_names) + ['pers'] * len(item_names),\n",
    "            'body': [segment] * 2 * len(item_names),\n",
    "            'group': [group] * 2 * len(item_names),\n",
    "            'location': gen_segment_df['location'].to_list() + pers_segment_df['location'].to_list()\n",
    "        }\n",
    "        values_gen = np.array(gen_segment_df['location'].to_list())\n",
    "        values_pers = np.array(pers_segment_df['location'].to_list())\n",
    "        \n",
    "        return pd.DataFrame(data), item_names, values_gen, values_pers\n",
    "\n",
    "    # Skin markers\n",
    "    skin_df, skin_names, skin_gen_values, skin_pers_values = process_data(\n",
    "        skin_markers_gen_df, skin_markers_pers_df, 'skin'\n",
    "    )\n",
    "\n",
    "    # Muscle paths\n",
    "    muscle_df, muscle_names, muscle_gen_values, muscle_pers_values = process_data(\n",
    "        muscle_paths_gen_df, muscle_paths_pers_df, 'muscles'\n",
    "    )\n",
    "\n",
    "    # Bone markers\n",
    "    skin_blacklist = skin_names\n",
    "    bone_df, bone_names, bone_gen_values, bone_pers_values = process_data(\n",
    "        gen_bone_markers_df, pers_bone_markers_df, 'bone', blacklist=skin_blacklist\n",
    "    )\n",
    "\n",
    "    # Combine all dataframes\n",
    "    segment_df = pd.concat([skin_df, muscle_df, bone_df], ignore_index=True)\n",
    "\n",
    "    return {\n",
    "        f'df': segment_df,\n",
    "        f'skin_marker_names': skin_names,\n",
    "        f'skin_gen_values': skin_gen_values,\n",
    "        f'skin_pers_values': skin_pers_values,\n",
    "        f'muscle_names': muscle_names,\n",
    "        f'muscle_gen_values': muscle_gen_values,\n",
    "        f'muscle_pers_values': muscle_pers_values,\n",
    "        f'bone_marker_names': bone_names,\n",
    "        f'bone_gen_values': bone_gen_values,\n",
    "        f'bone_pers_values': bone_pers_values,\n",
    "    }\n"
   ]
  },
  {
   "cell_type": "markdown",
   "metadata": {},
   "source": [
    "## Pelvis"
   ]
  },
  {
   "cell_type": "code",
   "execution_count": 8,
   "metadata": {},
   "outputs": [],
   "source": [
    "pv_res = process_segment_data(skin_markers_gen_df, skin_markers_pers_df, \n",
    "                         muscle_paths_gen_df, muscle_paths_pers_df, \n",
    "                         gen_bone_markers_df, pers_bone_markers_df, segment='pelvis')"
   ]
  },
  {
   "cell_type": "code",
   "execution_count": 9,
   "metadata": {},
   "outputs": [
    {
     "data": {
      "application/vnd.jupyter.widget-view+json": {
       "model_id": "caf0b2e3d1044cd7b3e1fac1e581f479",
       "version_major": 2,
       "version_minor": 0
      },
      "text/plain": [
       "Widget(value='<iframe src=\"http://localhost:55548/index.html?ui=P_0x252a3e90550_0&reconnect=auto\" class=\"pyvis…"
      ]
     },
     "metadata": {},
     "output_type": "display_data"
    }
   ],
   "source": [
    "# plot pelvis shape and pelvis muscle points\n",
    "plotter = pv.Plotter(shape=(1, 2))\n",
    "actor = plotter.add_mesh(l_pelvis, color='lightblue', opacity=0.2, show_edges=True)\n",
    "actor = plotter.add_mesh(r_pelvis, color='lightblue', opacity=0.2, show_edges=True)\n",
    "actor = plotter.add_mesh(sacrum, color='lightblue', opacity=0.2, show_edges=True)\n",
    "actor = plotter.add_mesh(pv.PolyData(pv_res['bone_gen_values']),  color='black', point_size=5.0)\n",
    "actor = plotter.add_mesh(pv.PolyData(pv_res['bone_pers_values']),  color='blue', point_size=10.0)\n",
    "for i, value in enumerate(pv_res['bone_gen_values']):\n",
    "    actor = plotter.add_mesh(pv.Line(value, pv_res['bone_pers_values'][i]),  color='black')\n",
    "\n",
    "plotter.subplot(0, 1)\n",
    "actor = plotter.add_mesh(l_pelvis, color='lightblue', opacity=0.2, show_edges=True)\n",
    "actor = plotter.add_mesh(r_pelvis, color='lightblue', opacity=0.2, show_edges=True)\n",
    "actor = plotter.add_mesh(sacrum, color='lightblue', opacity=0.2, show_edges=True)\n",
    "actor = plotter.add_mesh(pv.PolyData(pv_res['skin_gen_values']),  color='grey', point_size=5.0)\n",
    "actor = plotter.add_mesh(pv.PolyData(pv_res['skin_pers_values']),  color='red', point_size=10.0)\n",
    "for i, value in enumerate(pv_res['skin_gen_values']):\n",
    "    actor = plotter.add_mesh(pv.Line(value, pv_res['skin_pers_values'][i]),  color='grey')\n",
    "\n",
    "\n",
    "actor = plotter.add_mesh(pv.PolyData(pv_res['muscle_gen_values']),  color='black', point_size=5.0)\n",
    "actor = plotter.add_mesh(pv.PolyData(pv_res['muscle_pers_values']),  color='darkgreen', point_size=10.0)\n",
    "for i, value in enumerate(pv_res['muscle_gen_values']):\n",
    "    actor = plotter.add_mesh(pv.Line(value, pv_res['muscle_pers_values'][i]),  color='black')\n",
    "\n",
    "plotter.show(jupyter_backend='trame')"
   ]
  },
  {
   "cell_type": "markdown",
   "metadata": {},
   "source": [
    "## tibia_r"
   ]
  },
  {
   "cell_type": "code",
   "execution_count": 10,
   "metadata": {},
   "outputs": [],
   "source": [
    "tb_r_res = process_segment_data(skin_markers_gen_df, skin_markers_pers_df, \n",
    "                         muscle_paths_gen_df, muscle_paths_pers_df, \n",
    "                         gen_bone_markers_df, pers_bone_markers_df, segment='tibia_r')"
   ]
  },
  {
   "cell_type": "code",
   "execution_count": 11,
   "metadata": {},
   "outputs": [
    {
     "data": {
      "application/vnd.jupyter.widget-view+json": {
       "model_id": "99f4d85e66184a9093199814aa5fd3e9",
       "version_major": 2,
       "version_minor": 0
      },
      "text/plain": [
       "Widget(value='<iframe src=\"http://localhost:55548/index.html?ui=P_0x252a6d64090_1&reconnect=auto\" class=\"pyvis…"
      ]
     },
     "metadata": {},
     "output_type": "display_data"
    }
   ],
   "source": [
    "# plot tibia_r shape and tibia_r muscle points\n",
    "plotter = pv.Plotter(shape=(1, 2))\n",
    "\n",
    "## labels for muscles:\n",
    "poly_tibia_r_muscle_pers_values = pv.PolyData(tb_r_res['muscle_pers_values'])\n",
    "poly_tibia_r_muscle_pers_values[\"Labels\"] = tb_r_res['muscle_names']\n",
    "\n",
    "actor = plotter.add_mesh(tibia_r, color='lightblue', opacity=0.2, show_edges=True)\n",
    "actor = plotter.add_mesh(fibula_r, color='lightblue', opacity=0.2, show_edges=True)\n",
    "actor = plotter.add_mesh(pv.PolyData(tb_r_res['bone_gen_values']),  color='black', point_size=5.0)\n",
    "actor = plotter.add_mesh(pv.PolyData(tb_r_res['bone_pers_values']),  color='blue', point_size=10.0)\n",
    "for i, value in enumerate(tb_r_res['bone_gen_values']):\n",
    "    actor = plotter.add_mesh(pv.Line(value, tb_r_res['bone_pers_values'][i]),  color='black')\n",
    "\n",
    "plotter.subplot(0, 1)\n",
    "actor = plotter.add_mesh(tibia_r, color='lightblue', opacity=0.2, show_edges=True)\n",
    "actor = plotter.add_mesh(fibula_r, color='lightblue', opacity=0.2, show_edges=True)\n",
    "actor = plotter.add_mesh(pv.PolyData(tb_r_res['skin_gen_values']),  color='grey', point_size=5.0)\n",
    "actor = plotter.add_mesh(pv.PolyData(tb_r_res['skin_pers_values']),  color='red', point_size=10.0)\n",
    "for i, value in enumerate(tb_r_res['skin_gen_values']):\n",
    "    actor = plotter.add_mesh(pv.Line(value, tb_r_res['skin_pers_values'][i]),  color='grey')\n",
    "\n",
    "\n",
    "actor = plotter.add_mesh(pv.PolyData(tb_r_res['muscle_gen_values']),  color='black', point_size=5.0)\n",
    "\n",
    "actor = plotter.add_point_labels(poly_tibia_r_muscle_pers_values, \"Labels\", point_size=10, font_size=12)\n",
    "actor = plotter.add_mesh(pv.PolyData(tb_r_res['muscle_pers_values']),  color='darkgreen', point_size=10.0)\n",
    "for i, value in enumerate(tb_r_res['muscle_gen_values']):\n",
    "    actor = plotter.add_mesh(pv.Line(value, tb_r_res['muscle_pers_values'][i]),  color='black')\n",
    "\n",
    "plotter.show(jupyter_backend='trame')"
   ]
  },
  {
   "cell_type": "markdown",
   "metadata": {},
   "source": [
    "## tibia_l"
   ]
  },
  {
   "cell_type": "code",
   "execution_count": 12,
   "metadata": {},
   "outputs": [],
   "source": [
    "tb_l_res = process_segment_data(skin_markers_gen_df, skin_markers_pers_df, \n",
    "                         muscle_paths_gen_df, muscle_paths_pers_df, \n",
    "                         gen_bone_markers_df, pers_bone_markers_df, segment='tibia_l')"
   ]
  },
  {
   "cell_type": "markdown",
   "metadata": {},
   "source": [
    "## femur_r"
   ]
  },
  {
   "cell_type": "code",
   "execution_count": 13,
   "metadata": {},
   "outputs": [],
   "source": [
    "fm_r_res = process_segment_data(skin_markers_gen_df, skin_markers_pers_df, \n",
    "                         muscle_paths_gen_df, muscle_paths_pers_df, \n",
    "                         gen_bone_markers_df, pers_bone_markers_df, segment='femur_r')"
   ]
  },
  {
   "cell_type": "code",
   "execution_count": 14,
   "metadata": {},
   "outputs": [
    {
     "data": {
      "application/vnd.jupyter.widget-view+json": {
       "model_id": "6fda9cdfa8ca49c299c93916a25e2c28",
       "version_major": 2,
       "version_minor": 0
      },
      "text/plain": [
       "Widget(value='<iframe src=\"http://localhost:55548/index.html?ui=P_0x252e339da10_2&reconnect=auto\" class=\"pyvis…"
      ]
     },
     "metadata": {},
     "output_type": "display_data"
    }
   ],
   "source": [
    "# labels for muscles:\n",
    "poly_femur_r_muscle_pers_values = pv.PolyData(fm_r_res['muscle_pers_values'])\n",
    "poly_femur_r_muscle_pers_values[\"Labels\"] = fm_r_res['muscle_names']\n",
    "# plot femur_r shape and femur_r muscle points\n",
    "plotter = pv.Plotter(shape=(1, 2))\n",
    "\n",
    "actor = plotter.add_mesh(femur_r, color='lightblue', opacity=0.2, show_edges=True)\n",
    "actor = plotter.add_mesh(pv.PolyData(fm_r_res['bone_gen_values']),  color='black', point_size=5.0)\n",
    "actor = plotter.add_mesh(pv.PolyData(fm_r_res['bone_pers_values']),  color='blue', point_size=10.0)\n",
    "for i, value in enumerate(fm_r_res['bone_gen_values']):\n",
    "    actor = plotter.add_mesh(pv.Line(value, fm_r_res['bone_pers_values'][i]),  color='black')\n",
    "\n",
    "plotter.subplot(0, 1)\n",
    "actor = plotter.add_mesh(femur_r, color='lightblue', opacity=0.2, show_edges=True)\n",
    "actor = plotter.add_mesh(pv.PolyData(fm_r_res['skin_gen_values']),  color='grey', point_size=5.0)\n",
    "actor = plotter.add_mesh(pv.PolyData(fm_r_res['skin_pers_values']),  color='red', point_size=10.0)\n",
    "for i, value in enumerate(fm_r_res['skin_gen_values']):\n",
    "    actor = plotter.add_mesh(pv.Line(value, fm_r_res['skin_pers_values'][i]),  color='grey')\n",
    "\n",
    "\n",
    "actor = plotter.add_mesh(pv.PolyData(fm_r_res['muscle_gen_values']),  color='black', point_size=5.0)\n",
    "actor = plotter.add_mesh(pv.PolyData(fm_r_res['muscle_pers_values']),  color='darkgreen', point_size=10.0)\n",
    "actor = plotter.add_point_labels(poly_femur_r_muscle_pers_values, \"Labels\", point_size=10, font_size=12)\n",
    "for i, value in enumerate(fm_r_res['muscle_gen_values']):\n",
    "    actor = plotter.add_mesh(pv.Line(value, fm_r_res['muscle_pers_values'][i]),  color='black')\n",
    "\n",
    "plotter.show(jupyter_backend='trame')"
   ]
  },
  {
   "cell_type": "markdown",
   "metadata": {},
   "source": [
    "## femur_l"
   ]
  },
  {
   "cell_type": "code",
   "execution_count": 15,
   "metadata": {},
   "outputs": [],
   "source": [
    "fm_l_res = process_segment_data(skin_markers_gen_df, skin_markers_pers_df, \n",
    "                         muscle_paths_gen_df, muscle_paths_pers_df, \n",
    "                         gen_bone_markers_df, pers_bone_markers_df, segment='femur_l')"
   ]
  },
  {
   "cell_type": "markdown",
   "metadata": {},
   "source": [
    "## patella_r"
   ]
  },
  {
   "cell_type": "code",
   "execution_count": 16,
   "metadata": {},
   "outputs": [],
   "source": [
    "pt_r_res = process_segment_data(skin_markers_gen_df, skin_markers_pers_df, \n",
    "                         muscle_paths_gen_df, muscle_paths_pers_df, \n",
    "                         gen_bone_markers_df, pers_bone_markers_df, segment='patella_r')"
   ]
  },
  {
   "cell_type": "code",
   "execution_count": 17,
   "metadata": {},
   "outputs": [
    {
     "data": {
      "application/vnd.jupyter.widget-view+json": {
       "model_id": "39c8298c25e948de9cb7cae1cb1b49cb",
       "version_major": 2,
       "version_minor": 0
      },
      "text/plain": [
       "Widget(value='<iframe src=\"http://localhost:55548/index.html?ui=P_0x252a6f6c350_3&reconnect=auto\" class=\"pyvis…"
      ]
     },
     "metadata": {},
     "output_type": "display_data"
    }
   ],
   "source": [
    "# labels for muscles:\n",
    "poly_muscle_pers_values = pv.PolyData(pt_r_res['muscle_pers_values'])\n",
    "poly_muscle_pers_values[\"Labels\"] = pt_r_res['muscle_names']\n",
    "\n",
    "plotter = pv.Plotter(shape=(1, 2))\n",
    "\n",
    "actor = plotter.add_mesh(patella_r, color='lightblue', opacity=0.2, show_edges=True)\n",
    "actor = plotter.add_mesh(pv.PolyData(pt_r_res['bone_gen_values']),  color='black', point_size=5.0)\n",
    "actor = plotter.add_mesh(pv.PolyData(pt_r_res['bone_pers_values']),  color='blue', point_size=10.0)\n",
    "for i, value in enumerate(pt_r_res['bone_gen_values']):\n",
    "    actor = plotter.add_mesh(pv.Line(value, pt_r_res['bone_pers_values'][i]),  color='black')\n",
    "\n",
    "plotter.subplot(0, 1)\n",
    "actor = plotter.add_mesh(patella_r, color='lightblue', opacity=0.2, show_edges=True)\n",
    "actor = plotter.add_mesh(pv.PolyData(pt_r_res['muscle_gen_values']),  color='black', point_size=5.0)\n",
    "actor = plotter.add_mesh(pv.PolyData(pt_r_res['muscle_pers_values']),  color='darkgreen', point_size=10.0)\n",
    "actor = plotter.add_point_labels(poly_muscle_pers_values, \"Labels\", point_size=10, font_size=12)\n",
    "for i, value in enumerate(pt_r_res['muscle_gen_values']):\n",
    "    actor = plotter.add_mesh(pv.Line(value, pt_r_res['muscle_pers_values'][i]),  color='black')\n",
    "\n",
    "plotter.show(jupyter_backend='trame')"
   ]
  },
  {
   "cell_type": "markdown",
   "metadata": {},
   "source": [
    "## patella_l"
   ]
  },
  {
   "cell_type": "code",
   "execution_count": 18,
   "metadata": {},
   "outputs": [],
   "source": [
    "pt_l_res = process_segment_data(skin_markers_gen_df, skin_markers_pers_df, \n",
    "                         muscle_paths_gen_df, muscle_paths_pers_df, \n",
    "                         gen_bone_markers_df, pers_bone_markers_df, segment='patella_l')"
   ]
  },
  {
   "cell_type": "code",
   "execution_count": 19,
   "metadata": {},
   "outputs": [],
   "source": [
    "full_df = pd.concat([pv_res['df'], fm_r_res['df'], fm_l_res['df'],tb_r_res['df'], tb_l_res['df'], pt_r_res['df'], pt_l_res['df']])"
   ]
  },
  {
   "cell_type": "code",
   "execution_count": 20,
   "metadata": {},
   "outputs": [],
   "source": [
    "full_df.to_csv(f'C:\\\\Users\\\\User\\\\OneDrive\\\\Documents\\\\WORK\\\\JRF_GaitAnalysis\\\\analyze\\\\{ind}_data.csv')"
   ]
  }
 ],
 "metadata": {
  "kernelspec": {
   "display_name": "py311",
   "language": "python",
   "name": "python3"
  },
  "language_info": {
   "codemirror_mode": {
    "name": "ipython",
    "version": 3
   },
   "file_extension": ".py",
   "mimetype": "text/x-python",
   "name": "python",
   "nbconvert_exporter": "python",
   "pygments_lexer": "ipython3",
   "version": "3.11.11"
  }
 },
 "nbformat": 4,
 "nbformat_minor": 2
}
