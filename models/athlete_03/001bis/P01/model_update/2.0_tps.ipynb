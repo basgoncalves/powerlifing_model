{
 "cells": [
  {
   "cell_type": "markdown",
   "metadata": {},
   "source": [
    "# packages and code"
   ]
  },
  {
   "cell_type": "code",
   "execution_count": 52,
   "metadata": {},
   "outputs": [],
   "source": [
    "from tps import ThinPlateSpline\n",
    "from tps_scripts import *"
   ]
  },
  {
   "cell_type": "markdown",
   "metadata": {},
   "source": [
    "# paths"
   ]
  },
  {
   "cell_type": "code",
   "execution_count": 53,
   "metadata": {},
   "outputs": [
    {
     "name": "stdout",
     "output_type": "stream",
     "text": [
      "Current working directory: c:\\Git\\1_current_projects\\powerlifing_model\\models\\athlete_03\\001bis\\P01\\model_update\n"
     ]
    }
   ],
   "source": [
    "cwd = os.getcwd()\n",
    "print(f\"Current working directory: {cwd}\")\n",
    "\n",
    "def dirUp(path, levels=1):\n",
    "    \"\"\"\n",
    "    Move up the directory structure by a specified number of levels.\n",
    "    \"\"\"\n",
    "    for _ in range(levels):\n",
    "        path = os.path.dirname(path)\n",
    "    return path"
   ]
  },
  {
   "cell_type": "code",
   "execution_count": 54,
   "metadata": {},
   "outputs": [
    {
     "name": "stdout",
     "output_type": "stream",
     "text": [
      "Root directory: c:\\Git\\1_current_projects\\powerlifing_model\\models\\athlete_03\n"
     ]
    },
    {
     "data": {
      "text/plain": [
       "'P01bis'"
      ]
     },
     "execution_count": 54,
     "metadata": {},
     "output_type": "execute_result"
    }
   ],
   "source": [
    "# ensure correct individual name\n",
    "root = dirUp(cwd, 3)\n",
    "print(f\"Root directory: {root}\")\n",
    "tmp = cwd.split('\\\\')[len(root.split('\\\\')):]\n",
    "ind = 'P' + tmp[0][1:]\n",
    "ind"
   ]
  },
  {
   "cell_type": "code",
   "execution_count": 55,
   "metadata": {},
   "outputs": [],
   "source": [
    "# paths\n",
    "mri_dir = os.path.abspath('../../MRI/results')\n",
    "path_to_json = os.path.join(mri_dir, 'orientation.mrk.json')\n",
    "template_dir = os.path.abspath('../../MRI/template/template_3D.json')\n",
    "\n",
    "xml_path = os.path.abspath(os.path.join(root,'../Athlete_03_markers_lowerbody_katya.xml'))\n",
    "osim_path = os.path.abspath(os.path.join(root,'../Athlete_03_lowerBody_final.osim'))\n",
    "\n",
    "working_dir = os.getcwd()\n",
    "output_path = os.path.join(working_dir, 'tps_warping_results')\n",
    "\n",
    "vtp_path = os.path.join(working_dir, 'Geometry')"
   ]
  },
  {
   "cell_type": "code",
   "execution_count": 56,
   "metadata": {},
   "outputs": [],
   "source": [
    "# check if paths exist\n",
    "if not os.path.exists(mri_dir):\n",
    "    print(f\"Directory {mri_dir} does not exist.\")\n",
    "\n",
    "if not os.path.exists(path_to_json):\n",
    "    print(f\"File {path_to_json} does not exist.\")\n",
    "    \n",
    "if not os.path.exists(xml_path):\n",
    "    print(f\"File {xml_path} does not exist.\")\n",
    "    \n",
    "if not os.path.exists(osim_path):\n",
    "    print(f\"File {osim_path} does not exist.\")\n",
    "    \n",
    "if not os.path.exists(working_dir):\n",
    "    print(f\"Directory {working_dir} does not exist.\")\n",
    "    \n",
    "if not os.path.exists(output_path):\n",
    "    print(f\"Directory {output_path} does not exist.\")\n",
    "    \n",
    "if not os.path.exists(vtp_path):\n",
    "    print(f\"Directory {vtp_path} does not exist.\")"
   ]
  },
  {
   "cell_type": "code",
   "execution_count": 57,
   "metadata": {},
   "outputs": [],
   "source": [
    "# test output path\n",
    "if working_dir.split('\\\\')[-1] != 'model_update':\n",
    "    output_root = 'model_update'\n",
    "else: output_root = '.'\n",
    "\n",
    "# set output path\n",
    "output_path = os.path.join(output_root, 'tps_warping_results')\n",
    "if not os.path.exists(output_path):\n",
    "    print(output_path)\n",
    "    os.makedirs(output_path)\n",
    "\n",
    "# set path for controls\n",
    "control_path = os.path.join(output_root, 'tps_warping_results', 'control')\n",
    "if not os.path.exists(control_path):\n",
    "    print(control_path)\n",
    "    os.makedirs(control_path)"
   ]
  },
  {
   "cell_type": "markdown",
   "metadata": {},
   "source": [
    "# load osim"
   ]
  },
  {
   "cell_type": "code",
   "execution_count": 58,
   "metadata": {},
   "outputs": [],
   "source": [
    "# OSIM\n",
    "osim_bone_markers = OsimBoneMarkers(xml_path)\n",
    "osim_bone_markers_df = osim_bone_markers.data_frame()"
   ]
  },
  {
   "cell_type": "code",
   "execution_count": 59,
   "metadata": {},
   "outputs": [],
   "source": [
    "osim_muscles_and_wrapping = OsimMusclePathsAndWrapping(osim_path)\n",
    "\n",
    "osim_muslce_paths_df = osim_muscles_and_wrapping.df_muscles\n",
    "\n",
    "wrapping_surfaces_df = osim_muscles_and_wrapping.wrp_df"
   ]
  },
  {
   "cell_type": "markdown",
   "metadata": {},
   "source": [
    "# load mri and match to osim"
   ]
  },
  {
   "cell_type": "code",
   "execution_count": 60,
   "metadata": {},
   "outputs": [],
   "source": [
    "# MRI\n",
    "mri_bone_markers = MRIBoneMarkers(path_to_json)\n",
    "mri_bone_markers_df = mri_bone_markers.json_to_df()"
   ]
  },
  {
   "cell_type": "markdown",
   "metadata": {},
   "source": [
    "# collections by bodies"
   ]
  },
  {
   "cell_type": "code",
   "execution_count": 61,
   "metadata": {},
   "outputs": [],
   "source": [
    "osim_mri_bone_by_bodies = OsimMriBoneByBodies(osim_bone_markers_df, mri_bone_markers_df)\n",
    "osim_skin_markers_dict = osim_mri_bone_by_bodies.split_osim_skin_by_bodies()\n",
    "\n",
    "osim_dict = osim_mri_bone_by_bodies.split_osim_by_bodies()\n",
    "mri_dict = osim_mri_bone_by_bodies.split_mri_by_osim_bodies()\n",
    "\n",
    "osim_muscls_by_bodies = OsimMusclesByBodies(osim_muslce_paths_df)\n",
    "osim_muscls_dict = osim_muscls_by_bodies.extract_all()\n",
    "\n",
    "osim_wraps_by_bodies = OsimWrapsByBodies(wrapping_surfaces_df)\n",
    "osim_wraps_dict = osim_wraps_by_bodies.wraps_to_points_by_bodies()"
   ]
  },
  {
   "cell_type": "markdown",
   "metadata": {},
   "source": [
    "# pelvis tps"
   ]
  },
  {
   "cell_type": "code",
   "execution_count": 62,
   "metadata": {},
   "outputs": [
    {
     "data": {
      "application/vnd.jupyter.widget-view+json": {
       "model_id": "2551302d0a9d4cf2b71fa8d76a116d2b",
       "version_major": 2,
       "version_minor": 0
      },
      "text/plain": [
       "Widget(value='<iframe src=\"http://localhost:60660/index.html?ui=P_0x2f0ff91fe90_8&reconnect=auto\" class=\"pyvis…"
      ]
     },
     "metadata": {},
     "output_type": "display_data"
    }
   ],
   "source": [
    "# exclude markers to control for the quality of the spline\n",
    "exclude = ['sacroiliac_r', 'sacroiliac_l']#,'5th_sacr_v'\n",
    "\n",
    "# create the spline\n",
    "pelvis_tps = OneBodyTPS('pelvis', osim_dict['pelvis'], mri_dict['pelvis'], \n",
    "                        osim_skin = osim_skin_markers_dict['pelvis'],\n",
    "                        osim_muscle = osim_muscls_dict['pelvis'], \n",
    "                        exclude_bone_markers = exclude)\n",
    "\n",
    "# transform all objects: bone markers are transformed and should fit the chosen subset save for the exclusions\n",
    "osim_bone = osim_dict['pelvis']\n",
    "pelvis_transformed_bone = pelvis_tps.transformed_bone\n",
    "pelvis_transformed_muscle = pelvis_tps.transformed_muscle\n",
    "pelvis_transformed_wraps = pelvis_tps.apply_tps_to_wraps(osim_wraps_dict['pelvis'])\n",
    "pelvis_transformed_skin = pelvis_tps.transformed_skin\n",
    "\n",
    "l_pelvis = ImportVTP(vtp_path, 'l_pelvis.vtp')\n",
    "r_pelvis = ImportVTP(vtp_path, 'r_pelvis.vtp')\n",
    "sacrum = ImportVTP(vtp_path, 'sacrum.vtp')\n",
    "\n",
    "l_pelvis_transformed = pv.PolyData(pelvis_tps.apply_spline_to_surface(l_pelvis.mesh))\n",
    "r_pelvis_transformed = pv.PolyData(pelvis_tps.apply_spline_to_surface(r_pelvis.mesh))\n",
    "sacrum_transformed = pv.PolyData(pelvis_tps.apply_spline_to_surface(sacrum.mesh))\n",
    "\n",
    "# plot resutls\n",
    "plotter = pv.Plotter(shape=(1, 2))\n",
    "actor = plotter.add_mesh(l_pelvis.mesh, color='lightblue', opacity=0.5, show_edges=True)\n",
    "actor = plotter.add_mesh(pv.PolyData(r_pelvis.mesh), color='lightblue', opacity=0.5, show_edges=True)\n",
    "actor = plotter.add_mesh(pv.PolyData(sacrum.mesh), color='lightblue', opacity=0.5, show_edges=True)\n",
    "actor = plotter.add_mesh(pv.PolyData(osim_bone.to_numpy()),  color='blue', point_size=10.0) \n",
    "plotter.subplot(0, 1)\n",
    "actor = plotter.add_mesh(l_pelvis_transformed, color='red', opacity=0.5, show_edges=True)\n",
    "actor = plotter.add_mesh(r_pelvis_transformed, color='red', opacity=0.5, show_edges=True)\n",
    "actor = plotter.add_mesh(sacrum_transformed, color='red', opacity=0.5, show_edges=True)\n",
    "actor = plotter.add_mesh(pv.PolyData(pelvis_transformed_bone),  color='blue', point_size=10.0)\n",
    "if len(exclude) >= 1:\n",
    "    actor = plotter.add_mesh(pv.PolyData(mri_dict['pelvis'].loc[exclude].to_numpy()), color='green', point_size=10.0)\n",
    "plotter.show(jupyter_backend='trame')"
   ]
  },
  {
   "cell_type": "code",
   "execution_count": 63,
   "metadata": {},
   "outputs": [],
   "source": [
    "# #record results into the control folder\n",
    "pelvis_transformed_bone_df = pd.DataFrame(pelvis_transformed_bone, index=osim_bone.index, columns=osim_bone.columns)\n",
    "pelvis_transformed_skin_df = pd.DataFrame(pelvis_transformed_skin, index=osim_skin_markers_dict['pelvis'].index, columns=osim_skin_markers_dict['pelvis'].columns)\n",
    "\n",
    "pelvis_transformed_muscle_df = pd.DataFrame(pelvis_transformed_muscle, index=osim_muscls_dict['pelvis'].index, columns=osim_muscls_dict['pelvis'].columns)\n",
    "pelvis_transformed_wraps_translation_df = pd.DataFrame(pelvis_transformed_wraps[2], index=osim_wraps_dict['pelvis']['name'], columns=['r', 'a', 's'])\n",
    "\n",
    "pelvis_transformed_bone_df.to_csv(os.path.join(control_path, 'pelvis_transformed_bone.csv'))\n",
    "pelvis_transformed_skin_df.to_csv(os.path.join(control_path, 'pelvis_transformed_skin.csv'))\n",
    "\n",
    "pelvis_transformed_muscle_df.to_csv(os.path.join(control_path, 'pelvis_transformed_muscle.csv'))\n",
    "pelvis_transformed_wraps_translation_df.to_csv(os.path.join(control_path, 'pelvis_transformed_wraps_translation.csv'))\n",
    "\n",
    "l_pelvis_transformed.save(os.path.join(control_path, f'l_pelvis_transformed.stl'))\n",
    "r_pelvis_transformed.save(os.path.join(control_path, f'r_pelvis_transformed.stl'))\n",
    "sacrum_transformed.save(os.path.join(control_path, f'sacrum_transformed.stl'))"
   ]
  },
  {
   "cell_type": "code",
   "execution_count": 64,
   "metadata": {},
   "outputs": [
    {
     "name": "stdout",
     "output_type": "stream",
     "text": [
      "the determinant is less than zero, recalculate r\n"
     ]
    }
   ],
   "source": [
    "# rotate results to child frame\n",
    "bone_markers = list(mri_dict['pelvis'].index)\n",
    "pelvis_axes = GetPelvisAxes(pelvis_transformed_bone, bone_markers)\n",
    "\n",
    "pelvis_bone_in_child = pelvis_axes.bone_transformed\n",
    "pelvis_skin_in_child = pelvis_axes.apply_to_non_bone(pelvis_transformed_skin)\n",
    "pelvis_muscles_in_child = pelvis_axes.apply_to_non_bone(pelvis_transformed_muscle)\n",
    "pelvis_wrap_translations_in_child = pelvis_axes.apply_to_non_bone(pelvis_transformed_wraps[2])\n",
    "\n",
    "l_pelvis_surface_in_child = pv.PolyData(pelvis_axes.apply_to_non_bone(l_pelvis_transformed.points), l_pelvis_transformed.faces)\n",
    "r_pelvis_surface_in_child = pv.PolyData(pelvis_axes.apply_to_non_bone(r_pelvis_transformed.points), r_pelvis_transformed.faces)\n",
    "sacrum_surface_in_child = pv.PolyData(pelvis_axes.apply_to_non_bone(sacrum_transformed.points), sacrum_transformed.faces)"
   ]
  },
  {
   "cell_type": "code",
   "execution_count": 65,
   "metadata": {},
   "outputs": [
    {
     "data": {
      "application/vnd.jupyter.widget-view+json": {
       "model_id": "94cef49f46314e648c42360bb657aaa3",
       "version_major": 2,
       "version_minor": 0
      },
      "text/plain": [
       "Widget(value='<iframe src=\"http://localhost:60660/index.html?ui=P_0x2f12c4749d0_9&reconnect=auto\" class=\"pyvis…"
      ]
     },
     "metadata": {},
     "output_type": "display_data"
    }
   ],
   "source": [
    "plotter = pv.Plotter(shape=(1, 2))\n",
    "actor = plotter.add_mesh(l_pelvis.mesh, color='lightblue', opacity=0.5, show_edges=True)\n",
    "actor = plotter.add_mesh(pv.PolyData(r_pelvis.mesh), color='lightblue', opacity=0.5, show_edges=True)\n",
    "actor = plotter.add_mesh(pv.PolyData(sacrum.mesh), color='lightblue', opacity=0.5, show_edges=True)\n",
    "actor = plotter.add_mesh(pv.PolyData(osim_bone.to_numpy()),  color='blue', point_size=10.0) \n",
    "actor = plotter.add_mesh(pv.PolyData(osim_bone.to_numpy()),  color='blue', point_size=10.0)\n",
    "actor = plotter.add_mesh(pv.PolyData(osim_muscls_dict['pelvis'].to_numpy()),  color='black', point_size=5.0)\n",
    "actor = plotter.add_mesh(pv.PolyData(np.stack(osim_wraps_dict['pelvis']['translation'].to_numpy())),  color='red', point_size=10.0)  \n",
    "plotter.subplot(0, 1)\n",
    "actor = plotter.add_mesh(l_pelvis_surface_in_child, color='red', opacity=0.5, show_edges=True)\n",
    "actor = plotter.add_mesh(r_pelvis_surface_in_child, color='red', opacity=0.5, show_edges=True)\n",
    "actor = plotter.add_mesh(sacrum_surface_in_child, color='red', opacity=0.5, show_edges=True)\n",
    "actor = plotter.add_mesh(pv.PolyData(pelvis_bone_in_child),  color='blue', point_size=10.0)\n",
    "actor = plotter.add_mesh(pv.PolyData(pelvis_muscles_in_child),  color='black', point_size=5.0)\n",
    "actor = plotter.add_mesh(pv.PolyData(pelvis_wrap_translations_in_child),  color='red', point_size=10.0)\n",
    "\n",
    "plotter.show(jupyter_backend='trame')"
   ]
  },
  {
   "cell_type": "markdown",
   "metadata": {},
   "source": [
    "# femur_r  tps"
   ]
  },
  {
   "cell_type": "code",
   "execution_count": 66,
   "metadata": {},
   "outputs": [
    {
     "data": {
      "application/vnd.jupyter.widget-view+json": {
       "model_id": "7b638edfb3c442399de990a9599a150e",
       "version_major": 2,
       "version_minor": 0
      },
      "text/plain": [
       "Widget(value='<iframe src=\"http://localhost:60660/index.html?ui=P_0x2f12c55e1d0_10&reconnect=auto\" class=\"pyvi…"
      ]
     },
     "metadata": {},
     "output_type": "display_data"
    }
   ],
   "source": [
    "# exclude markers to control for the quality of the spline\n",
    "to_exclude_femur_r = [] #'knee_r_center_in_femur_r','gr_troch_as_r', 'femur_r_poster_diaph_25', 'femur_r_anter_diaph_25', \n",
    "\n",
    "# calculate the spline\n",
    "femur_r_tps = OneBodyTPS('femur_r', osim_dict['femur_r'], \n",
    "                         mri_dict['femur_r'], \n",
    "                        osim_muscle = osim_muscls_dict['femur_r'], \n",
    "                         osim_skin = osim_skin_markers_dict['femur_r'],\n",
    "                         exclude_bone_markers = to_exclude_femur_r)\n",
    "\n",
    "# transform all objects\n",
    "femur_r_osim_bone = osim_dict['femur_r']\n",
    "femur_r_transformed_bone = femur_r_tps.transformed_bone\n",
    "femur_r_transformed_skin = femur_r_tps.transformed_skin\n",
    "femur_r_transformed_muscle = femur_r_tps.transformed_muscle\n",
    "femur_r_transformed_wraps = femur_r_tps.apply_tps_to_wraps(osim_wraps_dict['femur_r'])\n",
    "\n",
    "r_femur = ImportVTP(vtp_path, 'r_femur.stl')\n",
    "femur_r_transformed = femur_r_tps.apply_spline_to_surface(r_femur.mesh)\n",
    "\n",
    "# plot results\n",
    "plotter = pv.Plotter(shape=(1, 2))\n",
    "actor = plotter.add_mesh(r_femur.mesh, color='lightblue', opacity=0.5, show_edges=True)\n",
    "actor = plotter.add_mesh(pv.PolyData(femur_r_osim_bone.to_numpy()),  color='blue', point_size=10.0) \n",
    "plotter.subplot(0, 1)\n",
    "actor = plotter.add_mesh(femur_r_transformed, color='red', opacity=0.5, show_edges=True)\n",
    "actor = plotter.add_mesh(pv.PolyData(femur_r_transformed_bone),  color='blue', point_size=10.0)\n",
    "if len(to_exclude_femur_r) >= 1:\n",
    "    actor = plotter.add_mesh(pv.PolyData(mri_dict['femur_r'].loc[to_exclude_femur_r].to_numpy()), color='green', point_size=10.0)\n",
    "plotter.show(jupyter_backend='trame')\n"
   ]
  },
  {
   "cell_type": "code",
   "execution_count": 67,
   "metadata": {},
   "outputs": [],
   "source": [
    "# # record results into the control folder\n",
    "femur_r_transformed_bone_df = pd.DataFrame(femur_r_transformed_bone, index=femur_r_osim_bone.index, columns=femur_r_osim_bone.columns)\n",
    "femur_r_transformed_skin_df = pd.DataFrame(femur_r_transformed_skin, index=osim_skin_markers_dict['femur_r'].index, columns=osim_skin_markers_dict['femur_r'].columns)\n",
    "\n",
    "femur_r_transformed_muscle_df = pd.DataFrame(femur_r_transformed_muscle, index=osim_muscls_dict['femur_r'].index, columns=osim_muscls_dict['femur_r'].columns)\n",
    "femur_r_transformed_wraps_translation_df = pd.DataFrame(femur_r_transformed_wraps[2], index=osim_wraps_dict['femur_r']['name'], columns=['r', 'a', 's'])\n",
    "\n",
    "femur_r_transformed_bone_df.to_csv(os.path.join(control_path, 'femur_r_transformed_bone.csv'))\n",
    "femur_r_transformed_skin_df.to_csv(os.path.join(control_path, 'femur_r_transformed_skin.csv'))\n",
    "\n",
    "femur_r_transformed_muscle_df.to_csv(os.path.join(control_path, 'femur_r_transformed_muscle.csv'))\n",
    "femur_r_transformed_wraps_translation_df.to_csv(os.path.join(control_path, 'femur_r_transformed_wraps_translation.csv'))\n",
    "\n",
    "femur_r_transformed.save(os.path.join(control_path, f'femur_r_transformed.stl'))"
   ]
  },
  {
   "cell_type": "code",
   "execution_count": 68,
   "metadata": {},
   "outputs": [],
   "source": [
    "# create rotations to child\n",
    "bone_markers = list(mri_dict['femur_r'].index)\n",
    "femur_r_axes = GetFemurAxes(femur_r_transformed_bone,\n",
    "                            bone_markers, \n",
    "                            femur_skin_numpy = femur_r_transformed_skin,\n",
    "                            femur_muscles_numpy = femur_r_transformed_muscle,\n",
    "                            femur_wraps_numpy = femur_r_transformed_wraps[2],\n",
    "                            femur_surface_numpy = femur_r_transformed.points)\n",
    "# rotate to child\n",
    "femur_r_bone_in_child = femur_r_axes.bone_transformed\n",
    "femur_r_skin_in_child = femur_r_axes.femur_skin\n",
    "femur_r_muscles_in_child = femur_r_axes.femur_muscles\n",
    "femur_r_wrap_translations_in_child = femur_r_axes.femur_wraps\n",
    "femur_r_surface_in_child = pv.PolyData(femur_r_axes.femur_surface, femur_r_transformed.faces)"
   ]
  },
  {
   "cell_type": "code",
   "execution_count": 69,
   "metadata": {},
   "outputs": [
    {
     "data": {
      "application/vnd.jupyter.widget-view+json": {
       "model_id": "ac9a15eeaeb641179bca9599ab656108",
       "version_major": 2,
       "version_minor": 0
      },
      "text/plain": [
       "Widget(value='<iframe src=\"http://localhost:60660/index.html?ui=P_0x2f14aed2750_11&reconnect=auto\" class=\"pyvi…"
      ]
     },
     "metadata": {},
     "output_type": "display_data"
    }
   ],
   "source": [
    "plotter = pv.Plotter(shape=(1, 2))\n",
    "actor = plotter.add_mesh(r_femur.mesh, color='lightblue', opacity=0.5, show_edges=True)\n",
    "actor = plotter.add_mesh(pv.PolyData(femur_r_osim_bone.to_numpy()),  color='blue', point_size=10.0)\n",
    "actor = plotter.add_mesh(pv.PolyData(osim_muscls_dict['femur_r'].to_numpy()),  color='black', point_size=5.0)\n",
    "actor = plotter.add_mesh(pv.PolyData(np.stack(osim_wraps_dict['femur_r']['translation'].to_numpy())),  color='red', point_size=10.0)  \n",
    "plotter.subplot(0, 1)\n",
    "actor = plotter.add_mesh(femur_r_surface_in_child, color='red', opacity=0.5, show_edges=True)\n",
    "actor = plotter.add_mesh(pv.PolyData(femur_r_bone_in_child),  color='blue', point_size=10.0)\n",
    "actor = plotter.add_mesh(pv.PolyData(femur_r_muscles_in_child),  color='black', point_size=5.0)\n",
    "actor = plotter.add_mesh(pv.PolyData(femur_r_wrap_translations_in_child),  color='red', point_size=10.0)\n",
    "\n",
    "plotter.show(jupyter_backend='trame')"
   ]
  },
  {
   "cell_type": "markdown",
   "metadata": {},
   "source": [
    "# patella_r tps"
   ]
  },
  {
   "cell_type": "code",
   "execution_count": 70,
   "metadata": {},
   "outputs": [
    {
     "data": {
      "application/vnd.jupyter.widget-view+json": {
       "model_id": "64a38c96beff4e34a3ea7b3f2557a35a",
       "version_major": 2,
       "version_minor": 0
      },
      "text/plain": [
       "Widget(value='<iframe src=\"http://localhost:60660/index.html?ui=P_0x2f14afc0990_12&reconnect=auto\" class=\"pyvi…"
      ]
     },
     "metadata": {},
     "output_type": "display_data"
    }
   ],
   "source": [
    "# exclude markers\n",
    "patella_r_exclude =  None\n",
    "\n",
    "# calculate spline\n",
    "patella_r_tps = OneBodyTPS('patella_r', osim_dict['patella_r'], \n",
    "                         mri_dict['patella_r'], \n",
    "                         osim_muscle = osim_muscls_dict['patella_r'], \n",
    "                         osim_skin = None, \n",
    "                         exclude_bone_markers = patella_r_exclude)\n",
    "\n",
    "# transform objects\n",
    "patella_r_osim_bone = osim_dict['patella_r']\n",
    "patella_r_transformed_bone = patella_r_tps.transformed_bone\n",
    "patella_r_transformed_muscle = patella_r_tps.transformed_muscle\n",
    "\n",
    "r_patella = ImportVTP(vtp_path, 'r_patella.vtp')\n",
    "\n",
    "patella_r_transformed = patella_r_tps.apply_spline_to_surface(r_patella.mesh)\n",
    "\n",
    "\n",
    "# plot results\n",
    "plotter = pv.Plotter(shape=(1, 2))\n",
    "actor = plotter.add_mesh(r_patella.mesh, color='lightblue', opacity=0.5, show_edges=True)\n",
    "actor = plotter.add_mesh(pv.PolyData(patella_r_osim_bone.to_numpy()),  color='blue', point_size=10.0) \n",
    "plotter.subplot(0, 1)\n",
    "actor = plotter.add_mesh(patella_r_transformed, color='red', opacity=0.5, show_edges=True)\n",
    "actor = plotter.add_mesh(pv.PolyData(patella_r_transformed_bone),  color='blue', point_size=10.0)\n",
    "#if len(patella_r_exclude) >= 1:\n",
    "#actor = plotter.add_mesh(pv.PolyData(osim_mri_bone_by_bodies.patella_r_mri.loc[patella_r_exclude].to_numpy()), color='green', point_size=10.0)\n",
    "plotter.show(jupyter_backend='trame')"
   ]
  },
  {
   "cell_type": "code",
   "execution_count": 71,
   "metadata": {},
   "outputs": [],
   "source": [
    "# # record results into the control folder\n",
    "patella_r_transformed_bone_df = pd.DataFrame(patella_r_transformed_bone, index=patella_r_osim_bone.index, columns=patella_r_osim_bone.columns)\n",
    "patella_r_transformed_muscle_df = pd.DataFrame(patella_r_transformed_muscle, index=osim_muscls_dict['patella_r'].index, columns=osim_muscls_dict['patella_r'].columns)\n",
    "\n",
    "patella_r_transformed_bone_df.to_csv(os.path.join(control_path, 'patella_r_transformed_bone.csv'))\n",
    "patella_r_transformed_muscle_df.to_csv(os.path.join(control_path, 'patella_r_transformed_muscle.csv'))\n",
    "\n",
    "patella_r_transformed.save(os.path.join(control_path, f'patella_r_transformed.stl'))"
   ]
  },
  {
   "cell_type": "code",
   "execution_count": 72,
   "metadata": {},
   "outputs": [],
   "source": [
    "patella_bone_markers = list(mri_dict['patella_r'].index)\n",
    "\n",
    "patella_rotate = femur_r_axes.transform_patella(patella_r_transformed_bone, \n",
    "                                                  patella_bone_markers,\n",
    "                                                  patella_muscles_numpy = patella_r_transformed_muscle,  \n",
    "                                                  patella_surface_numpy = patella_r_transformed.points)\n",
    "\n",
    "patella_r_bone_in_child = patella_rotate[0]\n",
    "patella_r_muscle_in_child = patella_rotate[1] \n",
    "patella_r_surface_in_child = pv.PolyData(patella_rotate[2], patella_r_transformed.faces)"
   ]
  },
  {
   "cell_type": "code",
   "execution_count": 73,
   "metadata": {},
   "outputs": [
    {
     "data": {
      "application/vnd.jupyter.widget-view+json": {
       "model_id": "641b843a07e94c4c95ccdd2d416184f8",
       "version_major": 2,
       "version_minor": 0
      },
      "text/plain": [
       "Widget(value='<iframe src=\"http://localhost:60660/index.html?ui=P_0x2f162f30c10_13&reconnect=auto\" class=\"pyvi…"
      ]
     },
     "metadata": {},
     "output_type": "display_data"
    }
   ],
   "source": [
    "plotter = pv.Plotter(shape=(1, 2))\n",
    "actor = plotter.add_mesh(r_patella.mesh, color='lightblue', opacity=0.5, show_edges=True)\n",
    "actor = plotter.add_mesh(pv.PolyData(patella_r_osim_bone.to_numpy()),  color='blue', point_size=10.0) \n",
    "plotter.subplot(0, 1)\n",
    "actor = plotter.add_mesh(patella_r_surface_in_child, color='red', opacity=0.5, show_edges=True)\n",
    "actor = plotter.add_mesh(pv.PolyData(patella_r_bone_in_child),  color='blue', point_size=10.0)\n",
    "actor = plotter.add_mesh(pv.PolyData(patella_r_muscle_in_child),  color='black', point_size=5.0)\n",
    "plotter.show(jupyter_backend='trame')"
   ]
  },
  {
   "cell_type": "markdown",
   "metadata": {},
   "source": [
    "# femur_l  tps"
   ]
  },
  {
   "cell_type": "code",
   "execution_count": 74,
   "metadata": {},
   "outputs": [
    {
     "data": {
      "text/plain": [
       "Index(['knee_l_med', 'knee_l_lat', 'femur_l_center', 'patella_l_in_femur_l',\n",
       "       'knee_l_center_in_femur_l', 'gr_troch_as_l', 'gr_troch_lat_l',\n",
       "       'femur_l_midshaft_anter', 'femur_l_midshaft_poster', 'ls_troch_l',\n",
       "       'femur_l_poster_diaph_25', 'femur_l_poster_diaph_75',\n",
       "       'femur_l_anter_diaph_25', 'gr_troch_ps_l', 'femur_l_anter_diaph_75'],\n",
       "      dtype='object', name='names')"
      ]
     },
     "execution_count": 74,
     "metadata": {},
     "output_type": "execute_result"
    }
   ],
   "source": [
    "mri_dict['femur_l'].index"
   ]
  },
  {
   "cell_type": "code",
   "execution_count": 75,
   "metadata": {},
   "outputs": [
    {
     "data": {
      "application/vnd.jupyter.widget-view+json": {
       "model_id": "d10108f99e55449b90a092cbca7f1b04",
       "version_major": 2,
       "version_minor": 0
      },
      "text/plain": [
       "Widget(value='<iframe src=\"http://localhost:60660/index.html?ui=P_0x2f0f0b7f050_14&reconnect=auto\" class=\"pyvi…"
      ]
     },
     "metadata": {},
     "output_type": "display_data"
    }
   ],
   "source": [
    "# exclude markers to control for the quality of the spline\n",
    "to_exclude_femur_l = [] #, 'gr_troch_ps_l','gr_troch_lat_l', 'gr_troch_as_l'\n",
    "\n",
    "# calculate the spline\n",
    "femur_l_tps = OneBodyTPS('femur_l', osim_dict['femur_l'], \n",
    "                         mri_dict['femur_l'], \n",
    "                         osim_skin = osim_skin_markers_dict['femur_l'],\n",
    "                         osim_muscle = osim_muscls_dict['femur_l'], \n",
    "                         exclude_bone_markers = to_exclude_femur_l)\n",
    "\n",
    "# transform all objects\n",
    "femur_l_osim_bone = osim_dict['femur_l']\n",
    "femur_l_transformed_bone = femur_l_tps.transformed_bone\n",
    "femur_l_transformed_skin = femur_l_tps.transformed_skin\n",
    "femur_l_transformed_muscle = femur_l_tps.transformed_muscle\n",
    "femur_l_transformed_wraps = femur_l_tps.apply_tps_to_wraps(osim_wraps_dict['femur_l'])\n",
    "\n",
    "l_femur = ImportVTP(vtp_path, 'l_femur.stl')\n",
    "femur_l_transformed = femur_l_tps.apply_spline_to_surface(l_femur.mesh)\n",
    "\n",
    "# plot results\n",
    "plotter = pv.Plotter(shape=(1, 2))\n",
    "actor = plotter.add_mesh(l_femur.mesh, color='lightblue', opacity=0.5, show_edges=True)\n",
    "actor = plotter.add_mesh(pv.PolyData(femur_l_osim_bone.to_numpy()),  color='blue', point_size=10.0) \n",
    "plotter.subplot(0, 1)\n",
    "actor = plotter.add_mesh(femur_l_transformed, color='red', opacity=0.5, show_edges=True)\n",
    "actor = plotter.add_mesh(pv.PolyData(femur_l_transformed_bone),  color='blue', point_size=10.0)\n",
    "if len(to_exclude_femur_l) >= 1:\n",
    "    actor = plotter.add_mesh(pv.PolyData(mri_dict['femur_l'].loc[to_exclude_femur_l].to_numpy()), color='green', point_size=10.0)\n",
    "plotter.show(jupyter_backend='trame')"
   ]
  },
  {
   "cell_type": "code",
   "execution_count": 76,
   "metadata": {},
   "outputs": [
    {
     "data": {
      "text/plain": [
       "8"
      ]
     },
     "execution_count": 76,
     "metadata": {},
     "output_type": "execute_result"
    }
   ],
   "source": [
    "len(osim_skin_markers_dict['femur_r'])"
   ]
  },
  {
   "cell_type": "code",
   "execution_count": 78,
   "metadata": {},
   "outputs": [],
   "source": [
    "# # record results into the control folder\n",
    "femur_l_transformed_bone_df = pd.DataFrame(femur_l_transformed_bone, index=femur_l_osim_bone.index, columns=femur_l_osim_bone.columns)\n",
    "femur_l_transformed_skin_df = pd.DataFrame(femur_l_transformed_skin, index=osim_skin_markers_dict['femur_l'].index, columns=osim_skin_markers_dict['femur_l'].columns)\n",
    "\n",
    "femur_l_transformed_muscle_df = pd.DataFrame(femur_l_transformed_muscle, index=osim_muscls_dict['femur_l'].index, columns=osim_muscls_dict['femur_l'].columns)\n",
    "femur_l_transformed_wraps_translation_df = pd.DataFrame(femur_l_transformed_wraps[2], index=osim_wraps_dict['femur_l']['name'], columns=['r', 'a', 's'])\n",
    "\n",
    "femur_l_transformed_bone_df.to_csv(os.path.join(control_path, 'femur_l_transformed_bone.csv'))\n",
    "femur_l_transformed_skin_df.to_csv(os.path.join(control_path, 'femur_l_transformed_skin.csv'))\n",
    "\n",
    "femur_l_transformed_muscle_df.to_csv(os.path.join(control_path, 'femur_l_transformed_muscle.csv'))\n",
    "femur_l_transformed_wraps_translation_df.to_csv(os.path.join(control_path, 'femur_l_transformed_wraps_translation.csv'))\n",
    "\n",
    "femur_l_transformed.save(os.path.join(control_path, f'femur_l_transformed.stl'))"
   ]
  },
  {
   "cell_type": "code",
   "execution_count": 79,
   "metadata": {},
   "outputs": [],
   "source": [
    "# create rotations to child\n",
    "bone_markers = list(mri_dict['femur_l'].index)\n",
    "femur_l_axes = GetFemurAxes(femur_l_transformed_bone,\n",
    "                            bone_markers, \n",
    "                            femur_skin_numpy = femur_l_transformed_skin,\n",
    "                            femur_muscles_numpy = femur_l_transformed_muscle,\n",
    "                            femur_wraps_numpy = femur_l_transformed_wraps[2],\n",
    "                            femur_surface_numpy = femur_l_transformed.points)\n",
    "# rotate to child\n",
    "femur_l_bone_in_child = femur_l_axes.bone_transformed\n",
    "femur_l_skin_in_child = femur_l_axes.femur_skin\n",
    "femur_l_muscles_in_child = femur_l_axes.femur_muscles\n",
    "femur_l_wrap_translations_in_child = femur_l_axes.femur_wraps\n",
    "femur_l_surface_in_child = pv.PolyData(femur_l_axes.femur_surface, femur_l_transformed.faces)"
   ]
  },
  {
   "cell_type": "code",
   "execution_count": 80,
   "metadata": {},
   "outputs": [
    {
     "data": {
      "application/vnd.jupyter.widget-view+json": {
       "model_id": "5a711d842e3e4c078302be6f96354b89",
       "version_major": 2,
       "version_minor": 0
      },
      "text/plain": [
       "Widget(value='<iframe src=\"http://localhost:60660/index.html?ui=P_0x2f186b5fc10_15&reconnect=auto\" class=\"pyvi…"
      ]
     },
     "metadata": {},
     "output_type": "display_data"
    }
   ],
   "source": [
    "# plot results of the rotation\n",
    "plotter = pv.Plotter(shape=(1, 2))\n",
    "actor = plotter.add_mesh(l_femur.mesh, color='lightblue', opacity=0.5, show_edges=True)\n",
    "actor = plotter.add_mesh(pv.PolyData(femur_l_osim_bone.to_numpy()),  color='blue', point_size=10.0)\n",
    "actor = plotter.add_mesh(pv.PolyData(osim_muscls_dict['femur_l'].to_numpy()),  color='black', point_size=5.0)\n",
    "actor = plotter.add_mesh(pv.PolyData(np.stack(osim_wraps_dict['femur_l']['translation'].to_numpy())),  color='red', point_size=10.0)  \n",
    "plotter.subplot(0, 1)\n",
    "actor = plotter.add_mesh(femur_l_surface_in_child, color='red', opacity=0.5, show_edges=True)\n",
    "actor = plotter.add_mesh(pv.PolyData(femur_l_bone_in_child),  color='blue', point_size=10.0)\n",
    "actor = plotter.add_mesh(pv.PolyData(femur_l_muscles_in_child),  color='black', point_size=5.0)\n",
    "actor = plotter.add_mesh(pv.PolyData(femur_l_wrap_translations_in_child),  color='red', point_size=10.0)\n",
    "\n",
    "plotter.show(jupyter_backend='trame')"
   ]
  },
  {
   "cell_type": "markdown",
   "metadata": {},
   "source": [
    "# patella_l  tps"
   ]
  },
  {
   "cell_type": "code",
   "execution_count": 81,
   "metadata": {},
   "outputs": [
    {
     "data": {
      "application/vnd.jupyter.widget-view+json": {
       "model_id": "f15efa3ad2954193914451aaabf459c7",
       "version_major": 2,
       "version_minor": 0
      },
      "text/plain": [
       "Widget(value='<iframe src=\"http://localhost:60660/index.html?ui=P_0x2f19dcfda50_16&reconnect=auto\" class=\"pyvi…"
      ]
     },
     "metadata": {},
     "output_type": "display_data"
    }
   ],
   "source": [
    "patella_l_exclude =  None\n",
    "\n",
    "patella_l_tps = OneBodyTPS('patella_l', osim_dict['patella_l'], \n",
    "                         mri_dict['patella_l'], \n",
    "                         osim_muscle = osim_muscls_dict['patella_l'], \n",
    "                         osim_skin = None,\n",
    "                         exclude_bone_markers = patella_l_exclude)\n",
    "\n",
    "patella_l_osim_bone = osim_dict['patella_l']\n",
    "patella_l_transformed_bone = patella_l_tps.transformed_bone\n",
    "patella_l_transformed_muscle = patella_l_tps.transformed_muscle\n",
    "\n",
    "l_patella = ImportVTP(vtp_path, 'l_patella.vtp')\n",
    "\n",
    "patella_l_transformed = patella_l_tps.apply_spline_to_surface(l_patella.mesh)\n",
    "\n",
    "plotter = pv.Plotter(shape=(1, 2))\n",
    "actor = plotter.add_mesh(l_patella.mesh, color='lightblue', opacity=0.5, show_edges=True)\n",
    "actor = plotter.add_mesh(pv.PolyData(patella_l_osim_bone.to_numpy()),  color='blue', point_size=10.0) \n",
    "plotter.subplot(0, 1)\n",
    "actor = plotter.add_mesh(patella_l_transformed, color='red', opacity=0.5, show_edges=True)\n",
    "actor = plotter.add_mesh(pv.PolyData(patella_l_transformed_bone),  color='blue', point_size=10.0)\n",
    "# if len(patella_r_exclude) >= 1:\n",
    "#actor = plotter.add_mesh(pv.PolyData(osim_mri_bone_by_bodies.patella_r_mri.loc[patella_r_exclude].to_numpy()), color='green', point_size=10.0)\n",
    "plotter.show(jupyter_backend='trame')"
   ]
  },
  {
   "cell_type": "code",
   "execution_count": 82,
   "metadata": {},
   "outputs": [],
   "source": [
    "# record results into the control folder\n",
    "patella_l_transformed_bone_df = pd.DataFrame(patella_l_transformed_bone, index=patella_l_osim_bone.index, columns=patella_l_osim_bone.columns)\n",
    "patella_l_transformed_muscle_df = pd.DataFrame(patella_l_transformed_muscle, index=osim_muscls_dict['patella_l'].index, columns=osim_muscls_dict['patella_l'].columns)\n",
    "\n",
    "patella_l_transformed_bone_df.to_csv(os.path.join(control_path, 'patella_l_transformed_bone.csv'))\n",
    "patella_l_transformed_muscle_df.to_csv(os.path.join(control_path, 'patella_l_transformed_muscle.csv'))\n",
    "\n",
    "patella_l_transformed.save(os.path.join(control_path, f'patella_l_transformed.stl'))"
   ]
  },
  {
   "cell_type": "code",
   "execution_count": 83,
   "metadata": {},
   "outputs": [
    {
     "data": {
      "application/vnd.jupyter.widget-view+json": {
       "model_id": "8daf0fd4340c4dba82a1cb46ed80c9f7",
       "version_major": 2,
       "version_minor": 0
      },
      "text/plain": [
       "Widget(value='<iframe src=\"http://localhost:60660/index.html?ui=P_0x2f19dc67b10_17&reconnect=auto\" class=\"pyvi…"
      ]
     },
     "metadata": {},
     "output_type": "display_data"
    }
   ],
   "source": [
    "patella_bone_markers = list(mri_dict['patella_l'].index)\n",
    "\n",
    "patella_rotate = femur_l_axes.transform_patella(patella_l_transformed_bone, \n",
    "                                                  patella_bone_markers,\n",
    "                                                  patella_muscles_numpy = patella_l_transformed_muscle,  \n",
    "                                                  patella_surface_numpy = patella_l_transformed.points)\n",
    "\n",
    "patella_l_bone_in_child = patella_rotate[0]\n",
    "patella_l_muscle_in_child = patella_rotate[1] \n",
    "patella_l_surface_in_child = pv.PolyData(patella_rotate[2], patella_l_transformed.faces)\n",
    "\n",
    "plotter = pv.Plotter(shape=(1, 2))\n",
    "actor = plotter.add_mesh(l_patella.mesh, color='lightblue', opacity=0.5, show_edges=True)\n",
    "actor = plotter.add_mesh(pv.PolyData(patella_l_osim_bone.to_numpy()),  color='blue', point_size=10.0) \n",
    "plotter.subplot(0, 1)\n",
    "actor = plotter.add_mesh(patella_l_surface_in_child, color='red', opacity=0.5, show_edges=True)\n",
    "actor = plotter.add_mesh(pv.PolyData(patella_l_bone_in_child),  color='blue', point_size=10.0)\n",
    "actor = plotter.add_mesh(pv.PolyData(patella_l_muscle_in_child),  color='black', point_size=5.0)\n",
    "plotter.show(jupyter_backend='trame')"
   ]
  },
  {
   "cell_type": "markdown",
   "metadata": {},
   "source": [
    "# tibia_r tps"
   ]
  },
  {
   "cell_type": "code",
   "execution_count": 84,
   "metadata": {},
   "outputs": [
    {
     "data": {
      "application/vnd.jupyter.widget-view+json": {
       "model_id": "d2c90e131b5545a6afd8a577a735c5ef",
       "version_major": 2,
       "version_minor": 0
      },
      "text/plain": [
       "Widget(value='<iframe src=\"http://localhost:60660/index.html?ui=P_0x2f199ecdc90_18&reconnect=auto\" class=\"pyvi…"
      ]
     },
     "metadata": {},
     "output_type": "display_data"
    }
   ],
   "source": [
    "tibia_r_exclude =  [] #'tibia_r_anter_diaph_75',\n",
    "\n",
    "tibia_r_tps = OneBodyTPS('tibia_r', osim_dict['tibia_r'], \n",
    "                         mri_dict['tibia_r'], \n",
    "                         osim_skin = osim_skin_markers_dict['tibia_r'],\n",
    "                         osim_muscle = osim_muscls_dict['tibia_r'], \n",
    "                         exclude_bone_markers = tibia_r_exclude)\n",
    "\n",
    "tibia_r_osim_bone = osim_dict['tibia_r']\n",
    "tibia_r_transformed_bone = tibia_r_tps.transformed_bone\n",
    "tibia_r_transformed_skin = tibia_r_tps.transformed_skin\n",
    "tibia_r_transformed_muscle = tibia_r_tps.transformed_muscle\n",
    "tibia_r_transformed_wraps = tibia_r_tps.apply_tps_to_wraps(osim_wraps_dict['tibia_r'])\n",
    "\n",
    "r_tibia = ImportVTP(vtp_path, 'r_tibia.stl')\n",
    "r_fibula = ImportVTP(vtp_path, 'r_fibula.stl')\n",
    "\n",
    "tibia_r_transformed = tibia_r_tps.apply_spline_to_surface(r_tibia.mesh)\n",
    "fibula_r_transformed = tibia_r_tps.apply_spline_to_surface(r_fibula.mesh)\n",
    "\n",
    "plotter = pv.Plotter(shape=(1, 2))\n",
    "actor = plotter.add_mesh(r_tibia.mesh, color='lightblue', opacity=0.5, show_edges=True)\n",
    "actor = plotter.add_mesh(r_fibula.mesh, color='lightblue', opacity=0.5, show_edges=True)\n",
    "actor = plotter.add_mesh(pv.PolyData(tibia_r_osim_bone.to_numpy()),  color='blue', point_size=10.0) \n",
    "plotter.subplot(0, 1)\n",
    "actor = plotter.add_mesh(tibia_r_transformed, color='red', opacity=0.5, show_edges=True)\n",
    "actor = plotter.add_mesh(fibula_r_transformed, color='red', opacity=0.5, show_edges=True)\n",
    "actor = plotter.add_mesh(pv.PolyData(tibia_r_transformed_bone),  color='blue', point_size=10.0)\n",
    "if len(tibia_r_exclude) >= 1:\n",
    "    actor = plotter.add_mesh(pv.PolyData(mri_dict['tibia_r'].loc[tibia_r_exclude].to_numpy()), color='green', point_size=10.0)\n",
    "plotter.show(jupyter_backend='trame')"
   ]
  },
  {
   "cell_type": "code",
   "execution_count": 85,
   "metadata": {},
   "outputs": [],
   "source": [
    "# # record results into the control folder\n",
    "tibia_r_transformed_bone_df = pd.DataFrame(tibia_r_transformed_bone, index=tibia_r_osim_bone.index, columns=tibia_r_osim_bone.columns)\n",
    "tibia_r_transformed_skin_df = pd.DataFrame(tibia_r_transformed_skin, index=osim_skin_markers_dict['tibia_r'].index, columns=osim_skin_markers_dict['tibia_r'].columns)\n",
    "tibia_r_transformed_muscle_df = pd.DataFrame(tibia_r_transformed_muscle, index=osim_muscls_dict['tibia_r'].index, columns=osim_muscls_dict['tibia_r'].columns)\n",
    "tibia_r_transformed_wraps_translation_df = pd.DataFrame(tibia_r_transformed_wraps[2], index=osim_wraps_dict['tibia_r']['name'], columns=['r', 'a', 's'])\n",
    "\n",
    "tibia_r_transformed_bone_df.to_csv(os.path.join(control_path, 'tibia_r_transformed_bone.csv'))\n",
    "tibia_r_transformed_skin_df.to_csv(os.path.join(control_path, 'tibia_r_transformed_skin.csv'))\n",
    "tibia_r_transformed_muscle_df.to_csv(os.path.join(control_path, 'tibia_r_transformed_muscle.csv'))\n",
    "tibia_r_transformed_wraps_translation_df.to_csv(os.path.join(control_path, 'tibia_r_transformed_wraps_translation.csv'))\n",
    "\n",
    "tibia_r_transformed.save(os.path.join(control_path, f'tibia_r_transformed.stl'))\n",
    "fibula_r_transformed.save(os.path.join(control_path, f'fibula_r_transformed.stl'))"
   ]
  },
  {
   "cell_type": "code",
   "execution_count": 86,
   "metadata": {},
   "outputs": [
    {
     "name": "stdout",
     "output_type": "stream",
     "text": [
      "the determinant is less than zero, recalculate r\n"
     ]
    }
   ],
   "source": [
    "# create a rotation to child\n",
    "bone_markers = list(mri_dict['tibia_r'].index)\n",
    "\n",
    "tibia_r_axes = GetTibiaAxes(bone_markers = bone_markers, bone_numpy = tibia_r_transformed_bone)\n",
    "\n",
    "# apply the rotaion\n",
    "tibia_r_bone_in_child = tibia_r_axes.bone_transformed\n",
    "tibia_r_skin_in_child = tibia_r_axes.apply_to_not_bone(tibia_r_transformed_skin)\n",
    "tibia_r_muscles_in_child = tibia_r_axes.apply_to_not_bone(tibia_r_transformed_muscle)\n",
    "tibia_r_wrap_translations_in_child = tibia_r_axes.apply_to_not_bone(tibia_r_transformed_wraps[2])\n",
    "\n",
    "tibia_r_surface_in_child = pv.PolyData(\n",
    "    tibia_r_axes.apply_to_not_bone(tibia_r_transformed.points), \n",
    "    tibia_r_transformed.faces)\n",
    "\n",
    "fibula_r_surface_in_child = pv.PolyData(\n",
    "    tibia_r_axes.apply_to_not_bone(fibula_r_transformed.points), \n",
    "    fibula_r_transformed.faces)"
   ]
  },
  {
   "cell_type": "code",
   "execution_count": 87,
   "metadata": {},
   "outputs": [
    {
     "data": {
      "application/vnd.jupyter.widget-view+json": {
       "model_id": "4693671d33724952b5272841be7720d6",
       "version_major": 2,
       "version_minor": 0
      },
      "text/plain": [
       "Widget(value='<iframe src=\"http://localhost:60660/index.html?ui=P_0x2f1c7ab7190_19&reconnect=auto\" class=\"pyvi…"
      ]
     },
     "metadata": {},
     "output_type": "display_data"
    }
   ],
   "source": [
    "# plot results of the rotation\n",
    "plotter = pv.Plotter(shape=(1, 2))\n",
    "actor = plotter.add_mesh(r_tibia.mesh, color='lightblue', opacity=0.5, show_edges=True)\n",
    "actor = plotter.add_mesh(r_fibula.mesh, color='lightblue', opacity=0.5, show_edges=True)\n",
    "actor = plotter.add_mesh(pv.PolyData(tibia_r_osim_bone.to_numpy()),  color='blue', point_size=10.0)\n",
    "actor = plotter.add_mesh(pv.PolyData(osim_muscls_dict['tibia_r'].to_numpy()),  color='black', point_size=5.0)\n",
    "actor = plotter.add_mesh(pv.PolyData(np.stack(osim_wraps_dict['tibia_r']['translation'].to_numpy())),  color='red', point_size=10.0)  \n",
    "plotter.subplot(0, 1)\n",
    "actor = plotter.add_mesh(tibia_r_surface_in_child, color='red', opacity=0.5, show_edges=True)\n",
    "actor = plotter.add_mesh(fibula_r_surface_in_child, color='red', opacity=0.5, show_edges=True)\n",
    "actor = plotter.add_mesh(pv.PolyData(tibia_r_bone_in_child),  color='blue', point_size=10.0)\n",
    "actor = plotter.add_mesh(pv.PolyData(tibia_r_muscles_in_child),  color='black', point_size=5.0)\n",
    "actor = plotter.add_mesh(pv.PolyData(tibia_r_wrap_translations_in_child),  color='red', point_size=10.0)\n",
    "\n",
    "plotter.show(jupyter_backend='trame')"
   ]
  },
  {
   "cell_type": "markdown",
   "metadata": {},
   "source": [
    "# tibia_l  tps"
   ]
  },
  {
   "cell_type": "code",
   "execution_count": 88,
   "metadata": {},
   "outputs": [
    {
     "data": {
      "application/vnd.jupyter.widget-view+json": {
       "model_id": "3e84894b4bd241df9bf0274ad614f27c",
       "version_major": 2,
       "version_minor": 0
      },
      "text/plain": [
       "Widget(value='<iframe src=\"http://localhost:60660/index.html?ui=P_0x2f201c58ed0_20&reconnect=auto\" class=\"pyvi…"
      ]
     },
     "metadata": {},
     "output_type": "display_data"
    }
   ],
   "source": [
    "tibia_l_exclude = []\n",
    "\n",
    "tibia_l_tps = OneBodyTPS('tibia_l', osim_dict['tibia_l'], \n",
    "                         mri_dict['tibia_l'], \n",
    "                         osim_muscle = osim_muscls_dict['tibia_l'], \n",
    "                         osim_skin = osim_skin_markers_dict['tibia_l'],\n",
    "                         exclude_bone_markers = tibia_l_exclude)\n",
    "\n",
    "tibia_l_osim_bone = osim_dict['tibia_l']\n",
    "tibia_l_transformed_bone = tibia_l_tps.transformed_bone\n",
    "tibia_l_transformed_muscle = tibia_l_tps.transformed_muscle\n",
    "tibia_l_transformed_skin = tibia_l_tps.transformed_skin\n",
    "tibia_l_transformed_wraps = tibia_l_tps.apply_tps_to_wraps(osim_wraps_dict['tibia_l'])\n",
    "\n",
    "l_tibia = ImportVTP(vtp_path, 'l_tibia.stl')\n",
    "l_fibula = ImportVTP(vtp_path, 'l_fibula.stl')\n",
    "\n",
    "tibia_l_transformed = tibia_l_tps.apply_spline_to_surface(l_tibia.mesh)\n",
    "fibula_l_transformed = tibia_l_tps.apply_spline_to_surface(l_fibula.mesh)\n",
    "\n",
    "plotter = pv.Plotter(shape=(1, 2))\n",
    "actor = plotter.add_mesh(l_tibia.mesh, color='lightblue', opacity=0.5, show_edges=True)\n",
    "actor = plotter.add_mesh(l_fibula.mesh, color='lightblue', opacity=0.5, show_edges=True)\n",
    "actor = plotter.add_mesh(pv.PolyData(tibia_l_osim_bone.to_numpy()),  color='blue', point_size=10.0) \n",
    "plotter.subplot(0, 1)\n",
    "actor = plotter.add_mesh(tibia_l_transformed, color='red', opacity=0.5, show_edges=True)\n",
    "actor = plotter.add_mesh(fibula_l_transformed, color='red', opacity=0.5, show_edges=True)\n",
    "actor = plotter.add_mesh(pv.PolyData(tibia_l_transformed_bone),  color='blue', point_size=10.0)\n",
    "if len(tibia_l_exclude) >= 1:\n",
    "    actor = plotter.add_mesh(pv.PolyData(mri_dict['tibia_l'].loc[tibia_l_exclude].to_numpy()), color='green', point_size=10.0)\n",
    "plotter.show(jupyter_backend='trame')"
   ]
  },
  {
   "cell_type": "code",
   "execution_count": 89,
   "metadata": {},
   "outputs": [],
   "source": [
    "# #record results into the control folder\n",
    "tibia_l_transformed_bone_df = pd.DataFrame(tibia_l_transformed_bone, index=tibia_l_osim_bone.index, columns=tibia_l_osim_bone.columns)\n",
    "tibia_l_transformed_skin_df = pd.DataFrame(tibia_l_transformed_skin, index=osim_skin_markers_dict['tibia_l'].index, columns=osim_skin_markers_dict['tibia_l'].columns)\n",
    "tibia_l_transformed_muscle_df = pd.DataFrame(tibia_l_transformed_muscle, index=osim_muscls_dict['tibia_l'].index, columns=osim_muscls_dict['tibia_l'].columns)\n",
    "tibia_l_transformed_wraps_translation_df = pd.DataFrame(tibia_l_transformed_wraps[2], index=osim_wraps_dict['tibia_l']['name'], columns=['r', 'a', 's'])\n",
    "\n",
    "tibia_l_transformed_bone_df.to_csv(os.path.join(control_path, 'tibia_l_transformed_bone.csv'))\n",
    "tibia_l_transformed_skin_df.to_csv(os.path.join(control_path, 'tibia_l_transformed_skin.csv'))\n",
    "tibia_l_transformed_muscle_df.to_csv(os.path.join(control_path, 'tibia_l_transformed_muscle.csv'))\n",
    "tibia_l_transformed_wraps_translation_df.to_csv(os.path.join(control_path, 'tibia_l_transformed_wraps_translation.csv'))\n",
    "\n",
    "tibia_l_transformed.save(os.path.join(control_path, f'tibia_l_transformed.stl'))\n",
    "fibula_l_transformed.save(os.path.join(control_path, f'fibula_l_transformed.stl'))"
   ]
  },
  {
   "cell_type": "code",
   "execution_count": 90,
   "metadata": {},
   "outputs": [],
   "source": [
    "bone_markers = list(mri_dict['tibia_l'].index)\n",
    "\n",
    "tibia_l_axes = GetTibiaAxes(bone_markers = bone_markers, bone_numpy = tibia_l_transformed_bone)\n",
    "tibia_l_bone_in_child = tibia_l_axes.bone_transformed\n",
    "tibia_l_skin_in_child = tibia_l_axes.apply_to_not_bone(tibia_l_transformed_skin)\n",
    "tibia_l_muscles_in_child = tibia_l_axes.apply_to_not_bone(tibia_l_transformed_muscle)\n",
    "tibia_l_wrap_translations_in_child = tibia_l_axes.apply_to_not_bone(tibia_l_transformed_wraps[2])\n",
    "\n",
    "tibia_l_surface_in_child = pv.PolyData(\n",
    "    tibia_l_axes.apply_to_not_bone(tibia_l_transformed.points), \n",
    "    tibia_l_transformed.faces)\n",
    "\n",
    "fibula_l_surface_in_child = pv.PolyData(\n",
    "    tibia_l_axes.apply_to_not_bone(fibula_l_transformed.points), \n",
    "    fibula_l_transformed.faces)"
   ]
  },
  {
   "cell_type": "code",
   "execution_count": 91,
   "metadata": {},
   "outputs": [
    {
     "data": {
      "application/vnd.jupyter.widget-view+json": {
       "model_id": "b52c109beca1418ca27b02b71f304f2b",
       "version_major": 2,
       "version_minor": 0
      },
      "text/plain": [
       "Widget(value='<iframe src=\"http://localhost:60660/index.html?ui=P_0x2f201cfa750_21&reconnect=auto\" class=\"pyvi…"
      ]
     },
     "metadata": {},
     "output_type": "display_data"
    }
   ],
   "source": [
    "plotter = pv.Plotter(shape=(1, 2))\n",
    "actor = plotter.add_mesh(l_tibia.mesh, color='lightblue', opacity=0.5, show_edges=True)\n",
    "actor = plotter.add_mesh(l_fibula.mesh, color='lightblue', opacity=0.5, show_edges=True)\n",
    "actor = plotter.add_mesh(pv.PolyData(tibia_l_osim_bone.to_numpy()),  color='blue', point_size=10.0)\n",
    "actor = plotter.add_mesh(pv.PolyData(osim_muscls_dict['tibia_l'].to_numpy()),  color='black', point_size=5.0)\n",
    "actor = plotter.add_mesh(pv.PolyData(np.stack(osim_wraps_dict['tibia_l']['translation'].to_numpy())),  color='red', point_size=10.0)  \n",
    "plotter.subplot(0, 1)\n",
    "actor = plotter.add_mesh(tibia_l_surface_in_child, color='red', opacity=0.5, show_edges=True)\n",
    "actor = plotter.add_mesh(fibula_l_surface_in_child, color='red', opacity=0.5, show_edges=True)\n",
    "actor = plotter.add_mesh(pv.PolyData(tibia_l_bone_in_child),  color='blue', point_size=10.0)\n",
    "actor = plotter.add_mesh(pv.PolyData(tibia_l_muscles_in_child),  color='black', point_size=5.0)\n",
    "actor = plotter.add_mesh(pv.PolyData(tibia_l_wrap_translations_in_child),  color='red', point_size=10.0)\n",
    "\n",
    "plotter.show(jupyter_backend='trame')"
   ]
  }
 ],
 "metadata": {
  "kernelspec": {
   "display_name": "py311",
   "language": "python",
   "name": "python3"
  },
  "language_info": {
   "codemirror_mode": {
    "name": "ipython",
    "version": 3
   },
   "file_extension": ".py",
   "mimetype": "text/x-python",
   "name": "python",
   "nbconvert_exporter": "python",
   "pygments_lexer": "ipython3",
   "version": "3.11.11"
  }
 },
 "nbformat": 4,
 "nbformat_minor": 2
}
