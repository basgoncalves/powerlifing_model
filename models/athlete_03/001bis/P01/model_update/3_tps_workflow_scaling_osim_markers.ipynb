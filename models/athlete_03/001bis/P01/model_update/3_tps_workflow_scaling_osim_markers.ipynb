{
 "cells": [
  {
   "attachments": {},
   "cell_type": "markdown",
   "metadata": {},
   "source": [
    "### +++ static +++"
   ]
  },
  {
   "cell_type": "code",
   "execution_count": 2,
   "metadata": {},
   "outputs": [
    {
     "data": {
      "text/plain": [
       "'e:\\\\DataFolder\\\\Katya_UniVie\\\\athlete_03\\\\001bis\\\\P01\\\\model_update'"
      ]
     },
     "execution_count": 2,
     "metadata": {},
     "output_type": "execute_result"
    }
   ],
   "source": [
    "import opensim as osim\n",
    "import os\n",
    "from simFunctions import runProgram, scaleOptimalForceSubjectSpecific\n",
    "# from stan_utils import subject_specific_isometric_force\n",
    "import pandas as pd\n",
    "os.getcwd()"
   ]
  },
  {
   "cell_type": "code",
   "execution_count": 3,
   "metadata": {},
   "outputs": [
    {
     "data": {
      "text/plain": [
       "'P01bis'"
      ]
     },
     "execution_count": 3,
     "metadata": {},
     "output_type": "execute_result"
    }
   ],
   "source": [
    "# ensure correct individual name\n",
    "root = r\"E:\\DataFolder\\Katya_UniVie\\athlete_03\"\n",
    "cwd = os.getcwd()\n",
    "tmp = cwd.split('\\\\')[len(root.split('\\\\')):]\n",
    "ind = 'P' + tmp[0][1:]\n",
    "ind"
   ]
  },
  {
   "attachments": {},
   "cell_type": "markdown",
   "metadata": {},
   "source": [
    "# Udate Scaling XML\n",
    "\n",
    "This file uses scaling scheme that is already given in scaling_setting.xml.\n",
    "\n",
    "For walking, the model is scaled following distances between external markers and muscle forces are scaled by a factor calculated with mass and height of the subject relative the mass and the height of the generic model."
   ]
  },
  {
   "cell_type": "code",
   "execution_count": 11,
   "metadata": {},
   "outputs": [],
   "source": [
    "# IMPORTANT : THESE SHOULD BE PERSON-SPECIFIC\n",
    "mass_text = '100'\n",
    "\n",
    "height_text = '1.83'\n",
    "\n",
    "age_text = '30'\n",
    "\n",
    "# path to experimental .trc file : <marker_file>\n",
    "experimental_markers = r\"E:\\DataFolder\\AlexP\\simulations\\22_07_06\\static_01\\marker_experimental.trc\"\n",
    "static_df = pd.read_csv(experimental_markers, delimiter='\\t', skiprows=3, header=[0,1], index_col=0)\n"
   ]
  },
  {
   "cell_type": "code",
   "execution_count": 12,
   "metadata": {},
   "outputs": [],
   "source": [
    "# paths to and names of files\n",
    "\n",
    "# <model_file>\n",
    "path_to_generic_model = '../templates/Athlete_03_lowerBody_final_increased_3.00.osim'\n",
    "\n",
    "# <marker_set_file>\n",
    "path_to_generic_marker_set =  '../templates/Athlete_03_markerset.xml'# 'unassigned' '../templates/' generic_markers_with_joints.xml\n",
    "\n",
    "# <time_range>'\n",
    "time_range = f' 0 {list(static_df.loc[static_df.shape[0], \"Time\"])[0] }'\n",
    "\n",
    "# <output_scale_file>\n",
    "path_to_model = '3a_osim_markers'\n",
    "\n",
    "output_scale_file = os.path.join(path_to_model, 'output_scale_file.txt')\n",
    "\n",
    "output_model_file = os.path.join(path_to_model, f'scaled_model_{ind}.osim')  # f'scaled_model_{ind}_joints.osim'\n",
    "\n",
    "output_scaling_settings = os.path.join(path_to_model, f'scaling_setting_{ind}.xml')"
   ]
  },
  {
   "cell_type": "code",
   "execution_count": 13,
   "metadata": {},
   "outputs": [
    {
     "data": {
      "text/plain": [
       "'3a_osim_markers\\\\scaling_setting_P01bis.xml'"
      ]
     },
     "execution_count": 13,
     "metadata": {},
     "output_type": "execute_result"
    }
   ],
   "source": [
    "output_scaling_settings\n"
   ]
  },
  {
   "cell_type": "code",
   "execution_count": 14,
   "metadata": {},
   "outputs": [],
   "source": [
    "import xml.etree.ElementTree as ET\n",
    "\n",
    "# parse the .xml with markers in body frames\n",
    "scaling_tree=ET.parse(\"../templates/scaling_setting.xml\")\n",
    "scaling_root = scaling_tree.getroot()\n",
    "\n",
    "for generic_model in scaling_root.iter('model_file'):\n",
    "    generic_model.text = path_to_generic_model\n",
    "\n",
    "for generic_marker_set in scaling_root.iter('marker_set_file'):\n",
    "    generic_marker_set.text = path_to_generic_marker_set\n",
    "\n",
    "for exp_markers in scaling_root.iter('marker_file'):\n",
    "    exp_markers.text = experimental_markers\n",
    "\n",
    "for time in scaling_root.iter('time_range'):\n",
    "    time.text = time_range\n",
    "\n",
    "for output in scaling_root.iter('output_model_file'):\n",
    "    output.text = output_model_file\n",
    "\n",
    "for scale in scaling_root.iter('output_scale_file'):\n",
    "    scale.text = output_scale_file\n",
    "\n",
    "for generic_marker_set in scaling_root.iter('marker_set_file'):\n",
    "    generic_marker_set.text = path_to_generic_marker_set\n",
    "\n",
    "for exp_markers in scaling_root.iter('marker_file'):\n",
    "    exp_markers.text = experimental_markers\n",
    "\n",
    "for time in scaling_root.iter('time_range'):\n",
    "    time.text = time_range\n",
    "\n",
    "for output in scaling_root.iter('output_model_file'):\n",
    "    output.text = output_model_file\n",
    "\n",
    "for scale in scaling_root.iter('output_scale_file'):\n",
    "    scale.text = output_scale_file\n",
    "\n",
    "for marker_placer in scaling_root.iter('MarkerPlacer'):\n",
    "    apply = marker_placer.find('apply')\n",
    "    apply.text = 'true'"
   ]
  },
  {
   "cell_type": "code",
   "execution_count": 15,
   "metadata": {},
   "outputs": [],
   "source": [
    "for mass in scaling_root.iter('mass'):\n",
    "\tmass.text = mass_text\n",
    "\n",
    "for height in scaling_root.iter('height'):\n",
    "\theight.text = height_text\n",
    "\n",
    "for age in scaling_root.iter('age'):\n",
    "\tage.text = age_text"
   ]
  },
  {
   "cell_type": "code",
   "execution_count": 16,
   "metadata": {},
   "outputs": [],
   "source": [
    "scaling_tree.write(output_scaling_settings)"
   ]
  },
  {
   "attachments": {},
   "cell_type": "markdown",
   "metadata": {},
   "source": [
    "## 2.1 Scale model to markers"
   ]
  },
  {
   "cell_type": "code",
   "execution_count": 17,
   "metadata": {},
   "outputs": [
    {
     "name": "stderr",
     "output_type": "stream",
     "text": [
      "c:\\Users\\Bas\\miniconda3\\envs\\py311\\Lib\\subprocess.py:1016: RuntimeWarning: line buffering (buffering=1) isn't supported in binary mode, the default buffer size will be used\n",
      "  self.stdout = io.open(c2pread, 'rb', bufsize)\n"
     ]
    },
    {
     "name": "stdout",
     "output_type": "stream",
     "text": [
      "[info] Preparing to run ScaleTool.\n",
      "\n",
      "[info] Processing subject Rajagopal-generic-scaled...\n",
      "\n",
      "[info] Step 1: Loading generic model\n",
      "\n",
      "[info] Loaded model Athlete_03 from file e:\\DataFolder\\Katya_UniVie\\athlete_03\\001bis\\P01\\templates\\Athlete_03_lowerBody_final_increased_3.00.osim\n",
      "\n",
      "[info] Loading marker set from '../templates/Athlete_03_markerset.xml'.\n",
      "\n",
      "[info] Updated markers in model Athlete_03\n",
      "\n",
      "[info] Step 2: Scaling generic model\n",
      "\n",
      "[info] Loaded marker file E:\\DataFolder\\AlexP\\simulations\\22_07_06\\static_01\\marker_experimental.trc (73 markers, 693 frames)\n",
      "\n",
      "[info] Measurement 'pelvis width'\n",
      "\n",
      "[info] \tpair 0 (LASI, RASI): model = 0.249129, experimental = 0.227666\n",
      "\n",
      "[info] \tpair 1 (LPSI, RPSI): model = 0.0775916, experimental = 0.0891936\n",
      "\n",
      "[info] \toverall scale factor = 1.03169\n",
      "\n",
      "[info] Measurement 'pelvis height'\n",
      "\n",
      "[warning] Marker LMKNE in pelvis height measurement not found in E:\\DataFolder\\AlexP\\simulations\\22_07_06\\static_01\\marker_experimental.trc.\n",
      "\n",
      "[warning] 'pelvis height' measurement not used to scale Rajagopal-generic-scaled\n",
      "\n",
      "[info] Measurement 'torso height'\n",
      "\n",
      "[warning] Marker C7 in torso height measurement not found in Rajagopal-generic-scaled.\n",
      "\n",
      "[warning] Marker PE01 in torso height measurement not found in E:\\DataFolder\\AlexP\\simulations\\22_07_06\\static_01\\marker_experimental.trc.\n",
      "\n",
      "[warning] 'torso height' measurement not used to scale Rajagopal-generic-scaled\n",
      "\n",
      "[info] Measurement 'torso depth'\n",
      "\n",
      "[warning] Marker T10 in torso depth measurement not found in Rajagopal-generic-scaled.\n",
      "\n",
      "[warning] Marker T10 in torso depth measurement not found in E:\\DataFolder\\AlexP\\simulations\\22_07_06\\static_01\\marker_experimental.trc.\n",
      "\n",
      "[warning] 'torso depth' measurement not used to scale Rajagopal-generic-scaled\n",
      "\n",
      "[info] Measurement 'femur_r_length'\n",
      "\n",
      "[warning] Marker RMKNE in femur_r_length measurement not found in E:\\DataFolder\\AlexP\\simulations\\22_07_06\\static_01\\marker_experimental.trc.\n",
      "\n",
      "[warning] 'femur_r_length' measurement not used to scale Rajagopal-generic-scaled\n",
      "\n",
      "[info] Measurement 'femur_l_length'\n",
      "\n",
      "[warning] Marker LMKNE in femur_l_length measurement not found in E:\\DataFolder\\AlexP\\simulations\\22_07_06\\static_01\\marker_experimental.trc.\n",
      "\n",
      "[warning] 'femur_l_length' measurement not used to scale Rajagopal-generic-scaled\n",
      "\n",
      "[info] Measurement 'tibia_r_length'\n",
      "\n",
      "[warning] Marker RKNE in tibia_r_length measurement not found in E:\\DataFolder\\AlexP\\simulations\\22_07_06\\static_01\\marker_experimental.trc.\n",
      "\n",
      "[warning] Marker RANK in tibia_r_length measurement not found in E:\\DataFolder\\AlexP\\simulations\\22_07_06\\static_01\\marker_experimental.trc.\n",
      "\n",
      "[warning] 'tibia_r_length' measurement not used to scale Rajagopal-generic-scaled\n",
      "\n",
      "[info] Measurement 'tibia_l_length'\n",
      "\n",
      "[warning] Marker LKNE in tibia_l_length measurement not found in E:\\DataFolder\\AlexP\\simulations\\22_07_06\\static_01\\marker_experimental.trc.\n",
      "\n",
      "[warning] Marker LANK in tibia_l_length measurement not found in E:\\DataFolder\\AlexP\\simulations\\22_07_06\\static_01\\marker_experimental.trc.\n",
      "\n",
      "[warning] 'tibia_l_length' measurement not used to scale Rajagopal-generic-scaled\n",
      "\n",
      "[info] Measurement 'foot_horiz_l'\n",
      "\n",
      "[info] \tpair 0 (LHEE, LTOE): model = 0.210644, experimental = 0.212017\n",
      "\n",
      "[info] \toverall scale factor = 1.00652\n",
      "\n",
      "[info] Measurement 'foot_horiz_r'\n",
      "\n",
      "[info] \tpair 0 (RHEE, RTOE): model = 0.203249, experimental = 0.211009\n",
      "\n",
      "[info] \toverall scale factor = 1.03818\n",
      "\n",
      "[info] Measurement 'foot_vertic_l'\n",
      "\n",
      "[warning] Marker LANK in foot_vertic_l measurement not found in E:\\DataFolder\\AlexP\\simulations\\22_07_06\\static_01\\marker_experimental.trc.\n",
      "\n",
      "[warning] 'foot_vertic_l' measurement not used to scale Rajagopal-generic-scaled\n",
      "\n",
      "[info] Measurement 'foot_vertic_r'\n",
      "\n",
      "[warning] Marker RANK in foot_vertic_r measurement not found in E:\\DataFolder\\AlexP\\simulations\\22_07_06\\static_01\\marker_experimental.trc.\n",
      "\n",
      "[warning] 'foot_vertic_r' measurement not used to scale Rajagopal-generic-scaled\n",
      "\n",
      "[info] Wrote model file '3a_osim_markers\\scaled_model_P01bis.osim' from model.\n",
      "\n",
      "[info] Wrote scale file '3a_osim_markers\\output_scale_file.txt' for model Rajagopal-generic-scaled.\n",
      "\n",
      "[info] Step 3: Placing markers on model\n",
      "\n",
      "[info] Loaded marker file E:\\DataFolder\\AlexP\\simulations\\22_07_06\\static_01\\marker_experimental.trc (73 markers, 693 frames)\n",
      "\n",
      "[info] Averaged frames from time 0.0 to 3.46 in E:\\DataFolder\\AlexP\\simulations\\22_07_06\\static_01\\marker_experimental.trc (frames 1 to 693)\n",
      "\n",
      "[info] Deleted 134 unused markers from model Rajagopal-generic-scaled.\n",
      "\n",
      "[info] Frame at (t = 0.0):\t total squared error = 0.00131897, marker error: RMS = 0.00726352, max = 0.0200146 (RASI)\n",
      "\n",
      "[info] Moved markers in model Rajagopal-generic-scaled to match locations in marker file 'E:\\DataFolder\\AlexP\\simulations\\22_07_06\\static_01\\marker_experimental.trc'.\n",
      "\n",
      "[info] Wrote model file '3a_osim_markers\\scaled_model_P01bis.osim' from model Rajagopal-generic-scaled.\n",
      "\n",
      "\n",
      "Return code:  None \n",
      "\n"
     ]
    }
   ],
   "source": [
    "cmdprog = 'opensim-cmd'\n",
    "cmdtool = 'run-tool'\n",
    "cmdfile = output_scaling_settings\n",
    "cmdfull = [cmdprog, cmdtool, cmdfile]\n",
    "rc = runProgram(cmdfull)"
   ]
  },
  {
   "cell_type": "markdown",
   "metadata": {},
   "source": [
    "## Scale model muscle forces to height and weight"
   ]
  },
  {
   "cell_type": "code",
   "execution_count": 18,
   "metadata": {},
   "outputs": [],
   "source": [
    "generic_model = osim.Model(path_to_generic_model)\n",
    "model=osim.Model(output_model_file)\n",
    "scaled = scaleOptimalForceSubjectSpecific(generic_model, model, 1.77, float(height_text))\n"
   ]
  },
  {
   "cell_type": "markdown",
   "metadata": {},
   "source": [
    "# Set \"ignore_tendon_compliance\" and \"ignore_activation_dynamics\" to \"true\""
   ]
  },
  {
   "cell_type": "code",
   "execution_count": 19,
   "metadata": {},
   "outputs": [],
   "source": [
    "muscle_set = scaled.getMuscles()\n",
    "for i in range(muscle_set.getSize()):\n",
    "    current = muscle_set.get(i)\n",
    "    current.set_ignore_activation_dynamics(True)\n",
    "    current.set_ignore_tendon_compliance(True)"
   ]
  },
  {
   "cell_type": "markdown",
   "metadata": {},
   "source": [
    "## Increase Pelvis Tilt"
   ]
  },
  {
   "cell_type": "code",
   "execution_count": 11,
   "metadata": {},
   "outputs": [],
   "source": [
    "# pelvis_coordinates = model.getCoordinateSet().get('pelvis_tilt')\n",
    "# pelvis_coordinates.setRangeMax(4)\n",
    "# pelvis_coordinates.setRangeMin(-4)"
   ]
  },
  {
   "cell_type": "markdown",
   "metadata": {},
   "source": [
    "## Save the model"
   ]
  },
  {
   "cell_type": "code",
   "execution_count": 20,
   "metadata": {},
   "outputs": [
    {
     "data": {
      "text/plain": [
       "True"
      ]
     },
     "execution_count": 20,
     "metadata": {},
     "output_type": "execute_result"
    }
   ],
   "source": [
    "scaled.printToXML(output_model_file)"
   ]
  },
  {
   "cell_type": "markdown",
   "metadata": {},
   "source": [
    "## Scale muscle fibres"
   ]
  },
  {
   "cell_type": "code",
   "execution_count": 13,
   "metadata": {},
   "outputs": [],
   "source": [
    "# from fibre_scale_script import *\n",
    "# # define models\n",
    "# generic_model = '../templates/RajagopalModified_generic_copy.osim'\n",
    "# model_to_update = output_model_file\n",
    "# updated_model = output_model_file\n",
    "\n",
    "# # run scripts\n",
    "# osimModel_opt, SimInfo = optimMuscleParams(generic_model, model_to_update, 2, '3a_osim_markers/logging')\n",
    "\n",
    "# # printing the optimized model\n",
    "# osimModel_opt.printToXML(updated_model)"
   ]
  },
  {
   "cell_type": "markdown",
   "metadata": {},
   "source": [
    "# Add joint center markers and save another model"
   ]
  },
  {
   "cell_type": "code",
   "execution_count": 21,
   "metadata": {},
   "outputs": [],
   "source": [
    "model = osim.Model(output_model_file)\n",
    "for body in model.getBodySet():\n",
    "    if body.getName() == 'torso':\n",
    "        torso_body = body\n",
    "\n",
    "    if body.getName() == 'pelvis':\n",
    "        pelvis_body = body\n",
    "    if body.getName() == 'femur_r':\n",
    "        femur_r_body = body\n",
    "    if body.getName() == 'femur_l':\n",
    "        femur_l_body = body\n",
    "\n",
    "    if body.getName() == 'patella_r':\n",
    "        patella_r_body = body\n",
    "    if body.getName() == 'patella_l':\n",
    "        patella_l_body = body\n",
    "\n",
    "    if body.getName() == 'tibia_r':\n",
    "        tibia_r_body = body\n",
    "    if body.getName() == 'tibia_l':\n",
    "        tibia_l_body = body\n",
    "\n",
    "    if body.getName() == 'talus_r':\n",
    "        talus_r_body = body\n",
    "    if body.getName() == 'talus_l':\n",
    "        talus_l_body = body"
   ]
  },
  {
   "cell_type": "code",
   "execution_count": 24,
   "metadata": {},
   "outputs": [],
   "source": [
    "# torso_m = osim.Marker(\"torso_origin_in_pelvis\", torso_body, osim.Vec3(0,0,0))\n",
    "femur_l_m = osim.Marker(\"femur_l_center_in_pelvis\", femur_l_body, osim.Vec3(0,0,0))\n",
    "femur_r_m = osim.Marker(\"femur_r_center_in_pelvis\", femur_r_body, osim.Vec3(0,0,0))\n",
    "patella_l_m = osim.Marker(\"patella_l_in_femur_l\", patella_l_body, osim.Vec3(0,0,0))\n",
    "patella_r_m = osim.Marker(\"patella_r_in_femur_r\", patella_r_body, osim.Vec3(0,0,0))\n",
    "tibia_l_m = osim.Marker(\"knee_l_center_in_femur_l\", tibia_l_body, osim.Vec3(0,0,0))\n",
    "tibia_r_m = osim.Marker(\"knee_r_center_in_femur_r\", tibia_r_body, osim.Vec3(0,0,0))\n",
    "talus_l_m = osim.Marker(\"talus_l_center_in_tibia\", talus_l_body, osim.Vec3(0,0,0))\n",
    "talus_r_m = osim.Marker(\"talus_r_center_in_tibia\", talus_r_body, osim.Vec3(0,0,0))\n",
    "\n",
    "# model.addMarker(torso_m)\n",
    "model.addMarker(femur_l_m)\n",
    "model.addMarker(femur_r_m)\n",
    "model.addMarker(patella_l_m)\n",
    "model.addMarker(patella_r_m)\n",
    "model.addMarker(tibia_l_m)\n",
    "model.addMarker(tibia_r_m)\n",
    "model.addMarker(talus_l_m)\n",
    "model.addMarker(talus_r_m)\n",
    "\n",
    "model.finalizeConnections()"
   ]
  },
  {
   "cell_type": "code",
   "execution_count": 25,
   "metadata": {},
   "outputs": [],
   "source": [
    "state = model.initSystem()\n",
    "\n",
    "# torso_m.changeFramePreserveLocation(state, pelvis_body)\n",
    "femur_l_m.changeFramePreserveLocation(state, pelvis_body)\n",
    "femur_r_m.changeFramePreserveLocation(state, pelvis_body)\n",
    "patella_l_m.changeFramePreserveLocation(state, femur_l_body)\n",
    "patella_r_m.changeFramePreserveLocation(state, femur_r_body)\n",
    "tibia_l_m.changeFramePreserveLocation(state, femur_l_body)\n",
    "tibia_r_m.changeFramePreserveLocation(state, femur_r_body)\n",
    "talus_l_m.changeFramePreserveLocation(state, tibia_l_body)\n",
    "talus_r_m.changeFramePreserveLocation(state, tibia_r_body)"
   ]
  },
  {
   "cell_type": "code",
   "execution_count": 26,
   "metadata": {},
   "outputs": [
    {
     "data": {
      "text/plain": [
       "True"
      ]
     },
     "execution_count": 26,
     "metadata": {},
     "output_type": "execute_result"
    }
   ],
   "source": [
    "model.finalizeConnections()\n",
    "model.printToXML(os.path.join(path_to_model, f'scaled_model_{ind}_joints.osim'))"
   ]
  },
  {
   "cell_type": "markdown",
   "metadata": {},
   "source": [
    "## Output model markers"
   ]
  },
  {
   "cell_type": "code",
   "execution_count": 28,
   "metadata": {},
   "outputs": [],
   "source": [
    "model=osim.Model(os.path.join(path_to_model, f'scaled_model_{ind}_joints.osim'))\n",
    "set = model.get_MarkerSet()\n",
    "lms = ['RASI', 'LASI', 'RPSI', 'LPSI', 'torso_origin_in_pelvis', 'femur_l_center_in_pelvis', 'femur_r_center_in_pelvis',\n",
    "       'knee_l_center_in_femur_l', 'knee_r_center_in_femur_r', \n",
    "       'talus_l_center_in_tibia', 'talus_r_center_in_tibia']\n",
    "\n",
    "list_of_rows = []\n",
    "index = 0\n",
    "for marker in set:\n",
    "    name = marker.getName()\n",
    "    if name in lms:\n",
    "        body = (marker.getParentFrameName()).split('/')[-1]\n",
    "        location = marker.get_location().to_numpy()\n",
    "        x,y,z = location\n",
    "        new_row = pd.DataFrame([[name, body, x, y, z]], columns =['name', 'body', 'x', 'y', 'z'] )\n",
    "        list_of_rows.append(new_row)\n",
    "        \n",
    "df = pd.concat(list_of_rows)\n",
    "df = df.set_index('name')\n",
    "df.to_csv(f'{root}/{ind}_generic_landmarks.csv')"
   ]
  }
 ],
 "metadata": {
  "kernelspec": {
   "display_name": "py311",
   "language": "python",
   "name": "python3"
  },
  "language_info": {
   "codemirror_mode": {
    "name": "ipython",
    "version": 3
   },
   "file_extension": ".py",
   "mimetype": "text/x-python",
   "name": "python",
   "nbconvert_exporter": "python",
   "pygments_lexer": "ipython3",
   "version": "3.11.11"
  },
  "orig_nbformat": 4
 },
 "nbformat": 4,
 "nbformat_minor": 2
}
