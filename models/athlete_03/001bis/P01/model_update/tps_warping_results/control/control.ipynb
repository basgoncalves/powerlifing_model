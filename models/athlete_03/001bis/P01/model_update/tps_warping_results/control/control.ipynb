{
 "cells": [
  {
   "cell_type": "code",
   "execution_count": 4,
   "metadata": {},
   "outputs": [],
   "source": [
    "import JupyterNotebooksLib as slicernb\n",
    "import slicer\n",
    "import numpy as np\n",
    "import pandas as pd\n",
    "import os\n",
    "from tps import ThinPlateSpline"
   ]
  },
  {
   "cell_type": "markdown",
   "metadata": {},
   "source": [
    "<div class=\"alert alert-block alert-info\">\n",
    "<b>In Slicer GUI</b> from the MRI-results folder, Load the main volume of the individual and load orientation.mrk.json; from control folder load LinearTransform.h5. Save the project in the control folder.\n",
    "</div>"
   ]
  },
  {
   "cell_type": "markdown",
   "metadata": {},
   "source": [
    "## Load data from Control folder"
   ]
  },
  {
   "cell_type": "code",
   "execution_count": 5,
   "metadata": {},
   "outputs": [],
   "source": [
    "files = [file for file in os.listdir() if '.csv' in file]\n",
    "bone_dfs = []\n",
    "for file in files:\n",
    "    if 'bone' in file:\n",
    "\n",
    "        df = pd.read_csv(file, index_col='name')\n",
    "        for body in ['pelvis', 'femur_l', 'femur_r', 'patella_l', 'patella_r', 'tibia_l', 'tibia_r']:\n",
    "            if body in file:\n",
    "                df['body'] = body\n",
    "                bone_dfs.append(df)\n",
    "bone_df = pd.concat(bone_dfs)\n",
    "bone_df['group'] = 'bone'\n",
    "\n",
    "muscle_dfs = []\n",
    "for file in files:\n",
    "    if 'muscle' in file:\n",
    "        df = pd.read_csv(file, index_col='name')\n",
    "        for body in ['pelvis', 'femur_l', 'femur_r', 'patella_l', 'patella_r', 'tibia_l', 'tibia_r']:\n",
    "            if body in file:\n",
    "                df['body'] = body\n",
    "                muscle_dfs.append(df)\n",
    "muscle_df= pd.concat(muscle_dfs)\n",
    "muscle_df['group'] = 'muscle'\n",
    "\n",
    "wraps_translation_dfs = []\n",
    "for file in files:\n",
    "    if 'wraps' in file:\n",
    "        df = pd.read_csv(file, index_col='name')\n",
    "        for body in ['pelvis', 'femur_l', 'femur_r', 'patella_l', 'patella_r', 'tibia_l', 'tibia_r']:\n",
    "            if body in file:\n",
    "                df['body'] = body\n",
    "                wraps_translation_dfs.append(df)\n",
    "wraps_translation_df = pd.concat(wraps_translation_dfs)\n",
    "wraps_translation_df['group'] = 'wrap_transl'"
   ]
  },
  {
   "cell_type": "code",
   "execution_count": 6,
   "metadata": {},
   "outputs": [
    {
     "data": {
      "text/plain": [
       "(353, 5)"
      ]
     },
     "execution_count": 3,
     "metadata": {},
     "output_type": "execute_result"
    }
   ],
   "source": [
    "all_df = pd.concat([bone_df, muscle_df, wraps_translation_df])\n",
    "all_df.shape"
   ]
  },
  {
   "cell_type": "code",
   "execution_count": 7,
   "metadata": {},
   "outputs": [],
   "source": [
    "inds = {'bone':{'all':[]}, 'muscle':{'all':[]}, 'wrap':{'all':[]}}\n",
    "for i in range(all_df.shape[0]):\n",
    "    if all_df.iloc[i]['group'] == 'bone':\n",
    "        inds['bone']['all'].append(i)\n",
    "        body = all_df.iloc[i]['body']\n",
    "        if body in inds['bone'].keys():\n",
    "            inds['bone'][body].append(i)\n",
    "        else: inds['bone'][body] = [i]\n",
    "    if all_df.iloc[i]['group'] == 'muscle':\n",
    "        inds['muscle']['all'].append(i)\n",
    "        body = all_df.iloc[i]['body']\n",
    "        if body in inds['muscle'].keys():\n",
    "            inds['muscle'][body].append(i)\n",
    "        else: inds['muscle'][body] = [i]\n",
    "    if all_df.iloc[i]['group'] == 'wrap_transl':\n",
    "        inds['wrap']['all'].append(i)\n",
    "        body = all_df.iloc[i]['body']\n",
    "        if body in inds['wrap'].keys():\n",
    "            inds['wrap'][body].append(i)\n",
    "        else: inds['wrap'][body] = [i]\n"
   ]
  },
  {
   "cell_type": "code",
   "execution_count": 9,
   "metadata": {},
   "outputs": [],
   "source": [
    "# # load current bone cloud, make pink\n",
    "# bone_cloud = slicer.mrmlScene.AddNewNodeByClass(\"vtkMRMLMarkupsFiducialNode\")\n",
    "# slicer.util.updateMarkupsControlPointsFromArray(bone_cloud, bone_df[['r','a','s']].to_numpy())\n",
    "# for i, name in enumerate(bone_df.index):\n",
    "#     bone_cloud.SetNthFiducialLabel(i, name)"
   ]
  },
  {
   "cell_type": "code",
   "execution_count": 8,
   "metadata": {},
   "outputs": [],
   "source": [
    "# load current muscle cloud, call muscles_orig, make blue\n",
    "muscle_cloud = slicer.mrmlScene.AddNewNodeByClass(\"vtkMRMLMarkupsFiducialNode\")\n",
    "slicer.util.updateMarkupsControlPointsFromArray(muscle_cloud, muscle_df[['r','a','s']].to_numpy())\n",
    "for i, name in enumerate(muscle_df.index):\n",
    "    muscle_cloud.SetNthFiducialLabel(i, name)\n",
    "\n"
   ]
  },
  {
   "cell_type": "markdown",
   "metadata": {},
   "source": [
    "<div class=\"alert alert-block alert-info\">\n",
    "<b>In Slicer GUI</b>\n",
    "Clone muscles_orig, name the new object 'muscles_changed', colour purple\n",
    "</div>"
   ]
  },
  {
   "cell_type": "markdown",
   "metadata": {},
   "source": [
    "## Change muscles_orig in Slicer"
   ]
  },
  {
   "cell_type": "markdown",
   "metadata": {},
   "source": [
    "<div class=\"alert alert-block alert-info\">\n",
    "<b>In Slicer GUI</b>\n",
    "\n",
    "<p>adjust positions of muscles that are way off. Usually these are :</p> \n",
    "<li>sartor_1 and sartor_2</li>\n",
    "<li>addmagisch_1</li>\n",
    "<li>vas_med_r-P5 and vas_med_l-P5</li>\n",
    "<li>bfsh_r-P2 and bfsh_l-P2</li>\n",
    "<li>soleus_r-P1 and soleus_l-P1</li>\n",
    "<li>tibanter_r-P3 and tibanter_l-P3</li>\n",
    "\n",
    "</div>"
   ]
  },
  {
   "cell_type": "code",
   "execution_count": 18,
   "metadata": {},
   "outputs": [],
   "source": [
    "bone_vals = np.array([pd.to_numeric(row) for row in bone_df[['r','a','s']].to_numpy()])\n",
    "mscl_vals = np.array([pd.to_numeric(row) for row in muscle_df[['r','a','s']].to_numpy()])\n",
    "wrp_vals = np.array([pd.to_numeric(row) for row in wraps_translation_df[['r','a','s']].to_numpy()])"
   ]
  },
  {
   "cell_type": "code",
   "execution_count": 19,
   "metadata": {},
   "outputs": [
    {
     "data": {
      "text/plain": [
       "(224, 3)"
      ]
     },
     "execution_count": 16,
     "metadata": {},
     "output_type": "execute_result"
    }
   ],
   "source": [
    "muscles_changed = slicer.util.getNode('muscles_changed')\n",
    "muscles_changed_list = slicer.util.arrayFromMarkupsControlPoints(muscles_changed)\n",
    "muscles_changed_list.shape"
   ]
  },
  {
   "cell_type": "markdown",
   "metadata": {},
   "source": [
    "## Calculate changes and warp remaining muscles and wrapping surfaces"
   ]
  },
  {
   "cell_type": "code",
   "execution_count": 20,
   "metadata": {},
   "outputs": [],
   "source": [
    "changes = []\n",
    "for i, name in enumerate(muscle_df.index):\n",
    "    a1 = np.around(muscles_changed_list[i], decimals=2)\n",
    "    a2 = np.around(pd.to_numeric(muscle_df.loc[name, ['r','a','s']], downcast='float').to_numpy(), decimals=2)\n",
    "    if np.count_nonzero(np.around(a1 - a2, decimals = 2))!=0.:\n",
    "       changes.append(i)\n",
    "       \n",
    "res_list = [inds['muscle']['all'][i] for i in changes]\n",
    "inds_for_tps = inds['bone']['all'] + res_list\n",
    "\n",
    "changed = np.concatenate([bone_vals, muscles_changed_list[changes]])\n",
    "orig = np.concatenate([bone_vals,mscl_vals[changes]])"
   ]
  },
  {
   "cell_type": "code",
   "execution_count": 21,
   "metadata": {},
   "outputs": [
    {
     "data": {
      "text/plain": [
       "62"
      ]
     },
     "execution_count": 18,
     "metadata": {},
     "output_type": "execute_result"
    }
   ],
   "source": [
    "len(changes)"
   ]
  },
  {
   "cell_type": "code",
   "execution_count": 22,
   "metadata": {},
   "outputs": [],
   "source": [
    "tps_spline = ThinPlateSpline(alpha = 0.02)\n",
    "tps_spline.fit(orig, changed)\n",
    "# tps_spline.transform(self.osim_bone[['r','a','s']].to_numpy())\n",
    "new_muscles = tps_spline.transform(mscl_vals)\n",
    "new_wraps = tps_spline.transform(wrp_vals)"
   ]
  },
  {
   "cell_type": "markdown",
   "metadata": {},
   "source": [
    "## Output results to Slicer"
   ]
  },
  {
   "cell_type": "code",
   "execution_count": 23,
   "metadata": {},
   "outputs": [],
   "source": [
    "new_muscle_cloud = slicer.mrmlScene.AddNewNodeByClass(\"vtkMRMLMarkupsFiducialNode\")\n",
    "slicer.util.updateMarkupsControlPointsFromArray(new_muscle_cloud, new_muscles)\n",
    "for i, name in enumerate(muscle_df.index):\n",
    "    new_muscle_cloud.SetNthFiducialLabel(i, name)"
   ]
  },
  {
   "cell_type": "markdown",
   "metadata": {},
   "source": [
    "## Record results to the control folder"
   ]
  },
  {
   "cell_type": "code",
   "execution_count": 24,
   "metadata": {},
   "outputs": [],
   "source": [
    "new_muscles_df = muscle_df.copy()\n",
    "new_muscles_df[['r','a','s']] = new_muscles\n",
    "new_muscles_df.to_csv('new_muscles.csv')"
   ]
  },
  {
   "cell_type": "code",
   "execution_count": 25,
   "metadata": {},
   "outputs": [],
   "source": [
    "new_wraps_df = wraps_translation_df.copy()\n",
    "new_wraps_df[['r','a','s']] = new_wraps\n",
    "new_wraps_df.to_csv('new_wraps.csv')\n"
   ]
  },
  {
   "cell_type": "code",
   "execution_count": 26,
   "metadata": {},
   "outputs": [],
   "source": [
    "new_muscles_df = pd.read_csv('new_muscles.csv', index_col= 'name')\n",
    "new_wraps_df = pd.read_csv('new_wraps.csv', index_col= 'name')"
   ]
  }
 ],
 "metadata": {
  "kernelspec": {
   "display_name": "Slicer 5.6",
   "language": "python",
   "name": "slicer-5.6"
  },
  "language_info": {
   "file_extension": ".py",
   "mimetype": "text/x-python",
   "name": "python",
   "version": "3.9.10"
  }
 },
 "nbformat": 4,
 "nbformat_minor": 2
}
