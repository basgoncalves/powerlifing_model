{
 "cells": [
  {
   "cell_type": "markdown",
   "metadata": {},
   "source": [
    "# packages and code"
   ]
  },
  {
   "cell_type": "code",
   "execution_count": 1,
   "metadata": {},
   "outputs": [],
   "source": [
    "from tps import ThinPlateSpline\n",
    "from tps_scripts import *"
   ]
  },
  {
   "cell_type": "markdown",
   "metadata": {},
   "source": [
    "# paths"
   ]
  },
  {
   "cell_type": "code",
   "execution_count": 2,
   "metadata": {},
   "outputs": [
    {
     "data": {
      "text/plain": [
       "'P01bis'"
      ]
     },
     "execution_count": 2,
     "metadata": {},
     "output_type": "execute_result"
    }
   ],
   "source": [
    "# ensure correct individual name\n",
    "root = r\"E:\\DataFolder\\Katya_UniVie\\athlete_03\"\n",
    "cwd = os.getcwd()\n",
    "tmp = cwd.split('\\\\')[len(root.split('\\\\')):]\n",
    "ind = 'P' + tmp[0][1:]\n",
    "ind"
   ]
  },
  {
   "cell_type": "code",
   "execution_count": 3,
   "metadata": {},
   "outputs": [],
   "source": [
    "# paths\n",
    "\n",
    "mri_dir = os.path.abspath('../../MRI/results')\n",
    "path_to_json = os.path.join(mri_dir, 'orientation.mrk.json')\n",
    "\n",
    "root_dir = os.path.abspath('../')\n",
    "xml_path = r\"E:\\DataFolder\\AlexP\\models\\Athlete_03_markerset.xml\"\n",
    "osim_path = r\"E:\\DataFolder\\AlexP\\models\\Athlete_03_lowerBody_final_increased_3.00.osim\"\n",
    "\n",
    "working_dir = os.getcwd()\n",
    "output_path = os.path.join(working_dir, 'tps_warping_results')\n",
    "\n",
    "vtp_path = os.path.join(working_dir, 'Geometry')"
   ]
  },
  {
   "cell_type": "code",
   "execution_count": null,
   "metadata": {},
   "outputs": [],
   "source": [
    "# test output path\n",
    "if working_dir.split('\\\\')[-1] != 'model_update':\n",
    "    output_root = 'model_update'\n",
    "else: output_root = '.'\n",
    "\n",
    "# set output path -- this file will save results after the MRI adjustments of muscles\n",
    "output_path = os.path.join(output_root, 'tps_warping_lesults','after_MRI')\n",
    "if not os.path.exists(output_path):\n",
    "    print(output_path)\n",
    "    os.makedirs(output_path)\n",
    "\n",
    "# set path for controls\n",
    "control_path = os.path.join(output_loot, 'tps_warping_results', 'control')\n",
    "if not os.path.exists(control_path):\n",
    "    print(control_path)\n",
    "    os.makedirs(control_path)"
   ]
  },
  {
   "cell_type": "code",
   "execution_count": 5,
   "metadata": {},
   "outputs": [
    {
     "name": "stdout",
     "output_type": "stream",
     "text": [
      ".\\tps_warping_results\\control\n"
     ]
    }
   ],
   "source": [
    "print(control_path)"
   ]
  },
  {
   "cell_type": "markdown",
   "metadata": {},
   "source": [
    "# load osim"
   ]
  },
  {
   "cell_type": "code",
   "execution_count": 6,
   "metadata": {},
   "outputs": [],
   "source": [
    "# OSIM\n",
    "osim_bone_markers = OsimBoneMarkers(xml_path)\n",
    "osim_bone_markers_df = osim_bone_markers.data_frame()"
   ]
  },
  {
   "cell_type": "code",
   "execution_count": 7,
   "metadata": {},
   "outputs": [],
   "source": [
    "osim_muscles_and_wrapping = OsimMusclePathsAndWrapping(osim_path)\n",
    "\n",
    "osim_muslce_paths_df = osim_muscles_and_wrapping.df_muscles\n",
    "\n",
    "wrapping_surfaces_df = osim_muscles_and_wrapping.wrp_df"
   ]
  },
  {
   "cell_type": "markdown",
   "metadata": {},
   "source": [
    "# load mri and match to osim"
   ]
  },
  {
   "cell_type": "code",
   "execution_count": 8,
   "metadata": {},
   "outputs": [],
   "source": [
    "# MRI\n",
    "mri_bone_markers = MRIBoneMarkers(path_to_json)\n",
    "mri_bone_markers_df = mri_bone_markers.json_to_df()"
   ]
  },
  {
   "cell_type": "code",
   "execution_count": 10,
   "metadata": {},
   "outputs": [],
   "source": [
    "path_to_all_data = root\n",
    "mri_bone_markers_df.to_csv(os.path.join(path_to_all_data, f'{ind}_MRI_data_raw.csv'))"
   ]
  },
  {
   "cell_type": "markdown",
   "metadata": {},
   "source": [
    "# collections by bodies"
   ]
  },
  {
   "cell_type": "code",
   "execution_count": 11,
   "metadata": {},
   "outputs": [],
   "source": [
    "osim_mri_bone_by_bodies = OsimMriBoneByBodies(osim_bone_markers_df, mri_bone_markers_df)\n",
    "osim_skin_markers_dict = osim_mri_bone_by_bodies.split_osim_skin_by_bodies()\n",
    "\n",
    "osim_dict = osim_mri_bone_by_bodies.split_osim_by_bodies()\n",
    "mri_dict = osim_mri_bone_by_bodies.split_mri_by_osim_bodies()\n",
    "\n",
    "osim_muscls_by_bodies = OsimMusclesByBodies(osim_muslce_paths_df)\n",
    "osim_muscls_dict = osim_muscls_by_bodies.extract_all()\n",
    "\n",
    "osim_wraps_by_bodies = OsimWrapsByBodies(wrapping_surfaces_df)\n",
    "osim_wraps_dict = osim_wraps_by_bodies.wraps_to_points_by_bodies()"
   ]
  },
  {
   "cell_type": "markdown",
   "metadata": {},
   "source": [
    "# pelvis tps"
   ]
  },
  {
   "cell_type": "code",
   "execution_count": 12,
   "metadata": {},
   "outputs": [
    {
     "data": {
      "application/vnd.jupyter.widget-view+json": {
       "model_id": "ce6b58ba172a46ec9785aead9d1e1896",
       "version_major": 2,
       "version_minor": 0
      },
      "text/plain": [
       "Widget(value='<iframe src=\"http://localhost:62081/index.html?ui=P_0x28529da4350_0&reconnect=auto\" class=\"pyvis…"
      ]
     },
     "metadata": {},
     "output_type": "display_data"
    }
   ],
   "source": [
    "# exclude markers to control for the quality of the spline\n",
    "exclude = ['sacroiliac_r', 'sacroiliac_l']#,'5th_sacr_v'\n",
    "\n",
    "# create the spline\n",
    "pelvis_tps = OneBodyTPS('pelvis', osim_dict['pelvis'], mri_dict['pelvis'], \n",
    "                        osim_skin = osim_skin_markers_dict['pelvis'],\n",
    "                        osim_muscle = osim_muscls_dict['pelvis'], \n",
    "                        exclude_bone_markers = exclude)\n",
    "\n",
    "# transform all objects: bone markers are transformed and should fit the chosen subset save for the exclusions\n",
    "osim_bone = osim_dict['pelvis']\n",
    "pelvis_transformed_bone = pelvis_tps.transformed_bone\n",
    "pelvis_transformed_muscle = pelvis_tps.transformed_muscle\n",
    "pelvis_transformed_wraps = pelvis_tps.apply_tps_to_wraps(osim_wraps_dict['pelvis'])\n",
    "pelvis_transformed_skin = pelvis_tps.transformed_skin\n",
    "\n",
    "l_pelvis = ImportVTP(vtp_path, 'l_pelvis.vtp')\n",
    "r_pelvis = ImportVTP(vtp_path, 'r_pelvis.vtp')\n",
    "sacrum = ImportVTP(vtp_path, 'sacrum.vtp')\n",
    "\n",
    "l_pelvis_transformed = pv.PolyData(pelvis_tps.apply_spline_to_surface(l_pelvis.mesh))\n",
    "r_pelvis_transformed = pv.PolyData(pelvis_tps.apply_spline_to_surface(r_pelvis.mesh))\n",
    "sacrum_transformed = pv.PolyData(pelvis_tps.apply_spline_to_surface(sacrum.mesh))\n",
    "\n",
    "# plot resutls\n",
    "plotter = pv.Plotter(shape=(1, 2))\n",
    "actor = plotter.add_mesh(l_pelvis.mesh, color='lightblue', opacity=0.5, show_edges=True)\n",
    "actor = plotter.add_mesh(pv.PolyData(r_pelvis.mesh), color='lightblue', opacity=0.5, show_edges=True)\n",
    "actor = plotter.add_mesh(pv.PolyData(sacrum.mesh), color='lightblue', opacity=0.5, show_edges=True)\n",
    "actor = plotter.add_mesh(pv.PolyData(osim_bone.to_numpy()),  color='blue', point_size=10.0) \n",
    "plotter.subplot(0, 1)\n",
    "actor = plotter.add_mesh(l_pelvis_transformed, color='red', opacity=0.5, show_edges=True)\n",
    "actor = plotter.add_mesh(r_pelvis_transformed, color='red', opacity=0.5, show_edges=True)\n",
    "actor = plotter.add_mesh(sacrum_transformed, color='red', opacity=0.5, show_edges=True)\n",
    "actor = plotter.add_mesh(pv.PolyData(pelvis_transformed_bone),  color='blue', point_size=10.0)\n",
    "if len(exclude) >= 1:\n",
    "    actor = plotter.add_mesh(pv.PolyData(mri_dict['pelvis'].loc[exclude].to_numpy()), color='green', point_size=10.0)\n",
    "plotter.show(jupyter_backend='trame')"
   ]
  },
  {
   "cell_type": "code",
   "execution_count": 13,
   "metadata": {},
   "outputs": [],
   "source": [
    "# import adjusted muscles and warping surfaces after control in Slicer\n",
    "if os.path.isfile(os.path.join(control_path, 'new_muscles.csv')) and os.path.isfile(os.path.join(control_path, 'new_wraps.csv')):\n",
    "    print('yes')\n",
    "    muscles = pd.read_csv(os.path.join(control_path, 'new_muscles.csv'),index_col='name')\n",
    "    wraps = pd.read_csv(os.path.join(control_path, 'new_wraps.csv'),index_col='name')\n",
    "\n",
    "    pelv_m = muscles[muscles['body'] == 'pelvis']\n",
    "    pelv_w = wraps[wraps['body'] == 'pelvis']\n",
    "\n",
    "    pelvis_transformed_muscle = np.asarray(pelv_m[['r','a','s']].to_numpy(), dtype = np.float64, order ='C')\n",
    "    pelvis_transformed_wraps[2] = np.asarray(pelv_w[['r','a','s']].to_numpy(), dtype = np.float64, order ='C')\n",
    "\n",
    "    "
   ]
  },
  {
   "cell_type": "code",
   "execution_count": 14,
   "metadata": {},
   "outputs": [
    {
     "name": "stdout",
     "output_type": "stream",
     "text": [
      "the determinant is less than zero, recalculate r\n"
     ]
    }
   ],
   "source": [
    "# rotate results to child frame\n",
    "bone_markers = list(mri_dict['pelvis'].index)\n",
    "pelvis_axes = GetPelvisAxes(pelvis_transformed_bone, bone_markers)\n",
    "\n",
    "pelvis_bone_in_child = pelvis_axes.bone_transformed\n",
    "pelvis_skin_in_child = pelvis_axes.apply_to_non_bone(pelvis_transformed_skin)\n",
    "pelvis_muscles_in_child = pelvis_axes.apply_to_non_bone(pelvis_transformed_muscle)\n",
    "pelvis_wrap_translations_in_child = pelvis_axes.apply_to_non_bone(pelvis_transformed_wraps[2])\n",
    "\n",
    "l_pelvis_surface_in_child = pv.PolyData(pelvis_axes.apply_to_non_bone(l_pelvis_transformed.points), l_pelvis_transformed.faces)\n",
    "r_pelvis_surface_in_child = pv.PolyData(pelvis_axes.apply_to_non_bone(r_pelvis_transformed.points), r_pelvis_transformed.faces)\n",
    "sacrum_surface_in_child = pv.PolyData(pelvis_axes.apply_to_non_bone(sacrum_transformed.points), sacrum_transformed.faces)"
   ]
  },
  {
   "cell_type": "code",
   "execution_count": 16,
   "metadata": {},
   "outputs": [
    {
     "data": {
      "application/vnd.jupyter.widget-view+json": {
       "model_id": "a7ddf38bba8645dda91997f4ca392656",
       "version_major": 2,
       "version_minor": 0
      },
      "text/plain": [
       "Widget(value='<iframe src=\"http://localhost:62081/index.html?ui=P_0x2852f10c090_1&reconnect=auto\" class=\"pyvis…"
      ]
     },
     "metadata": {},
     "output_type": "display_data"
    }
   ],
   "source": [
    "plotter = pv.Plotter(shape=(1, 2))\n",
    "actor = plotter.add_mesh(l_pelvis.mesh, color='lightblue', opacity=0.5, show_edges=True)\n",
    "actor = plotter.add_mesh(pv.PolyData(r_pelvis.mesh), color='lightblue', opacity=0.5, show_edges=True)\n",
    "actor = plotter.add_mesh(pv.PolyData(sacrum.mesh), color='lightblue', opacity=0.5, show_edges=True)\n",
    "actor = plotter.add_mesh(pv.PolyData(osim_bone.to_numpy()),  color='blue', point_size=10.0) \n",
    "actor = plotter.add_mesh(pv.PolyData(osim_bone.to_numpy()),  color='blue', point_size=10.0)\n",
    "actor = plotter.add_mesh(pv.PolyData(osim_muscls_dict['pelvis'].to_numpy()),  color='black', point_size=5.0)\n",
    "actor = plotter.add_mesh(pv.PolyData(np.stack(osim_wraps_dict['pelvis']['translation'].to_numpy())),  color='red', point_size=10.0)  \n",
    "plotter.subplot(0, 1)\n",
    "actor = plotter.add_mesh(l_pelvis_surface_in_child, color='red', opacity=0.5, show_edges=True)\n",
    "actor = plotter.add_mesh(r_pelvis_surface_in_child, color='red', opacity=0.5, show_edges=True)\n",
    "actor = plotter.add_mesh(sacrum_surface_in_child, color='red', opacity=0.5, show_edges=True)\n",
    "actor = plotter.add_mesh(pv.PolyData(pelvis_bone_in_child),  color='blue', point_size=10.0)\n",
    "actor = plotter.add_mesh(pv.PolyData(pelvis_muscles_in_child),  color='black', point_size=5.0)\n",
    "actor = plotter.add_mesh(pv.PolyData(pelvis_wrap_translations_in_child),  color='red', point_size=10.0)\n",
    "\n",
    "plotter.show(jupyter_backend='trame')"
   ]
  },
  {
   "cell_type": "code",
   "execution_count": 17,
   "metadata": {},
   "outputs": [],
   "source": [
    "# record results\n",
    "surfaces = [l_pelvis_surface_in_child, r_pelvis_surface_in_child, sacrum_surface_in_child]\n",
    "surface_names = ['l_pelvis', 'r_pelvis', 'sacrum']\n",
    "\n",
    "bone_markers = pelvis_bone_in_child\n",
    "bone_marker_names = list(mri_dict['pelvis'].index)\n",
    "\n",
    "skin_markers = pelvis_skin_in_child\n",
    "skin_markers_names = list(osim_skin_markers_dict['pelvis'].index)\n",
    "\n",
    "muscle_markers = pelvis_muscles_in_child\n",
    "muscle_marker_names = list(osim_muscls_dict['pelvis'].index)\n",
    "\n",
    "wrap_translations = pelvis_wrap_translations_in_child\n",
    "wrap_names = list(osim_wraps_dict['pelvis']['name'])\n",
    "\n",
    "pelvis_results = ScaleAndRecordData('pelvis', output_path,\n",
    "                                    transformed_bone_markers = bone_markers, bone_marker_names = bone_marker_names,\n",
    "                                    transformed_skin_markers = skin_markers, skin_marker_names = skin_markers_names,\n",
    "                                    transformed_muscle_markers = muscle_markers, muscle_marker_names = muscle_marker_names,\n",
    "                                    transformed_wrap_translations = wrap_translations, wrap_names = wrap_names,\n",
    "                                    list_transformed_surfaces_as_PolyData = surfaces, list_surface_names = surface_names )"
   ]
  },
  {
   "cell_type": "markdown",
   "metadata": {},
   "source": [
    "# femur_r  tps"
   ]
  },
  {
   "cell_type": "code",
   "execution_count": null,
   "metadata": {},
   "outputs": [],
   "source": [
    "mri_dict['femur_r'].index"
   ]
  },
  {
   "cell_type": "code",
   "execution_count": 21,
   "metadata": {},
   "outputs": [
    {
     "data": {
      "application/vnd.jupyter.widget-view+json": {
       "model_id": "7ff8058069a242b6b86af4e1e9f92d1e",
       "version_major": 2,
       "version_minor": 0
      },
      "text/plain": [
       "Widget(value='<iframe src=\"http://localhost:62081/index.html?ui=P_0x2853eb9d810_3&reconnect=auto\" class=\"pyvis…"
      ]
     },
     "metadata": {},
     "output_type": "display_data"
    }
   ],
   "source": [
    "# exclude markers to control for the quality of the spline\n",
    "to_exclude_femur_r = [] #'knee_r_center_in_femur_r','gr_troch_as_r', 'femur_r_poster_diaph_25', 'femur_r_anter_diaph_25', \n",
    "\n",
    "# calculate the spline\n",
    "femur_r_tps = OneBodyTPS('femur_r', osim_dict['femur_r'], \n",
    "                         mri_dict['femur_r'], \n",
    "                        osim_muscle = osim_muscls_dict['femur_r'], \n",
    "                         osim_skin = osim_skin_markers_dict['femur_r'],\n",
    "                         exclude_bone_markers = to_exclude_femur_r)\n",
    "\n",
    "# transform all objects\n",
    "femur_r_osim_bone = osim_dict['femur_r']\n",
    "femur_r_transformed_bone = femur_r_tps.transformed_bone\n",
    "femur_r_transformed_skin = femur_r_tps.transformed_skin\n",
    "femur_r_transformed_muscle = femur_r_tps.transformed_muscle\n",
    "femur_r_transformed_wraps = femur_r_tps.apply_tps_to_wraps(osim_wraps_dict['femur_r'])\n",
    "\n",
    "r_femur = ImportVTP(vtp_path, 'r_femur.stl')\n",
    "femur_r_transformed = femur_r_tps.apply_spline_to_surface(r_femur.mesh)\n",
    "\n",
    "# plot results\n",
    "plotter = pv.Plotter(shape=(1, 2))\n",
    "actor = plotter.add_mesh(r_femur.mesh, color='lightblue', opacity=0.5, show_edges=True)\n",
    "actor = plotter.add_mesh(pv.PolyData(femur_r_osim_bone.to_numpy()),  color='blue', point_size=10.0) \n",
    "plotter.subplot(0, 1)\n",
    "actor = plotter.add_mesh(femur_r_transformed, color='red', opacity=0.5, show_edges=True)\n",
    "actor = plotter.add_mesh(pv.PolyData(femur_r_transformed_bone),  color='blue', point_size=10.0)\n",
    "if len(to_exclude_femur_r) >= 1:\n",
    "    actor = plotter.add_mesh(pv.PolyData(mri_dict['femur_r'].loc[to_exclude_femur_r].to_numpy()), color='green', point_size=10.0)\n",
    "plotter.show(jupyter_backend='trame')\n"
   ]
  },
  {
   "cell_type": "code",
   "execution_count": null,
   "metadata": {},
   "outputs": [],
   "source": [
    "# import adjusted muscles and warping surfaces after control in Slicer\n",
    "if os.path.isfile(os.path.join(control_path, 'new_muscles.csv')) and os.path.isfile(os.path.join(control_path, 'new_wraps.csv')):\n",
    "    muscles = pd.read_csv(os.path.join(control_path, 'new_muscles.csv'),index_col='name')\n",
    "    wraps = pd.read_csv(os.path.join(control_path, 'new_wraps.csv'),index_col='name')\n",
    "\n",
    "    femur_r_m = muscles[muscles['body'] == 'femur_r']\n",
    "    femur_r_w = wraps[wraps['body'] == 'femur_r']\n",
    "\n",
    "    femur_r_transformed_muscle = np.asarray(femur_r_m[['r','a','s']].to_numpy(), dtype = np.float64, order ='C')\n",
    "    femur_r_transformed_wraps[2] = np.asarray(femur_r_w[['r','a','s']].to_numpy(), dtype = np.float64, order ='C')\n"
   ]
  },
  {
   "cell_type": "code",
   "execution_count": null,
   "metadata": {},
   "outputs": [],
   "source": [
    "# create rotations to child\n",
    "bone_markers = list(mri_dict['femur_r'].index)\n",
    "femur_l_axes = GetFemurAxes(femur_r_transformed_bone,\n",
    "                            bone_markers, \n",
    "                            femur_skin_numpy = femur_r_transformed_skin,\n",
    "                            femur_muscles_numpy = femur_r_transformed_muscle,\n",
    "                            femur_wraps_numpy = femur_r_transformed_wraps[2],\n",
    "                            femur_surface_numpy = femur_r_transformed.points)\n",
    "# rotate to child\n",
    "femur_r_bone_in_child = femur_l_axes.bone_transformed\n",
    "femur_r_skin_in_child = femur_l_axes.femur_skin\n",
    "femur_r_muscles_in_child = femur_l_axes.femur_muscles\n",
    "femur_r_wrap_translations_in_child = femur_l_axes.femur_wraps\n",
    "femur_r_surface_in_child = pv.PolyData(femur_l_axes.femur_surface, femur_r_transformed.faces)"
   ]
  },
  {
   "cell_type": "code",
   "execution_count": 24,
   "metadata": {},
   "outputs": [
    {
     "data": {
      "application/vnd.jupyter.widget-view+json": {
       "model_id": "70aeb70e12fd4851b0dff6427cdd2ead",
       "version_major": 2,
       "version_minor": 0
      },
      "text/plain": [
       "Widget(value='<iframe src=\"http://localhost:62081/index.html?ui=P_0x2853eca7e50_4&reconnect=auto\" class=\"pyvis…"
      ]
     },
     "metadata": {},
     "output_type": "display_data"
    }
   ],
   "source": [
    "plotter = pv.Plotter(shape=(1, 2))\n",
    "actor = plotter.add_mesh(r_femur.mesh, color='lightblue', opacity=0.5, show_edges=True)\n",
    "actor = plotter.add_mesh(pv.PolyData(femur_r_osim_bone.to_numpy()),  color='blue', point_size=10.0)\n",
    "actor = plotter.add_mesh(pv.PolyData(osim_muscls_dict['femur_r'].to_numpy()),  color='black', point_size=5.0)\n",
    "actor = plotter.add_mesh(pv.PolyData(np.stack(osim_wraps_dict['femur_r']['translation'].to_numpy())),  color='red', point_size=10.0)  \n",
    "plotter.subplot(0, 1)\n",
    "actor = plotter.add_mesh(femur_r_surface_in_child, color='red', opacity=0.5, show_edges=True)\n",
    "actor = plotter.add_mesh(pv.PolyData(femur_r_bone_in_child),  color='blue', point_size=10.0)\n",
    "actor = plotter.add_mesh(pv.PolyData(femur_r_muscles_in_child),  color='black', point_size=5.0)\n",
    "actor = plotter.add_mesh(pv.PolyData(femur_r_wrap_translations_in_child),  color='red', point_size=10.0)\n",
    "\n",
    "plotter.show(jupyter_backend='trame')"
   ]
  },
  {
   "cell_type": "code",
   "execution_count": 25,
   "metadata": {},
   "outputs": [],
   "source": [
    "\n",
    "# # record results\n",
    "surfaces = [femur_r_surface_in_child]\n",
    "surface_names = ['femur_r']\n",
    "bone_markers = femur_r_bone_in_child\n",
    "bone_marker_names = list(mri_dict['femur_r'].index)\n",
    "\n",
    "skin_markers = femur_r_skin_in_child\n",
    "skin_marker_names = list(osim_skin_markers_dict['femur_r'].index)\n",
    "\n",
    "muscle_markers = femur_r_muscles_in_child\n",
    "muscle_marker_names = list(osim_muscls_dict['femur_r'].index)\n",
    "wrap_translations = femur_r_wrap_translations_in_child\n",
    "wrap_names = list(osim_wraps_dict['femur_r']['name'])\n",
    "\n",
    "femur_r_results = ScaleAndRecordData('femur_r', output_path,\n",
    "                                    transformed_bone_markers = bone_markers, bone_marker_names = bone_marker_names,\n",
    "                                    transformed_skin_markers = skin_markers, skin_marker_names = skin_marker_names,\n",
    "                                    transformed_muscle_markers = muscle_markers, muscle_marker_names = muscle_marker_names,\n",
    "                                    transformed_wrap_translations = wrap_translations, wrap_names = wrap_names,\n",
    "                                    list_transformed_surfaces_as_PolyData = surfaces, list_surface_names = surface_names)"
   ]
  },
  {
   "cell_type": "markdown",
   "metadata": {},
   "source": [
    "# patella_r tps"
   ]
  },
  {
   "cell_type": "code",
   "execution_count": 26,
   "metadata": {},
   "outputs": [
    {
     "data": {
      "application/vnd.jupyter.widget-view+json": {
       "model_id": "7894fff091504bb7be1cdcafaedcdeb9",
       "version_major": 2,
       "version_minor": 0
      },
      "text/plain": [
       "Widget(value='<iframe src=\"http://localhost:62081/index.html?ui=P_0x2856d31d550_5&reconnect=auto\" class=\"pyvis…"
      ]
     },
     "metadata": {},
     "output_type": "display_data"
    }
   ],
   "source": [
    "# exclude markers\n",
    "patella_r_exclude =  None\n",
    "\n",
    "# calculate spline\n",
    "patella_r_tps = OneBodyTPS('patella_r', osim_dict['patella_r'], \n",
    "                         mri_dict['patella_r'], \n",
    "                         osim_muscle = osim_muscls_dict['patella_r'], \n",
    "                         osim_skin = None, \n",
    "                         exclude_bone_markers = patella_r_exclude)\n",
    "\n",
    "# transform objects\n",
    "patella_r_osim_bone = osim_dict['patella_r']\n",
    "patella_r_transformed_bone = patella_r_tps.transformed_bone\n",
    "patella_r_transformed_muscle = patella_r_tps.transformed_muscle\n",
    "\n",
    "r_patella = ImportVTP(vtp_path, 'r_patella.vtp')\n",
    "\n",
    "patella_r_transformed = patella_r_tps.apply_spline_to_surface(r_patella.mesh)\n",
    "\n",
    "\n",
    "# plot results\n",
    "plotter = pv.Plotter(shape=(1, 2))\n",
    "actor = plotter.add_mesh(r_patella.mesh, color='lightblue', opacity=0.5, show_edges=True)\n",
    "actor = plotter.add_mesh(pv.PolyData(patella_r_osim_bone.to_numpy()),  color='blue', point_size=10.0) \n",
    "plotter.subplot(0, 1)\n",
    "actor = plotter.add_mesh(patella_r_transformed, color='red', opacity=0.5, show_edges=True)\n",
    "actor = plotter.add_mesh(pv.PolyData(patella_r_transformed_bone),  color='blue', point_size=10.0)\n",
    "#if len(patella_r_exclude) >= 1:\n",
    "#actor = plotter.add_mesh(pv.PolyData(osim_mri_bone_by_bodies.patella_r_mri.loc[patella_r_exclude].to_numpy()), color='green', point_size=10.0)\n",
    "plotter.show(jupyter_backend='trame')"
   ]
  },
  {
   "cell_type": "code",
   "execution_count": 27,
   "metadata": {},
   "outputs": [],
   "source": [
    "# import adjusted muscles and warping surfaces after control in Slicer\n",
    "if os.path.isfile(os.path.join(control_path, 'new_muscles.csv')) and os.path.isfile(os.path.join(control_path, 'new_wraps.csv')):\n",
    "    muscles = pd.read_csv(os.path.join(control_path, 'new_muscles.csv'),index_col='name')\n",
    "    wraps = pd.read_csv(os.path.join(control_path, 'new_wraps.csv'),index_col='name')\n",
    "\n",
    "    patella_r_m = muscles[muscles['body'] == 'patella_r']\n",
    "    patella_r_transformed_muscle = np.asarray(patella_r_m[['r','a','s']].to_numpy(), dtype = np.float64, order ='C')"
   ]
  },
  {
   "cell_type": "code",
   "execution_count": null,
   "metadata": {},
   "outputs": [],
   "source": [
    "patella_bone_markers = list(mri_dict['patella_r'].index)\n",
    "\n",
    "patella_rotate = femur_l_axes.transform_patella(patella_r_transformed_bone, \n",
    "                                                  patella_bone_markers,\n",
    "                                                  patella_muscles_numpy = patella_r_transformed_muscle,  \n",
    "                                                  patella_surface_numpy = patella_r_transformed.points)\n",
    "\n",
    "patella_r_bone_in_child = patella_rotate[0]\n",
    "patella_r_muscle_in_child = patella_rotate[1] \n",
    "patella_r_surface_in_child = pv.PolyData(patella_rotate[2], patella_r_transformed.faces)"
   ]
  },
  {
   "cell_type": "code",
   "execution_count": 29,
   "metadata": {},
   "outputs": [
    {
     "data": {
      "application/vnd.jupyter.widget-view+json": {
       "model_id": "a449fed23ad94b30b4d9ecde4c2ac906",
       "version_major": 2,
       "version_minor": 0
      },
      "text/plain": [
       "Widget(value='<iframe src=\"http://localhost:62081/index.html?ui=P_0x28578c22590_6&reconnect=auto\" class=\"pyvis…"
      ]
     },
     "metadata": {},
     "output_type": "display_data"
    }
   ],
   "source": [
    "plotter = pv.Plotter(shape=(1, 2))\n",
    "actor = plotter.add_mesh(r_patella.mesh, color='lightblue', opacity=0.5, show_edges=True)\n",
    "actor = plotter.add_mesh(pv.PolyData(patella_r_osim_bone.to_numpy()),  color='blue', point_size=10.0) \n",
    "plotter.subplot(0, 1)\n",
    "actor = plotter.add_mesh(patella_r_surface_in_child, color='red', opacity=0.5, show_edges=True)\n",
    "actor = plotter.add_mesh(pv.PolyData(patella_r_bone_in_child),  color='blue', point_size=10.0)\n",
    "actor = plotter.add_mesh(pv.PolyData(patella_r_muscle_in_child),  color='black', point_size=5.0)\n",
    "plotter.show(jupyter_backend='trame')"
   ]
  },
  {
   "cell_type": "code",
   "execution_count": 30,
   "metadata": {},
   "outputs": [],
   "source": [
    "# # record results\n",
    "surfaces = [patella_r_surface_in_child]\n",
    "surface_names = ['patella_r']\n",
    "bone_markers = patella_r_bone_in_child\n",
    "bone_marker_names = list(mri_dict['patella_r'].index)\n",
    "muscle_markers = patella_r_muscle_in_child\n",
    "muscle_marker_names = list(osim_muscls_dict['patella_r'].index)\n",
    "wrap_translations = []\n",
    "wrap_names = []\n",
    "femur_r_results = ScaleAndRecordData('patella_r', output_path,\n",
    "                                    transformed_bone_markers = bone_markers, bone_marker_names = bone_marker_names,\n",
    "                                    transformed_muscle_markers = muscle_markers, muscle_marker_names = muscle_marker_names,\n",
    "                                    transformed_wrap_translations = wrap_translations, wrap_names = wrap_names,\n",
    "                                    list_transformed_surfaces_as_PolyData = surfaces, list_surface_names = surface_names)"
   ]
  },
  {
   "cell_type": "markdown",
   "metadata": {},
   "source": [
    "# femur_l  tps"
   ]
  },
  {
   "cell_type": "code",
   "execution_count": 50,
   "metadata": {},
   "outputs": [
    {
     "data": {
      "application/vnd.jupyter.widget-view+json": {
       "model_id": "a162d9b1e2884358aedb25e577f5bfed",
       "version_major": 2,
       "version_minor": 0
      },
      "text/plain": [
       "Widget(value='<iframe src=\"http://localhost:62081/index.html?ui=P_0x285d2cb2f90_14&reconnect=auto\" class=\"pyvi…"
      ]
     },
     "metadata": {},
     "output_type": "display_data"
    }
   ],
   "source": [
    "# exclude markers to control for the quality of the spline\n",
    "to_exclude_femur_l = [] #, 'gr_troch_ps_l','gr_troch_lat_l', 'gr_troch_as_l'\n",
    "\n",
    "# calculate the spline\n",
    "femur_l_tps = OneBodyTPS('femur_l', osim_dict['femur_l'], \n",
    "                         mri_dict['femur_l'], \n",
    "                         osim_skin = osim_skin_markers_dict['femur_l'],\n",
    "                         osim_muscle = osim_muscls_dict['femur_l'], \n",
    "                         exclude_bone_markers = to_exclude_femur_l)\n",
    "\n",
    "# transform all objects\n",
    "femur_l_osim_bone = osim_dict['femur_l']\n",
    "femur_l_transformed_bone = femur_l_tps.transformed_bone\n",
    "femur_l_transformed_skin = femur_l_tps.transformed_skin\n",
    "femur_l_transformed_muscle = femur_l_tps.transformed_muscle\n",
    "femur_l_transformed_wraps = femur_l_tps.apply_tps_to_wraps(osim_wraps_dict['femur_l'])\n",
    "\n",
    "l_femur = ImportVTP(vtp_path, 'l_femur.stl')\n",
    "femur_l_transformed = femur_l_tps.apply_spline_to_surface(l_femur.mesh)\n",
    "\n",
    "# plot results\n",
    "plotter = pv.Plotter(shape=(1, 2))\n",
    "actor = plotter.add_mesh(l_femur.mesh, color='lightblue', opacity=0.5, show_edges=True)\n",
    "actor = plotter.add_mesh(pv.PolyData(femur_l_osim_bone.to_numpy()),  color='blue', point_size=10.0) \n",
    "plotter.subplot(0, 1)\n",
    "actor = plotter.add_mesh(femur_l_transformed, color='red', opacity=0.5, show_edges=True)\n",
    "actor = plotter.add_mesh(pv.PolyData(femur_l_transformed_bone),  color='blue', point_size=10.0)\n",
    "if len(to_exclude_femur_l) >= 1:\n",
    "    actor = plotter.add_mesh(pv.PolyData(mri_dict['femur_l'].loc[to_exclude_femur_l].to_numpy()), color='green', point_size=10.0)\n",
    "plotter.show(jupyter_backend='trame')"
   ]
  },
  {
   "cell_type": "code",
   "execution_count": 54,
   "metadata": {},
   "outputs": [],
   "source": [
    "# import adjusted muscles and warping surfaces after control in Slicer\n",
    "if os.path.isfile(os.path.join(control_path, 'new_muscles.csv')) and os.path.isfile(os.path.join(control_path, 'new_wraps.csv')):\n",
    "    muscles = pd.read_csv(os.path.join(control_path, 'new_muscles.csv'),index_col='name')\n",
    "    wraps = pd.read_csv(os.path.join(control_path, 'new_wraps.csv'),index_col='name')\n",
    "\n",
    "    femur_r_m = muscles[muscles['body'] == 'femur_l']\n",
    "    femur_r_w = wraps[wraps['body'] == 'femur_l']\n",
    "\n",
    "    femur_l_transformed_muscle = np.asarray(femur_r_m[['r','a','s']].to_numpy(), dtype = np.float64, order ='C')\n",
    "    femur_l_transformed_wraps[2] = np.asarray(femur_r_w[['r','a','s']].to_numpy(), dtype = np.float64, order ='C')"
   ]
  },
  {
   "cell_type": "code",
   "execution_count": 55,
   "metadata": {},
   "outputs": [],
   "source": [
    "# create rotations to child\n",
    "bone_markers = list(mri_dict['femur_l'].index)\n",
    "femur_l_axes = GetFemurAxes(femur_l_transformed_bone,\n",
    "                            bone_markers, \n",
    "                            femur_skin_numpy = femur_l_transformed_skin,\n",
    "                            femur_muscles_numpy = femur_l_transformed_muscle,\n",
    "                            femur_wraps_numpy = femur_l_transformed_wraps[2],\n",
    "                            femur_surface_numpy = femur_l_transformed.points)\n",
    "# rotate to child\n",
    "femur_l_bone_in_child = femur_l_axes.bone_transformed\n",
    "femur_l_skin_in_child = femur_l_axes.femur_skin\n",
    "femur_l_muscles_in_child = femur_l_axes.femur_muscles\n",
    "femur_l_wrap_translations_in_child = femur_l_axes.femur_wraps\n",
    "femur_l_surface_in_child = pv.PolyData(femur_l_axes.femur_surface, femur_l_transformed.faces)"
   ]
  },
  {
   "cell_type": "code",
   "execution_count": 56,
   "metadata": {},
   "outputs": [
    {
     "data": {
      "application/vnd.jupyter.widget-view+json": {
       "model_id": "35b7c7954d874ac5bb65c846cd1cece9",
       "version_major": 2,
       "version_minor": 0
      },
      "text/plain": [
       "Widget(value='<iframe src=\"http://localhost:62081/index.html?ui=P_0x285b874a4d0_16&reconnect=auto\" class=\"pyvi…"
      ]
     },
     "metadata": {},
     "output_type": "display_data"
    }
   ],
   "source": [
    "# plot results of the rotation\n",
    "plotter = pv.Plotter(shape=(1, 2))\n",
    "actor = plotter.add_mesh(l_femur.mesh, color='lightblue', opacity=0.5, show_edges=True)\n",
    "actor = plotter.add_mesh(pv.PolyData(femur_l_osim_bone.to_numpy()),  color='blue', point_size=10.0)\n",
    "actor = plotter.add_mesh(pv.PolyData(osim_muscls_dict['femur_l'].to_numpy()),  color='black', point_size=5.0)\n",
    "actor = plotter.add_mesh(pv.PolyData(np.stack(osim_wraps_dict['femur_l']['translation'].to_numpy())),  color='red', point_size=10.0)  \n",
    "plotter.subplot(0, 1)\n",
    "actor = plotter.add_mesh(femur_l_surface_in_child, color='red', opacity=0.5, show_edges=True)\n",
    "actor = plotter.add_mesh(pv.PolyData(femur_l_bone_in_child),  color='blue', point_size=10.0)\n",
    "actor = plotter.add_mesh(pv.PolyData(femur_l_muscles_in_child),  color='black', point_size=5.0)\n",
    "actor = plotter.add_mesh(pv.PolyData(femur_l_wrap_translations_in_child),  color='red', point_size=10.0)\n",
    "\n",
    "plotter.show(jupyter_backend='trame')"
   ]
  },
  {
   "cell_type": "code",
   "execution_count": 57,
   "metadata": {},
   "outputs": [],
   "source": [
    "\n",
    "# record results\n",
    "surfaces = [femur_l_surface_in_child]\n",
    "surface_names = ['femur_l']\n",
    "bone_markers = femur_l_bone_in_child\n",
    "bone_marker_names = list(mri_dict['femur_l'].index)\n",
    "\n",
    "skin_markers = femur_l_skin_in_child\n",
    "skin_marker_names = list(osim_skin_markers_dict['femur_l'].index)\n",
    "\n",
    "muscle_markers = femur_l_muscles_in_child\n",
    "muscle_marker_names = list(osim_muscls_dict['femur_l'].index)\n",
    "wrap_translations = femur_l_wrap_translations_in_child\n",
    "wrap_names = list(osim_wraps_dict['femur_l']['name'])\n",
    "\n",
    "femur_r_results = ScaleAndRecordData('femur_l', output_path,\n",
    "                                    transformed_bone_markers = bone_markers, bone_marker_names = bone_marker_names,\n",
    "                                    transformed_skin_markers = skin_markers, skin_marker_names = skin_marker_names,\n",
    "                                    transformed_muscle_markers = muscle_markers, muscle_marker_names = muscle_marker_names,\n",
    "                                    transformed_wrap_translations = wrap_translations, wrap_names = wrap_names,\n",
    "                                    list_transformed_surfaces_as_PolyData = surfaces, list_surface_names = surface_names)"
   ]
  },
  {
   "cell_type": "markdown",
   "metadata": {},
   "source": [
    "# patella_l  tps"
   ]
  },
  {
   "cell_type": "code",
   "execution_count": 58,
   "metadata": {},
   "outputs": [
    {
     "data": {
      "application/vnd.jupyter.widget-view+json": {
       "model_id": "9c270b9bb74b451ea50927706c000ad9",
       "version_major": 2,
       "version_minor": 0
      },
      "text/plain": [
       "Widget(value='<iframe src=\"http://localhost:62081/index.html?ui=P_0x285b8771cd0_17&reconnect=auto\" class=\"pyvi…"
      ]
     },
     "metadata": {},
     "output_type": "display_data"
    }
   ],
   "source": [
    "patella_l_exclude =  None\n",
    "\n",
    "patella_l_tps = OneBodyTPS('patella_l', osim_dict['patella_l'], \n",
    "                         mri_dict['patella_l'], \n",
    "                         osim_muscle = osim_muscls_dict['patella_l'], \n",
    "                         osim_skin = None,\n",
    "                         exclude_bone_markers = patella_l_exclude)\n",
    "\n",
    "patella_l_osim_bone = osim_dict['patella_l']\n",
    "patella_l_transformed_bone = patella_l_tps.transformed_bone\n",
    "patella_l_transformed_muscle = patella_l_tps.transformed_muscle\n",
    "\n",
    "l_patella = ImportVTP(vtp_path, 'l_patella.vtp')\n",
    "\n",
    "patella_l_transformed = patella_l_tps.apply_spline_to_surface(l_patella.mesh)\n",
    "\n",
    "plotter = pv.Plotter(shape=(1, 2))\n",
    "actor = plotter.add_mesh(l_patella.mesh, color='lightblue', opacity=0.5, show_edges=True)\n",
    "actor = plotter.add_mesh(pv.PolyData(patella_l_osim_bone.to_numpy()),  color='blue', point_size=10.0) \n",
    "plotter.subplot(0, 1)\n",
    "actor = plotter.add_mesh(patella_l_transformed, color='red', opacity=0.5, show_edges=True)\n",
    "actor = plotter.add_mesh(pv.PolyData(patella_l_transformed_bone),  color='blue', point_size=10.0)\n",
    "# if len(patella_r_exclude) >= 1:\n",
    "#actor = plotter.add_mesh(pv.PolyData(osim_mri_bone_by_bodies.patella_r_mri.loc[patella_r_exclude].to_numpy()), color='green', point_size=10.0)\n",
    "plotter.show(jupyter_backend='trame')"
   ]
  },
  {
   "cell_type": "code",
   "execution_count": 59,
   "metadata": {},
   "outputs": [],
   "source": [
    "# import adjusted muscles and warping surfaces after control in Slicer\n",
    "if os.path.isfile(os.path.join(control_path, 'new_muscles.csv')) and os.path.isfile(os.path.join(control_path, 'new_wraps.csv')):\n",
    "    muscles = pd.read_csv(os.path.join(control_path, 'new_muscles.csv'),index_col='name')\n",
    "    wraps = pd.read_csv(os.path.join(control_path, 'new_wraps.csv'),index_col='name')\n",
    "\n",
    "    patella_l_m = muscles[muscles['body'] == 'patella_l']\n",
    "    patella_l_transformed_muscle = np.asarray(patella_l_m[['r','a','s']].to_numpy(), dtype = np.float64, order ='C')"
   ]
  },
  {
   "cell_type": "code",
   "execution_count": 60,
   "metadata": {},
   "outputs": [
    {
     "data": {
      "application/vnd.jupyter.widget-view+json": {
       "model_id": "2b003b912c05401a86f6ebcbd10b9b81",
       "version_major": 2,
       "version_minor": 0
      },
      "text/plain": [
       "Widget(value='<iframe src=\"http://localhost:62081/index.html?ui=P_0x2859aaf6650_18&reconnect=auto\" class=\"pyvi…"
      ]
     },
     "metadata": {},
     "output_type": "display_data"
    }
   ],
   "source": [
    "patella_bone_markers = list(mri_dict['patella_l'].index)\n",
    "\n",
    "patella_rotate = femur_l_axes.transform_patella(patella_l_transformed_bone, \n",
    "                                                  patella_bone_markers,\n",
    "                                                  patella_muscles_numpy = patella_l_transformed_muscle,  \n",
    "                                                  patella_surface_numpy = patella_l_transformed.points)\n",
    "\n",
    "patella_l_bone_in_child = patella_rotate[0]\n",
    "patella_l_muscle_in_child = patella_rotate[1] \n",
    "patella_l_surface_in_child = pv.PolyData(patella_rotate[2], patella_l_transformed.faces)\n",
    "\n",
    "plotter = pv.Plotter(shape=(1, 2))\n",
    "actor = plotter.add_mesh(l_patella.mesh, color='lightblue', opacity=0.5, show_edges=True)\n",
    "actor = plotter.add_mesh(pv.PolyData(patella_l_osim_bone.to_numpy()),  color='blue', point_size=10.0) \n",
    "plotter.subplot(0, 1)\n",
    "actor = plotter.add_mesh(patella_l_surface_in_child, color='red', opacity=0.5, show_edges=True)\n",
    "actor = plotter.add_mesh(pv.PolyData(patella_l_bone_in_child),  color='blue', point_size=10.0)\n",
    "actor = plotter.add_mesh(pv.PolyData(patella_l_muscle_in_child),  color='black', point_size=5.0)\n",
    "plotter.show(jupyter_backend='trame')"
   ]
  },
  {
   "cell_type": "code",
   "execution_count": 61,
   "metadata": {},
   "outputs": [],
   "source": [
    "# record results\n",
    "surfaces = [patella_l_surface_in_child]\n",
    "surface_names = ['patella_l']\n",
    "bone_markers = patella_l_bone_in_child\n",
    "bone_marker_names = list(mri_dict['patella_l'].index)\n",
    "muscle_markers = patella_l_muscle_in_child\n",
    "muscle_marker_names = list(osim_muscls_dict['patella_l'].index)\n",
    "wrap_translations = []\n",
    "wrap_names = []\n",
    "femur_r_results = ScaleAndRecordData('patella_l', output_path,\n",
    "                                    transformed_bone_markers = bone_markers, bone_marker_names = bone_marker_names,\n",
    "                                    transformed_muscle_markers = muscle_markers, muscle_marker_names = muscle_marker_names,\n",
    "                                    transformed_wrap_translations = wrap_translations, wrap_names = wrap_names,\n",
    "                                    list_transformed_surfaces_as_PolyData = surfaces, list_surface_names = surface_names)"
   ]
  },
  {
   "cell_type": "markdown",
   "metadata": {},
   "source": [
    "# tibia_r tps"
   ]
  },
  {
   "cell_type": "code",
   "execution_count": 62,
   "metadata": {},
   "outputs": [
    {
     "data": {
      "application/vnd.jupyter.widget-view+json": {
       "model_id": "40f198f3b493473b8a3ee4d2d5b9f4cc",
       "version_major": 2,
       "version_minor": 0
      },
      "text/plain": [
       "Widget(value='<iframe src=\"http://localhost:62081/index.html?ui=P_0x285e4552e10_19&reconnect=auto\" class=\"pyvi…"
      ]
     },
     "metadata": {},
     "output_type": "display_data"
    }
   ],
   "source": [
    "tibia_r_exclude =  [] #'tibia_r_anter_diaph_75',\n",
    "\n",
    "tibia_r_tps = OneBodyTPS('tibia_r', osim_dict['tibia_r'], \n",
    "                         mri_dict['tibia_r'], \n",
    "                         osim_skin = osim_skin_markers_dict['tibia_r'],\n",
    "                         osim_muscle = osim_muscls_dict['tibia_r'], \n",
    "                         exclude_bone_markers = tibia_r_exclude)\n",
    "\n",
    "tibia_r_osim_bone = osim_dict['tibia_r']\n",
    "tibia_r_transformed_bone = tibia_r_tps.transformed_bone\n",
    "tibia_r_transformed_skin = tibia_r_tps.transformed_skin\n",
    "tibia_r_transformed_muscle = tibia_r_tps.transformed_muscle\n",
    "tibia_r_transformed_wraps = tibia_r_tps.apply_tps_to_wraps(osim_wraps_dict['tibia_r'])\n",
    "\n",
    "r_tibia = ImportVTP(vtp_path, 'r_tibia.stl')\n",
    "r_fibula = ImportVTP(vtp_path, 'r_fibula.stl')\n",
    "\n",
    "tibia_r_transformed = tibia_r_tps.apply_spline_to_surface(r_tibia.mesh)\n",
    "fibula_r_transformed = tibia_r_tps.apply_spline_to_surface(r_fibula.mesh)\n",
    "\n",
    "plotter = pv.Plotter(shape=(1, 2))\n",
    "actor = plotter.add_mesh(r_tibia.mesh, color='lightblue', opacity=0.5, show_edges=True)\n",
    "actor = plotter.add_mesh(r_fibula.mesh, color='lightblue', opacity=0.5, show_edges=True)\n",
    "actor = plotter.add_mesh(pv.PolyData(tibia_r_osim_bone.to_numpy()),  color='blue', point_size=10.0) \n",
    "plotter.subplot(0, 1)\n",
    "actor = plotter.add_mesh(tibia_r_transformed, color='red', opacity=0.5, show_edges=True)\n",
    "actor = plotter.add_mesh(fibula_r_transformed, color='red', opacity=0.5, show_edges=True)\n",
    "actor = plotter.add_mesh(pv.PolyData(tibia_r_transformed_bone),  color='blue', point_size=10.0)\n",
    "if len(tibia_r_exclude) >= 1:\n",
    "    actor = plotter.add_mesh(pv.PolyData(mri_dict['tibia_r'].loc[tibia_r_exclude].to_numpy()), color='green', point_size=10.0)\n",
    "plotter.show(jupyter_backend='trame')"
   ]
  },
  {
   "cell_type": "code",
   "execution_count": 37,
   "metadata": {},
   "outputs": [],
   "source": [
    "# import adjusted muscles and warping surfaces after control in Slicer\n",
    "if os.path.isfile(os.path.join(control_path, 'new_muscles.csv')) and os.path.isfile(os.path.join(control_path, 'new_wraps.csv')):\n",
    "    muscles = pd.read_csv(os.path.join(control_path, 'new_muscles.csv'),index_col='name')\n",
    "    wraps = pd.read_csv(os.path.join(control_path, 'new_wraps.csv'),index_col='name')\n",
    "\n",
    "    tibia_r_m = muscles[muscles['body'] == 'tibia_r']\n",
    "    tibia_r_w = wraps[wraps['body'] == 'tibia_r']\n",
    "\n",
    "    tibia_r_transformed_muscle = np.asarray(tibia_r_m[['r','a','s']].to_numpy(), dtype = np.float64, order ='C')\n",
    "    tibia_r_transformed_wraps[2] = np.asarray(tibia_r_w[['r','a','s']].to_numpy(), dtype = np.float64, order ='C')"
   ]
  },
  {
   "cell_type": "code",
   "execution_count": 38,
   "metadata": {},
   "outputs": [
    {
     "name": "stdout",
     "output_type": "stream",
     "text": [
      "the determinant is less than zero, recalculate r\n"
     ]
    }
   ],
   "source": [
    "# create a rotation to child\n",
    "bone_markers = list(mri_dict['tibia_r'].index)\n",
    "\n",
    "tibia_r_axes = GetTibiaAxes(bone_markers = bone_markers, bone_numpy = tibia_r_transformed_bone)\n",
    "\n",
    "# apply the rotaion\n",
    "tibia_r_bone_in_child = tibia_r_axes.bone_transformed\n",
    "tibia_r_skin_in_child = tibia_r_axes.apply_to_not_bone(tibia_r_transformed_skin)\n",
    "tibia_r_muscles_in_child = tibia_r_axes.apply_to_not_bone(tibia_r_transformed_muscle)\n",
    "tibia_r_wrap_translations_in_child = tibia_r_axes.apply_to_not_bone(tibia_r_transformed_wraps[2])\n",
    "\n",
    "tibia_r_surface_in_child = pv.PolyData(\n",
    "    tibia_r_axes.apply_to_not_bone(tibia_r_transformed.points), \n",
    "    tibia_r_transformed.faces)\n",
    "\n",
    "fibula_r_surface_in_child = pv.PolyData(\n",
    "    tibia_r_axes.apply_to_not_bone(fibula_r_transformed.points), \n",
    "    fibula_r_transformed.faces)"
   ]
  },
  {
   "cell_type": "code",
   "execution_count": 39,
   "metadata": {},
   "outputs": [
    {
     "data": {
      "application/vnd.jupyter.widget-view+json": {
       "model_id": "527f399c4a6b4852998d37f5bd660759",
       "version_major": 2,
       "version_minor": 0
      },
      "text/plain": [
       "Widget(value='<iframe src=\"http://localhost:62081/index.html?ui=P_0x285975f8e50_10&reconnect=auto\" class=\"pyvi…"
      ]
     },
     "metadata": {},
     "output_type": "display_data"
    }
   ],
   "source": [
    "# plot results of the rotation\n",
    "plotter = pv.Plotter(shape=(1, 2))\n",
    "actor = plotter.add_mesh(r_tibia.mesh, color='lightblue', opacity=0.5, show_edges=True)\n",
    "actor = plotter.add_mesh(r_fibula.mesh, color='lightblue', opacity=0.5, show_edges=True)\n",
    "actor = plotter.add_mesh(pv.PolyData(tibia_r_osim_bone.to_numpy()),  color='blue', point_size=10.0)\n",
    "actor = plotter.add_mesh(pv.PolyData(osim_muscls_dict['tibia_r'].to_numpy()),  color='black', point_size=5.0)\n",
    "actor = plotter.add_mesh(pv.PolyData(np.stack(osim_wraps_dict['tibia_r']['translation'].to_numpy())),  color='red', point_size=10.0)  \n",
    "plotter.subplot(0, 1)\n",
    "actor = plotter.add_mesh(tibia_r_surface_in_child, color='red', opacity=0.5, show_edges=True)\n",
    "actor = plotter.add_mesh(fibula_r_surface_in_child, color='red', opacity=0.5, show_edges=True)\n",
    "actor = plotter.add_mesh(pv.PolyData(tibia_r_bone_in_child),  color='blue', point_size=10.0)\n",
    "actor = plotter.add_mesh(pv.PolyData(tibia_r_muscles_in_child),  color='black', point_size=5.0)\n",
    "actor = plotter.add_mesh(pv.PolyData(tibia_r_wrap_translations_in_child),  color='red', point_size=10.0)\n",
    "\n",
    "plotter.show(jupyter_backend='trame')"
   ]
  },
  {
   "cell_type": "code",
   "execution_count": 40,
   "metadata": {},
   "outputs": [],
   "source": [
    "# record results\n",
    "surfaces = [tibia_r_surface_in_child, fibula_r_surface_in_child]\n",
    "surface_names = ['tibia_r', 'fibula_r']\n",
    "bone_markers = tibia_r_bone_in_child\n",
    "bone_marker_names = list(mri_dict['tibia_r'].index)\n",
    "skin_markers = tibia_r_skin_in_child\n",
    "skin_marker_names = list(osim_skin_markers_dict['tibia_r'].index)\n",
    "muscle_markers = tibia_r_muscles_in_child\n",
    "muscle_marker_names = list(osim_muscls_dict['tibia_r'].index)\n",
    "wrap_translations = tibia_r_wrap_translations_in_child\n",
    "wrap_names = list(osim_wraps_dict['tibia_r']['name'])\n",
    "\n",
    "pelvis_results = ScaleAndRecordData('tibia_r', output_path,\n",
    "                                    transformed_bone_markers = bone_markers, bone_marker_names = bone_marker_names,\n",
    "                                    transformed_skin_markers = skin_markers, skin_marker_names = skin_marker_names,\n",
    "                                    transformed_muscle_markers = muscle_markers, muscle_marker_names = muscle_marker_names,\n",
    "                                    transformed_wrap_translations = wrap_translations, wrap_names = wrap_names,\n",
    "                                    list_transformed_surfaces_as_PolyData = surfaces, list_surface_names = surface_names )"
   ]
  },
  {
   "cell_type": "markdown",
   "metadata": {},
   "source": [
    "# tibia_l  tps"
   ]
  },
  {
   "cell_type": "code",
   "execution_count": 41,
   "metadata": {},
   "outputs": [
    {
     "data": {
      "application/vnd.jupyter.widget-view+json": {
       "model_id": "e1ff5e68cf0f4683891435e3e465cd16",
       "version_major": 2,
       "version_minor": 0
      },
      "text/plain": [
       "Widget(value='<iframe src=\"http://localhost:62081/index.html?ui=P_0x285976cdf50_11&reconnect=auto\" class=\"pyvi…"
      ]
     },
     "metadata": {},
     "output_type": "display_data"
    }
   ],
   "source": [
    "tibia_l_exclude = []\n",
    "\n",
    "tibia_l_tps = OneBodyTPS('tibia_l', osim_dict['tibia_l'], \n",
    "                         mri_dict['tibia_l'], \n",
    "                         osim_muscle = osim_muscls_dict['tibia_l'], \n",
    "                         osim_skin = osim_skin_markers_dict['tibia_l'],\n",
    "                         exclude_bone_markers = tibia_l_exclude)\n",
    "\n",
    "tibia_l_osim_bone = osim_dict['tibia_l']\n",
    "tibia_l_transformed_bone = tibia_l_tps.transformed_bone\n",
    "tibia_l_transformed_muscle = tibia_l_tps.transformed_muscle\n",
    "tibia_l_transformed_skin = tibia_l_tps.transformed_skin\n",
    "tibia_l_transformed_wraps = tibia_l_tps.apply_tps_to_wraps(osim_wraps_dict['tibia_l'])\n",
    "\n",
    "l_tibia = ImportVTP(vtp_path, 'l_tibia.stl')\n",
    "l_fibula = ImportVTP(vtp_path, 'l_fibula.stl')\n",
    "\n",
    "tibia_l_transformed = tibia_l_tps.apply_spline_to_surface(l_tibia.mesh)\n",
    "fibula_l_transformed = tibia_l_tps.apply_spline_to_surface(l_fibula.mesh)\n",
    "\n",
    "plotter = pv.Plotter(shape=(1, 2))\n",
    "actor = plotter.add_mesh(l_tibia.mesh, color='lightblue', opacity=0.5, show_edges=True)\n",
    "actor = plotter.add_mesh(l_fibula.mesh, color='lightblue', opacity=0.5, show_edges=True)\n",
    "actor = plotter.add_mesh(pv.PolyData(tibia_l_osim_bone.to_numpy()),  color='blue', point_size=10.0) \n",
    "plotter.subplot(0, 1)\n",
    "actor = plotter.add_mesh(tibia_l_transformed, color='red', opacity=0.5, show_edges=True)\n",
    "actor = plotter.add_mesh(fibula_l_transformed, color='red', opacity=0.5, show_edges=True)\n",
    "actor = plotter.add_mesh(pv.PolyData(tibia_l_transformed_bone),  color='blue', point_size=10.0)\n",
    "if len(tibia_l_exclude) >= 1:\n",
    "    actor = plotter.add_mesh(pv.PolyData(mri_dict['tibia_l'].loc[tibia_l_exclude].to_numpy()), color='green', point_size=10.0)\n",
    "plotter.show(jupyter_backend='trame')"
   ]
  },
  {
   "cell_type": "code",
   "execution_count": 42,
   "metadata": {},
   "outputs": [],
   "source": [
    "# #record results into the control folder\n",
    "tibia_l_transformed_bone_df = pd.DataFrame(tibia_l_transformed_bone, index=tibia_l_osim_bone.index, columns=tibia_l_osim_bone.columns)\n",
    "tibia_l_transformed_skin_df = pd.DataFrame(tibia_l_transformed_skin, index=osim_skin_markers_dict['tibia_l'].index, columns=osim_skin_markers_dict['tibia_l'].columns)\n",
    "tibia_l_transformed_muscle_df = pd.DataFrame(tibia_l_transformed_muscle, index=osim_muscls_dict['tibia_l'].index, columns=osim_muscls_dict['tibia_l'].columns)\n",
    "tibia_l_transformed_wraps_translation_df = pd.DataFrame(tibia_l_transformed_wraps[2], index=osim_wraps_dict['tibia_l']['name'], columns=['r', 'a', 's'])\n",
    "\n",
    "tibia_l_transformed_bone_df.to_csv(os.path.join(control_path, 'tibia_l_transformed_bone.csv'))\n",
    "tibia_l_transformed_skin_df.to_csv(os.path.join(control_path, 'tibia_l_transformed_skin.csv'))\n",
    "tibia_l_transformed_muscle_df.to_csv(os.path.join(control_path, 'tibia_l_transformed_muscle.csv'))\n",
    "tibia_l_transformed_wraps_translation_df.to_csv(os.path.join(control_path, 'tibia_l_transformed_wraps_translation.csv'))\n",
    "\n",
    "tibia_l_transformed.save(os.path.join(control_path, f'tibia_l_transformed.stl'))\n",
    "fibula_l_transformed.save(os.path.join(control_path, f'fibula_l_transformed.stl'))"
   ]
  },
  {
   "cell_type": "code",
   "execution_count": 43,
   "metadata": {},
   "outputs": [],
   "source": [
    "# import adjusted muscles and warping surfaces after control in Slicer\n",
    "if os.path.isfile(os.path.join(control_path, 'new_muscles.csv')) and os.path.isfile(os.path.join(control_path, 'new_wraps.csv')):\n",
    "    muscles = pd.read_csv(os.path.join(control_path, 'new_muscles.csv'),index_col='name')\n",
    "    wraps = pd.read_csv(os.path.join(control_path, 'new_wraps.csv'),index_col='name')\n",
    "\n",
    "    tibia_l_m = muscles[muscles['body'] == 'tibia_l']\n",
    "    tibia_l_w = wraps[wraps['body'] == 'tibia_l']\n",
    "\n",
    "    tibia_l_transformed_muscle = np.asarray(tibia_l_m[['r','a','s']].to_numpy(), dtype = np.float64, order ='C')\n",
    "    tibia_l_transformed_wraps[2] = np.asarray(tibia_l_w[['r','a','s']].to_numpy(), dtype = np.float64, order ='C')"
   ]
  },
  {
   "cell_type": "code",
   "execution_count": 44,
   "metadata": {},
   "outputs": [],
   "source": [
    "bone_markers = list(mri_dict['tibia_l'].index)\n",
    "\n",
    "tibia_l_axes = GetTibiaAxes(bone_markers = bone_markers, bone_numpy = tibia_l_transformed_bone)\n",
    "tibia_l_bone_in_child = tibia_l_axes.bone_transformed\n",
    "tibia_l_skin_in_child = tibia_l_axes.apply_to_not_bone(tibia_l_transformed_skin)\n",
    "tibia_l_muscles_in_child = tibia_l_axes.apply_to_not_bone(tibia_l_transformed_muscle)\n",
    "tibia_l_wrap_translations_in_child = tibia_l_axes.apply_to_not_bone(tibia_l_transformed_wraps[2])\n",
    "\n",
    "tibia_l_surface_in_child = pv.PolyData(\n",
    "    tibia_l_axes.apply_to_not_bone(tibia_l_transformed.points), \n",
    "    tibia_l_transformed.faces)\n",
    "\n",
    "fibula_l_surface_in_child = pv.PolyData(\n",
    "    tibia_l_axes.apply_to_not_bone(fibula_l_transformed.points), \n",
    "    fibula_l_transformed.faces)"
   ]
  },
  {
   "cell_type": "code",
   "execution_count": 45,
   "metadata": {},
   "outputs": [
    {
     "data": {
      "application/vnd.jupyter.widget-view+json": {
       "model_id": "e8a6eb2a03b94d4bbd1f5fc568a7dd6d",
       "version_major": 2,
       "version_minor": 0
      },
      "text/plain": [
       "Widget(value='<iframe src=\"http://localhost:62081/index.html?ui=P_0x2859aadb090_12&reconnect=auto\" class=\"pyvi…"
      ]
     },
     "metadata": {},
     "output_type": "display_data"
    }
   ],
   "source": [
    "plotter = pv.Plotter(shape=(1, 2))\n",
    "actor = plotter.add_mesh(l_tibia.mesh, color='lightblue', opacity=0.5, show_edges=True)\n",
    "actor = plotter.add_mesh(l_fibula.mesh, color='lightblue', opacity=0.5, show_edges=True)\n",
    "actor = plotter.add_mesh(pv.PolyData(tibia_l_osim_bone.to_numpy()),  color='blue', point_size=10.0)\n",
    "actor = plotter.add_mesh(pv.PolyData(osim_muscls_dict['tibia_l'].to_numpy()),  color='black', point_size=5.0)\n",
    "actor = plotter.add_mesh(pv.PolyData(np.stack(osim_wraps_dict['tibia_l']['translation'].to_numpy())),  color='red', point_size=10.0)  \n",
    "plotter.subplot(0, 1)\n",
    "actor = plotter.add_mesh(tibia_l_surface_in_child, color='red', opacity=0.5, show_edges=True)\n",
    "actor = plotter.add_mesh(fibula_l_surface_in_child, color='red', opacity=0.5, show_edges=True)\n",
    "actor = plotter.add_mesh(pv.PolyData(tibia_l_bone_in_child),  color='blue', point_size=10.0)\n",
    "actor = plotter.add_mesh(pv.PolyData(tibia_l_muscles_in_child),  color='black', point_size=5.0)\n",
    "actor = plotter.add_mesh(pv.PolyData(tibia_l_wrap_translations_in_child),  color='red', point_size=10.0)\n",
    "\n",
    "plotter.show(jupyter_backend='trame')"
   ]
  },
  {
   "cell_type": "code",
   "execution_count": 46,
   "metadata": {},
   "outputs": [],
   "source": [
    "# record results\n",
    "surfaces = [tibia_l_surface_in_child, fibula_l_surface_in_child]\n",
    "surface_names = ['tibia_l', 'fibula_l']\n",
    "bone_markers = tibia_l_bone_in_child\n",
    "bone_marker_names = list(mri_dict['tibia_l'].index)\n",
    "skin_markers = tibia_l_skin_in_child\n",
    "skin_marker_names = list(osim_skin_markers_dict['tibia_l'].index)\n",
    "muscle_markers = tibia_l_muscles_in_child\n",
    "muscle_marker_names = list(osim_muscls_dict['tibia_l'].index)\n",
    "wrap_translations = tibia_l_wrap_translations_in_child\n",
    "wrap_names = list(osim_wraps_dict['tibia_l']['name'])\n",
    "\n",
    "pelvis_results = ScaleAndRecordData('tibia_l', output_path,\n",
    "                                    transformed_bone_markers = bone_markers, bone_marker_names = bone_marker_names,\n",
    "                                    transformed_skin_markers = skin_markers, skin_marker_names = skin_marker_names,\n",
    "                                    transformed_muscle_markers = muscle_markers, muscle_marker_names = muscle_marker_names,\n",
    "                                    transformed_wrap_translations = wrap_translations, wrap_names = wrap_names,\n",
    "                                    list_transformed_surfaces_as_PolyData = surfaces, list_surface_names = surface_names )"
   ]
  }
 ],
 "metadata": {
  "kernelspec": {
   "display_name": "py311",
   "language": "python",
   "name": "python3"
  },
  "language_info": {
   "codemirror_mode": {
    "name": "ipython",
    "version": 3
   },
   "file_extension": ".py",
   "mimetype": "text/x-python",
   "name": "python",
   "nbconvert_exporter": "python",
   "pygments_lexer": "ipython3",
   "version": "3.11.11"
  }
 },
 "nbformat": 4,
 "nbformat_minor": 2
}
